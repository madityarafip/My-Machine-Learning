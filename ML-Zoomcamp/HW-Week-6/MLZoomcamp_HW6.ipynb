{
 "cells": [
  {
   "cell_type": "markdown",
   "id": "75e48b60",
   "metadata": {},
   "source": [
    "# LIBRARY"
   ]
  },
  {
   "cell_type": "code",
   "execution_count": 1,
   "id": "da37c297",
   "metadata": {},
   "outputs": [],
   "source": [
    "import pandas as pd\n",
    "import numpy as np\n",
    " \n",
    "import seaborn as sns\n",
    "from matplotlib import pyplot as plt\n",
    "\n",
    "from sklearn.model_selection import train_test_split\n",
    "from sklearn.tree import DecisionTreeRegressor\n",
    "from sklearn.feature_extraction import DictVectorizer\n",
    "from sklearn.metrics import roc_auc_score\n",
    "from sklearn.tree import export_text\n",
    "from sklearn.ensemble import RandomForestRegressor\n",
    "\n",
    "\n",
    "from IPython.display import display\n",
    "\n",
    "import xgboost as xgb"
   ]
  },
  {
   "cell_type": "markdown",
   "id": "3d443e03",
   "metadata": {},
   "source": [
    "# DATASET"
   ]
  },
  {
   "cell_type": "code",
   "execution_count": 2,
   "id": "b1c65199",
   "metadata": {},
   "outputs": [
    {
     "name": "stderr",
     "output_type": "stream",
     "text": [
      "--2021-10-12 22:34:10--  https://raw.githubusercontent.com/madityarafip/My-Machine-Learning/main/Dataset/AB_NYC_2019.csv\n",
      "Resolving raw.githubusercontent.com (raw.githubusercontent.com)... 185.199.108.133, 185.199.109.133, 185.199.110.133, ...\n",
      "Connecting to raw.githubusercontent.com (raw.githubusercontent.com)|185.199.108.133|:443... connected.\n",
      "WARNING: cannot verify raw.githubusercontent.com's certificate, issued by 'CN=DigiCert SHA2 High Assurance Server CA,OU=www.digicert.com,O=DigiCert Inc,C=US':\n",
      "  Unable to locally verify the issuer's authority.\n",
      "HTTP request sent, awaiting response... 200 OK\n",
      "Length: 7077973 (6.8M) [text/plain]\n",
      "Saving to: 'AB_NYC_2019.csv.2'\n",
      "\n",
      "     0K .......... .......... .......... .......... ..........  0% 9.66K 11m50s\n",
      "    50K .......... .......... .......... .......... ..........  1% 4.63K 18m8s\n",
      "   100K .......... .......... .......... .......... ..........  2% 1.55K 36m13s\n",
      "   150K .......... .......... .......... .......... ..........  2% 5.75K 31m50s\n",
      "   200K .......... .......... .......... .......... ..........  3% 1.77K 37m49s\n",
      "   250K .......... .......... .......... .......... ..........  4% 5.25K 34m46s\n",
      "   300K .......... .......... .......... .......... ..........  5% 5.55K 32m24s\n",
      "   350K .......... .......... .......... .......... ..........  5% 3.27K 32m17s\n",
      "   400K .......... .......... .......... .......... ..........  6% 4.53K 31m7s\n",
      "   450K .......... .......... .......... .......... ..........  7% 11.6K 28m42s\n",
      "   500K .......... .......... .......... .......... ..........  7% 14.2K 26m34s\n",
      "   550K .......... .......... .......... .......... ..........  8% 11.6K 24m55s\n",
      "   600K .......... .......... .......... .......... ..........  9% 17.5K 23m17s\n",
      "   650K .......... .......... .......... .......... .......... 10% 16.1K 21m54s\n",
      "   700K .......... .......... .......... .......... .......... 10% 13.5K 20m47s\n",
      "   750K .......... .......... .......... .......... .......... 11% 16.7K 19m42s\n",
      "   800K .......... .......... .......... .......... .......... 12% 18.3K 18m43s\n",
      "   850K .......... .......... .......... .......... .......... 13% 19.4K 17m49s\n",
      "   900K .......... .......... .......... .......... .......... 13% 18.5K 17m2s\n",
      "   950K .......... .......... .......... .......... .......... 14% 4.94K 17m2s\n",
      "  1000K .......... .......... .......... .......... .......... 15% 26.7K 16m16s\n",
      "  1050K .......... .......... .......... .......... .......... 15% 8.02K 15m56s\n",
      "  1100K .......... .......... .......... .......... .......... 16% 5.97K 15m49s\n",
      "  1150K .......... .......... .......... .......... .......... 17% 5.85K 15m42s\n",
      "  1200K .......... .......... .......... .......... .......... 18% 7.27K 15m28s\n",
      "  1250K .......... .......... .......... .......... .......... 18% 3.79K 15m41s\n",
      "  1300K .......... .......... .......... .......... .......... 19% 3.94K 15m50s\n",
      "  1350K .......... .......... .......... .......... .......... 20% 3.52K 16m4s\n",
      "  1400K .......... .......... .......... .......... .......... 20% 2.58K 16m35s\n",
      "  1450K .......... .......... .......... .......... .......... 21% 1.03K 18m48s\n",
      "  1500K .......... .......... .......... .......... .......... 22% 7.03K 18m26s\n",
      "  1550K .......... .......... .......... .......... .......... 23% 10.7K 17m57s\n",
      "  1600K .......... .......... .......... .......... .......... 23% 13.4K 17m26s\n",
      "  1650K .......... .......... .......... .......... .......... 24% 5.33K 17m15s\n",
      "  1700K .......... .......... .......... .......... .......... 25% 2.37K 17m38s\n",
      "  1750K .......... .......... .......... .......... .......... 26% 5.43K 17m25s\n",
      "  1800K .......... .......... .......... .......... .......... 26% 12.4K 16m57s\n",
      "  1850K .......... .......... .......... .......... .......... 27% 13.0K 16m31s\n",
      "  1900K .......... .......... .......... .......... .......... 28% 12.4K 16m6s\n",
      "  1950K .......... .......... .......... .......... .......... 28% 2.15K 16m30s\n",
      "  2000K .......... .......... .......... .......... .......... 29% 13.9K 16m4s\n",
      "  2050K .......... .......... .......... .......... .......... 30% 7.12K 15m48s\n",
      "  2100K .......... .......... .......... .......... .......... 31% 9.07K 15m28s\n",
      "  2150K .......... .......... .......... .......... .......... 31% 5.92K 15m16s\n",
      "  2200K .......... .......... .......... .......... .......... 32% 10.0K 14m56s\n",
      "  2250K .......... .......... .......... .......... .......... 33% 4.27K 14m51s\n",
      "  2300K .......... .......... .......... .......... .......... 33% 4.56K 14m44s\n",
      "  2350K .......... .......... .......... .......... .......... 34% 5.93K 14m32s\n",
      "  2400K .......... .......... .......... .......... .......... 35% 3.75K 14m29s\n",
      "  2450K .......... .......... .......... .......... .......... 36% 1.60K 14m57s\n",
      "  2500K .......... .......... .......... .......... .......... 36% 4.37K 14m49s\n",
      "  2550K .......... .......... .......... .......... .......... 37% 30.1K 14m24s\n",
      "  2600K .......... .......... .......... .......... .......... 38% 19.4K 14m2s\n",
      "  2650K .......... .......... .......... .......... .......... 39% 45.3K 13m39s\n",
      "  2700K .......... .......... .......... .......... .......... 39% 39.2K 13m16s\n",
      "  2750K .......... .......... .......... .......... .......... 40% 25.9K 12m56s\n",
      "  2800K .......... .......... .......... .......... .......... 41% 37.3K 12m35s\n",
      "  2850K .......... .......... .......... .......... .......... 41% 13.0K 12m18s\n",
      "  2900K .......... .......... .......... .......... .......... 42% 42.4K 11m58s\n",
      "  2950K .......... .......... .......... .......... .......... 43% 24.6K 11m40s\n",
      "  3000K .......... .......... .......... .......... .......... 44% 29.9K 11m21s\n",
      "  3050K .......... .......... .......... .......... .......... 44% 30.8K 11m4s\n",
      "  3100K .......... .......... .......... .......... .......... 45% 31.4K 10m47s\n",
      "  3150K .......... .......... .......... .......... .......... 46% 33.7K 10m30s\n",
      "  3200K .......... .......... .......... .......... .......... 47% 28.3K 10m14s\n",
      "  3250K .......... .......... .......... .......... .......... 47% 30.0K 9m58s\n",
      "  3300K .......... .......... .......... .......... .......... 48% 35.8K 9m42s\n",
      "  3350K .......... .......... .......... .......... .......... 49% 19.1K 9m28s\n",
      "  3400K .......... .......... .......... .......... .......... 49% 35.1K 9m14s\n",
      "  3450K .......... .......... .......... .......... .......... 50% 33.1K 8m59s\n",
      "  3500K .......... .......... .......... .......... .......... 51% 18.6K 8m47s\n",
      "  3550K .......... .......... .......... .......... .......... 52% 28.0K 8m33s\n",
      "  3600K .......... .......... .......... .......... .......... 52% 27.9K 8m20s\n",
      "  3650K .......... .......... .......... .......... .......... 53% 34.2K 8m7s\n",
      "  3700K .......... .......... .......... .......... .......... 54% 31.3K 7m54s\n",
      "  3750K .......... .......... .......... .......... .......... 54% 22.0K 7m43s\n",
      "  3800K .......... .......... .......... .......... .......... 55% 25.9K 7m31s\n",
      "  3850K .......... .......... .......... .......... .......... 56% 34.3K 7m19s\n",
      "  3900K .......... .......... .......... .......... .......... 57% 33.1K 7m7s\n",
      "  3950K .......... .......... .......... .......... .......... 57% 23.0K 6m56s\n",
      "  4000K .......... .......... .......... .......... .......... 58% 34.4K 6m45s\n",
      "  4050K .......... .......... .......... .......... .......... 59% 28.5K 6m34s\n",
      "  4100K .......... .......... .......... .......... .......... 60% 25.6K 6m24s\n",
      "  4150K .......... .......... .......... .......... .......... 60% 27.4K 6m14s\n",
      "  4200K .......... .......... .......... .......... .......... 61% 29.9K 6m4s\n",
      "  4250K .......... .......... .......... .......... .......... 62% 32.2K 5m54s\n",
      "  4300K .......... .......... .......... .......... .......... 62% 28.9K 5m44s\n",
      "  4350K .......... .......... .......... .......... .......... 63% 35.2K 5m34s\n",
      "  4400K .......... .......... .......... .......... .......... 64% 22.0K 5m25s\n",
      "  4450K .......... .......... .......... .......... .......... 65% 40.8K 5m16s\n",
      "  4500K .......... .......... .......... .......... .......... 65% 20.4K 5m7s\n",
      "  4550K .......... .......... .......... .......... .......... 66% 22.8K 4m58s\n",
      "  4600K .......... .......... .......... .......... .......... 67% 33.7K 4m49s\n",
      "  4650K .......... .......... .......... .......... .......... 67% 31.9K 4m41s\n",
      "  4700K .......... .......... .......... .......... .......... 68% 34.7K 4m32s\n",
      "  4750K .......... .......... .......... .......... .......... 69% 24.0K 4m24s\n",
      "  4800K .......... .......... .......... .......... .......... 70% 31.7K 4m16s\n",
      "  4850K .......... .......... .......... .......... .......... 70% 29.9K 4m8s\n",
      "  4900K .......... .......... .......... .......... .......... 71% 25.0K 4m0s\n",
      "  4950K .......... .......... .......... .......... .......... 72% 20.2K 3m52s\n",
      "  5000K .......... .......... .......... .......... .......... 73% 36.9K 3m45s\n",
      "  5050K .......... .......... .......... .......... .......... 73% 29.3K 3m37s\n",
      "  5100K .......... .......... .......... .......... .......... 74% 29.4K 3m30s\n",
      "  5150K .......... .......... .......... .......... .......... 75% 36.3K 3m22s\n",
      "  5200K .......... .......... .......... .......... .......... 75% 27.7K 3m15s\n",
      "  5250K .......... .......... .......... .......... .......... 76% 34.9K 3m8s\n",
      "  5300K .......... .......... .......... .......... .......... 77% 26.8K 3m1s\n",
      "  5350K .......... .......... .......... .......... .......... 78% 26.8K 2m54s\n",
      "  5400K .......... .......... .......... .......... .......... 78% 25.9K 2m47s\n",
      "  5450K .......... .......... .......... .......... .......... 79% 38.1K 2m40s\n",
      "  5500K .......... .......... .......... .......... .......... 80% 24.3K 2m34s\n",
      "  5550K .......... .......... .......... .......... .......... 81% 41.1K 2m27s\n",
      "  5600K .......... .......... .......... .......... .......... 81% 29.3K 2m21s\n",
      "  5650K .......... .......... .......... .......... .......... 82% 30.1K 2m14s\n",
      "  5700K .......... .......... .......... .......... .......... 83% 35.8K 2m8s\n",
      "  5750K .......... .......... .......... .......... .......... 83% 21.3K 2m2s\n",
      "  5800K .......... .......... .......... .......... .......... 84% 36.1K 1m55s\n",
      "  5850K .......... .......... .......... .......... .......... 85% 30.5K 1m49s\n",
      "  5900K .......... .......... .......... .......... .......... 86% 32.3K 1m43s\n",
      "  5950K .......... .......... .......... .......... .......... 86% 25.9K 97s\n",
      "  6000K .......... .......... .......... .......... .......... 87% 41.3K 92s\n",
      "  6050K .......... .......... .......... .......... .......... 88% 25.4K 86s\n",
      "  6100K .......... .......... .......... .......... .......... 88% 33.9K 80s\n",
      "  6150K .......... .......... .......... .......... .......... 89% 23.8K 74s\n",
      "  6200K .......... .......... .......... .......... .......... 90% 20.0K 69s\n",
      "  6250K .......... .......... .......... .......... .......... 91% 32.2K 63s\n",
      "  6300K .......... .......... .......... .......... .......... 91% 25.6K 58s\n",
      "  6350K .......... .......... .......... .......... .......... 92% 33.7K 52s\n",
      "  6400K .......... .......... .......... .......... .......... 93% 35.0K 47s\n",
      "  6450K .......... .......... .......... .......... .......... 94% 20.5K 42s\n",
      "  6500K .......... .......... .......... .......... .......... 94% 72.6K 36s\n",
      "  6550K .......... .......... .......... .......... .......... 95% 23.3K 31s\n",
      "  6600K .......... .......... .......... .......... .......... 96% 21.4K 26s\n",
      "  6650K .......... .......... .......... .......... .......... 96% 40.9K 21s\n",
      "  6700K .......... .......... .......... .......... .......... 97% 32.6K 16s\n",
      "  6750K .......... .......... .......... .......... .......... 98% 32.7K 11s"
     ]
    }
   ],
   "source": [
    "!wget --no-check-certificate https://raw.githubusercontent.com/madityarafip/My-Machine-Learning/main/Dataset/AB_NYC_2019.csv"
   ]
  },
  {
   "cell_type": "code",
   "execution_count": 3,
   "id": "89d67cc6",
   "metadata": {},
   "outputs": [
    {
     "name": "stderr",
     "output_type": "stream",
     "text": [
      "\n",
      "  6800K .......... .......... .......... .......... .......... 99% 29.3K 6s\n",
      "  6850K .......... .......... .......... .......... .......... 99% 37.0K 1s\n",
      "  6900K .......... ..                                         100% 20.7K=11m12s\n",
      "\n",
      "2021-10-12 22:45:31 (10.3 KB/s) - 'AB_NYC_2019.csv.2' saved [7077973/7077973]\n",
      "\n"
     ]
    }
   ],
   "source": [
    "columns = [\n",
    "    'neighbourhood_group', 'room_type', 'latitude', 'longitude',\n",
    "    'minimum_nights', 'number_of_reviews','reviews_per_month',\n",
    "    'calculated_host_listings_count', 'availability_365',\n",
    "    'price'\n",
    "]\n",
    "\n",
    "df = pd.read_csv('AB_NYC_2019.csv', usecols=columns)\n",
    "df.reviews_per_month = df.reviews_per_month.fillna(0)"
   ]
  },
  {
   "cell_type": "code",
   "execution_count": 4,
   "id": "b525cb71",
   "metadata": {},
   "outputs": [
    {
     "data": {
      "text/html": [
       "<div>\n",
       "<style scoped>\n",
       "    .dataframe tbody tr th:only-of-type {\n",
       "        vertical-align: middle;\n",
       "    }\n",
       "\n",
       "    .dataframe tbody tr th {\n",
       "        vertical-align: top;\n",
       "    }\n",
       "\n",
       "    .dataframe thead th {\n",
       "        text-align: right;\n",
       "    }\n",
       "</style>\n",
       "<table border=\"1\" class=\"dataframe\">\n",
       "  <thead>\n",
       "    <tr style=\"text-align: right;\">\n",
       "      <th></th>\n",
       "      <th>neighbourhood_group</th>\n",
       "      <th>latitude</th>\n",
       "      <th>longitude</th>\n",
       "      <th>room_type</th>\n",
       "      <th>price</th>\n",
       "      <th>minimum_nights</th>\n",
       "      <th>number_of_reviews</th>\n",
       "      <th>reviews_per_month</th>\n",
       "      <th>calculated_host_listings_count</th>\n",
       "      <th>availability_365</th>\n",
       "    </tr>\n",
       "  </thead>\n",
       "  <tbody>\n",
       "    <tr>\n",
       "      <th>0</th>\n",
       "      <td>Brooklyn</td>\n",
       "      <td>40.64749</td>\n",
       "      <td>-73.97237</td>\n",
       "      <td>Private room</td>\n",
       "      <td>149</td>\n",
       "      <td>1</td>\n",
       "      <td>9</td>\n",
       "      <td>0.21</td>\n",
       "      <td>6</td>\n",
       "      <td>365</td>\n",
       "    </tr>\n",
       "    <tr>\n",
       "      <th>1</th>\n",
       "      <td>Manhattan</td>\n",
       "      <td>40.75362</td>\n",
       "      <td>-73.98377</td>\n",
       "      <td>Entire home/apt</td>\n",
       "      <td>225</td>\n",
       "      <td>1</td>\n",
       "      <td>45</td>\n",
       "      <td>0.38</td>\n",
       "      <td>2</td>\n",
       "      <td>355</td>\n",
       "    </tr>\n",
       "    <tr>\n",
       "      <th>2</th>\n",
       "      <td>Manhattan</td>\n",
       "      <td>40.80902</td>\n",
       "      <td>-73.94190</td>\n",
       "      <td>Private room</td>\n",
       "      <td>150</td>\n",
       "      <td>3</td>\n",
       "      <td>0</td>\n",
       "      <td>0.00</td>\n",
       "      <td>1</td>\n",
       "      <td>365</td>\n",
       "    </tr>\n",
       "  </tbody>\n",
       "</table>\n",
       "</div>"
      ],
      "text/plain": [
       "  neighbourhood_group  latitude  longitude        room_type  price  \\\n",
       "0            Brooklyn  40.64749  -73.97237     Private room    149   \n",
       "1           Manhattan  40.75362  -73.98377  Entire home/apt    225   \n",
       "2           Manhattan  40.80902  -73.94190     Private room    150   \n",
       "\n",
       "   minimum_nights  number_of_reviews  reviews_per_month  \\\n",
       "0               1                  9               0.21   \n",
       "1               1                 45               0.38   \n",
       "2               3                  0               0.00   \n",
       "\n",
       "   calculated_host_listings_count  availability_365  \n",
       "0                               6               365  \n",
       "1                               2               355  \n",
       "2                               1               365  "
      ]
     },
     "execution_count": 4,
     "metadata": {},
     "output_type": "execute_result"
    }
   ],
   "source": [
    "HW_df = df\n",
    "HW_df.head(3)"
   ]
  },
  {
   "cell_type": "code",
   "execution_count": 5,
   "id": "16ca4ec4",
   "metadata": {},
   "outputs": [
    {
     "data": {
      "text/plain": [
       "neighbourhood_group               0\n",
       "latitude                          0\n",
       "longitude                         0\n",
       "room_type                         0\n",
       "price                             0\n",
       "minimum_nights                    0\n",
       "number_of_reviews                 0\n",
       "reviews_per_month                 0\n",
       "calculated_host_listings_count    0\n",
       "availability_365                  0\n",
       "dtype: int64"
      ]
     },
     "execution_count": 5,
     "metadata": {},
     "output_type": "execute_result"
    }
   ],
   "source": [
    "HW_df.isna().sum()"
   ]
  },
  {
   "cell_type": "markdown",
   "id": "58807251",
   "metadata": {},
   "source": [
    "## Split Dataset Train/Val/Test (60%/20%/20%)"
   ]
  },
  {
   "cell_type": "code",
   "execution_count": 6,
   "id": "8c3176dc",
   "metadata": {},
   "outputs": [],
   "source": [
    "#80% Full Train, 20% Test\n",
    "df_full_train, df_test = train_test_split(HW_df, test_size=0.2, random_state=1)\n",
    "#60% Train, 20% Val (25% from Full Train -> 20%/80%)\n",
    "df_train, df_val = train_test_split(df_full_train, test_size=0.25, random_state=1)\n",
    "\n",
    "y_train = np.log1p(df_train.price.values)\n",
    "y_val = np.log1p(df_val.price.values)\n",
    "y_test = np.log1p(df_test.price.values)\n",
    "\n",
    "del df_train['price']\n",
    "del df_val['price']\n",
    "del df_test['price']"
   ]
  },
  {
   "cell_type": "code",
   "execution_count": 7,
   "id": "fe7e21a5",
   "metadata": {},
   "outputs": [
    {
     "name": "stdout",
     "output_type": "stream",
     "text": [
      "Train Full: 39116 ( 80.0 %)\n",
      "Train: 29337 ( 60.0 %)\n",
      "Validation: 9779 ( 20.0 %)\n",
      "Test: 9779 ( 20.0 %)\n"
     ]
    }
   ],
   "source": [
    "print('Train Full:', len(df_full_train), \n",
    "      '(', (len(df_full_train)/len(HW_df))*100, '%)') \n",
    "print('Train:', len(df_train), \n",
    "      '(', (len(df_train)/len(HW_df))*100, '%)') \n",
    "print('Validation:', len(df_val), \n",
    "      '(', (len(df_val)/len(HW_df))*100, '%)') \n",
    "print('Test:', len(df_test), \n",
    "      '(', (len(df_test)/len(HW_df))*100, '%)') "
   ]
  },
  {
   "cell_type": "markdown",
   "id": "b2a7ca7b",
   "metadata": {},
   "source": [
    "## OHE with DictVectorizer()"
   ]
  },
  {
   "cell_type": "code",
   "execution_count": 8,
   "id": "b40cf21f",
   "metadata": {},
   "outputs": [],
   "source": [
    "def OHE_DV(df, col):\n",
    "    dicts = df[col].to_dict(orient='records')\n",
    "    X_data = dv.fit_transform(dicts)\n",
    "    \n",
    "    return X_data"
   ]
  },
  {
   "cell_type": "code",
   "execution_count": 9,
   "id": "54816aac",
   "metadata": {},
   "outputs": [],
   "source": [
    "def OHE_DV_wo_fit(df, col):\n",
    "    dicts = df[col].to_dict(orient='records')\n",
    "    X_data = dv.transform(dicts)\n",
    "    \n",
    "    return X_data"
   ]
  },
  {
   "cell_type": "code",
   "execution_count": 10,
   "id": "a93119bc",
   "metadata": {},
   "outputs": [],
   "source": [
    "categorical = ['neighbourhood_group', 'room_type']\n",
    "numerical = ['latitude',\n",
    "             'longitude',\n",
    "             'minimum_nights',\n",
    "             'number_of_reviews',\n",
    "             'reviews_per_month',\n",
    "             'calculated_host_listings_count',\n",
    "             'availability_365']"
   ]
  },
  {
   "cell_type": "code",
   "execution_count": 11,
   "id": "388c43a7",
   "metadata": {},
   "outputs": [
    {
     "data": {
      "text/plain": [
       "((29337, 15), (9779, 15))"
      ]
     },
     "execution_count": 11,
     "metadata": {},
     "output_type": "execute_result"
    }
   ],
   "source": [
    "dv = DictVectorizer(sparse=False)\n",
    "\n",
    "X_col = categorical+numerical \n",
    "\n",
    "X_train = OHE_DV(df_train, X_col)\n",
    "X_val = OHE_DV_wo_fit(df_val, X_col)\n",
    "\n",
    "X_train.shape, X_val.shape"
   ]
  },
  {
   "cell_type": "markdown",
   "id": "4ac4997f",
   "metadata": {},
   "source": [
    "## Train a Decision Tree Regressor"
   ]
  },
  {
   "cell_type": "code",
   "execution_count": 12,
   "id": "620f0187",
   "metadata": {},
   "outputs": [
    {
     "data": {
      "text/plain": [
       "DecisionTreeRegressor(max_depth=1)"
      ]
     },
     "execution_count": 12,
     "metadata": {},
     "output_type": "execute_result"
    }
   ],
   "source": [
    "dt = DecisionTreeRegressor(max_depth=1)\n",
    "dt.fit(X_train, y_train)"
   ]
  },
  {
   "cell_type": "markdown",
   "id": "97a0e19d",
   "metadata": {},
   "source": [
    "# ANS Q1:"
   ]
  },
  {
   "cell_type": "code",
   "execution_count": 13,
   "id": "047b5074",
   "metadata": {},
   "outputs": [
    {
     "name": "stdout",
     "output_type": "stream",
     "text": [
      "|--- room_type=Entire home/apt <= 0.50\n",
      "|   |--- value: [4.29]\n",
      "|--- room_type=Entire home/apt >  0.50\n",
      "|   |--- value: [5.15]\n",
      "\n"
     ]
    }
   ],
   "source": [
    "print(export_text(dt, feature_names=dv.get_feature_names()))"
   ]
  },
  {
   "cell_type": "markdown",
   "id": "96412621",
   "metadata": {},
   "source": [
    "## RMSE"
   ]
  },
  {
   "cell_type": "code",
   "execution_count": 14,
   "id": "9cbf4a03",
   "metadata": {},
   "outputs": [],
   "source": [
    "def RMSE(y, y_pred):\n",
    "    e = y_pred - y\n",
    "    mse = (e ** 2).mean()\n",
    "    rmse_val = np.sqrt(mse)\n",
    "\n",
    "    return rmse_val"
   ]
  },
  {
   "cell_type": "markdown",
   "id": "fbd15650",
   "metadata": {},
   "source": [
    "# ANS Q2:"
   ]
  },
  {
   "cell_type": "code",
   "execution_count": 15,
   "id": "03e67328",
   "metadata": {},
   "outputs": [
    {
     "name": "stdout",
     "output_type": "stream",
     "text": [
      "RMSE for Q2 is 0.462\n"
     ]
    }
   ],
   "source": [
    "rf = RandomForestRegressor(n_estimators=10, random_state=1, n_jobs=-1)\n",
    "rf.fit(X_train, y_train)\n",
    "\n",
    "y_pred = rf.predict(X_val)\n",
    "RMSE_Q2 = RMSE(y_val, y_pred)\n",
    "print(f'RMSE for Q2 is {round(RMSE_Q2, 3)}')"
   ]
  },
  {
   "cell_type": "markdown",
   "id": "542b7184",
   "metadata": {},
   "source": [
    "# ANS Q3:"
   ]
  },
  {
   "cell_type": "code",
   "execution_count": 16,
   "id": "9117bcbb",
   "metadata": {},
   "outputs": [],
   "source": [
    "n_est = np.linspace(10,200,20).astype(int)\n",
    "RMSE_Q3_score = []\n",
    "\n",
    "for n in n_est:\n",
    "    rf = RandomForestRegressor(n_estimators=n, random_state=1, n_jobs=-1)\n",
    "    rf.fit(X_train, y_train)\n",
    "\n",
    "    y_pred = rf.predict(X_val)\n",
    "    RMSE_Q3 = RMSE(y_val, y_pred)\n",
    "    \n",
    "    RMSE_Q3_score.append((n, RMSE_Q3))"
   ]
  },
  {
   "cell_type": "code",
   "execution_count": 17,
   "id": "6e8ba0c8",
   "metadata": {},
   "outputs": [],
   "source": [
    "df_RMSE_Q3 = pd.DataFrame(RMSE_Q3_score, columns=['n_estimators', 'RMSE_Q3'])"
   ]
  },
  {
   "cell_type": "markdown",
   "id": "865526ce",
   "metadata": {},
   "source": [
    "## Plot RMSE for Q3"
   ]
  },
  {
   "cell_type": "code",
   "execution_count": 18,
   "id": "e9c84058",
   "metadata": {},
   "outputs": [
    {
     "data": {
      "text/plain": [
       "Text(0, 0.5, 'RMSE')"
      ]
     },
     "execution_count": 18,
     "metadata": {},
     "output_type": "execute_result"
    },
    {
     "data": {
      "image/png": "[encoded data removed]",
      "text/plain": [
       "<Figure size 432x288 with 1 Axes>"
      ]
     },
     "metadata": {
      "needs_background": "light"
     },
     "output_type": "display_data"
    }
   ],
   "source": [
    "plt.plot(df_RMSE_Q3.n_estimators, df_RMSE_Q3.RMSE_Q3)\n",
    "plt.grid()\n",
    "plt.xlabel('n_estimator')\n",
    "plt.ylabel('RMSE')"
   ]
  },
  {
   "cell_type": "markdown",
   "id": "ac9a0412",
   "metadata": {},
   "source": [
    "# ANS Q4:"
   ]
  },
  {
   "cell_type": "code",
   "execution_count": 19,
   "id": "d32d0805",
   "metadata": {},
   "outputs": [],
   "source": [
    "n_est = np.linspace(10,200,20).astype(int)\n",
    "RMSE_Q4_score = []\n",
    "\n",
    "for md in [10, 15, 20, 25]:\n",
    "    for n in n_est:\n",
    "        rf = RandomForestRegressor(n_estimators=n, max_depth=md,\n",
    "                                   random_state=1, n_jobs=-1)\n",
    "        rf.fit(X_train, y_train)\n",
    "        \n",
    "        y_pred = rf.predict(X_val)\n",
    "        RMSE_Q4 = RMSE(y_val, y_pred)\n",
    "        \n",
    "        RMSE_Q4_score.append((md, n, RMSE_Q4))"
   ]
  },
  {
   "cell_type": "code",
   "execution_count": 20,
   "id": "087ce8c2",
   "metadata": {},
   "outputs": [],
   "source": [
    "columns = ['max_depth', 'n_estimators', 'RMSE_Q4']\n",
    "df_RMSE_Q4 = pd.DataFrame(RMSE_Q4_score, columns=columns)"
   ]
  },
  {
   "cell_type": "markdown",
   "id": "d8333f0d",
   "metadata": {},
   "source": [
    "## Plot RMSE for Q4"
   ]
  },
  {
   "cell_type": "code",
   "execution_count": 22,
   "id": "378d59ab",
   "metadata": {},
   "outputs": [
    {
     "data": {
      "text/plain": [
       "Text(0, 0.5, 'RMSE')"
      ]
     },
     "execution_count": 22,
     "metadata": {},
     "output_type": "execute_result"
    },
    {
     "data": {
      "image/png": "[encoded data removed]",
      "text/plain": [
       "<Figure size 432x288 with 1 Axes>"
      ]
     },
     "metadata": {
      "needs_background": "light"
     },
     "output_type": "display_data"
    }
   ],
   "source": [
    "for md in [10, 15, 20, 25]:\n",
    "    df_subset = df_RMSE_Q4[df_RMSE_Q4.max_depth == md]\n",
    "    \n",
    "    plt.plot(df_subset.n_estimators, df_subset.RMSE_Q4,\n",
    "             label='max_depth=%d' % md)\n",
    "\n",
    "plt.legend()\n",
    "plt.grid()\n",
    "plt.xlabel('n_estimator')\n",
    "plt.ylabel('RMSE')"
   ]
  },
  {
   "cell_type": "markdown",
   "id": "cf0b2d28",
   "metadata": {},
   "source": [
    "# ANS Q5:"
   ]
  },
  {
   "cell_type": "code",
   "execution_count": 23,
   "id": "7cbe4301",
   "metadata": {},
   "outputs": [
    {
     "data": {
      "text/plain": [
       "RandomForestRegressor(max_depth=20, n_estimators=10, n_jobs=-1, random_state=1)"
      ]
     },
     "execution_count": 23,
     "metadata": {},
     "output_type": "execute_result"
    }
   ],
   "source": [
    "rf = RandomForestRegressor(n_estimators=10, max_depth=20,\n",
    "                                   random_state=1, n_jobs=-1)\n",
    "rf.fit(X_train, y_train)"
   ]
  },
  {
   "cell_type": "markdown",
   "id": "f42e7ee2",
   "metadata": {},
   "source": [
    "## Plot Feature Importances for Q5"
   ]
  },
  {
   "cell_type": "code",
   "execution_count": 24,
   "id": "20ece3ef",
   "metadata": {},
   "outputs": [],
   "source": [
    "features = dv.get_feature_names()"
   ]
  },
  {
   "cell_type": "code",
   "execution_count": 25,
   "id": "3e672a01",
   "metadata": {},
   "outputs": [
    {
     "data": {
      "image/png": "[encoded data removed]",
      "text/plain": [
       "<Figure size 720x720 with 1 Axes>"
      ]
     },
     "metadata": {
      "needs_background": "light"
     },
     "output_type": "display_data"
    }
   ],
   "source": [
    "importances = rf.feature_importances_\n",
    "std = np.std([\n",
    "    tree.feature_importances_ for tree in rf.estimators_], axis=0)\n",
    "\n",
    "forest_importances = pd.Series(importances, index=features)\n",
    "\n",
    "fig, ax = plt.subplots(figsize=(10,10))\n",
    "forest_importances.plot.bar(yerr=std, ax=ax)\n",
    "ax.set_title(\"Feature importances using MDI\")\n",
    "ax.set_ylabel(\"Mean decrease in impurity\")\n",
    "ax.grid()\n",
    "fig.tight_layout()"
   ]
  },
  {
   "cell_type": "markdown",
   "id": "fdb7457b",
   "metadata": {},
   "source": [
    "# ANS Q6:"
   ]
  },
  {
   "cell_type": "code",
   "execution_count": 26,
   "id": "e1f6eb8f",
   "metadata": {},
   "outputs": [],
   "source": [
    "features = dv.get_feature_names()\n",
    "dtrain = xgb.DMatrix(X_train, label=y_train, feature_names=features)\n",
    "dval = xgb.DMatrix(X_val, label=y_val, feature_names=features)"
   ]
  },
  {
   "cell_type": "code",
   "execution_count": 27,
   "id": "2cf9f405",
   "metadata": {},
   "outputs": [],
   "source": [
    "watchlist = [(dtrain, 'train'), (dval, 'val')]"
   ]
  },
  {
   "cell_type": "code",
   "execution_count": 28,
   "id": "82ef8da8",
   "metadata": {},
   "outputs": [
    {
     "name": "stdout",
     "output_type": "stream",
     "text": [
      "[0]\ttrain-rmse:3.02752\tval-rmse:3.02415\n",
      "[1]\ttrain-rmse:2.14667\tval-rmse:2.14390\n",
      "[2]\ttrain-rmse:1.53878\tval-rmse:1.53721\n",
      "[3]\ttrain-rmse:1.12557\tval-rmse:1.12523\n",
      "[4]\ttrain-rmse:0.85100\tval-rmse:0.85174\n",
      "[5]\ttrain-rmse:0.67490\tval-rmse:0.67752\n",
      "[6]\ttrain-rmse:0.56687\tval-rmse:0.57148\n",
      "[7]\ttrain-rmse:0.50448\tval-rmse:0.51139\n",
      "[8]\ttrain-rmse:0.46913\tval-rmse:0.47777\n",
      "[9]\ttrain-rmse:0.45009\tval-rmse:0.45965\n",
      "[10]\ttrain-rmse:0.43912\tval-rmse:0.44981\n",
      "[11]\ttrain-rmse:0.43327\tval-rmse:0.44475\n",
      "[12]\ttrain-rmse:0.42936\tval-rmse:0.44210\n",
      "[13]\ttrain-rmse:0.42668\tval-rmse:0.44038\n",
      "[14]\ttrain-rmse:0.42463\tval-rmse:0.43943\n",
      "[15]\ttrain-rmse:0.42259\tval-rmse:0.43827\n",
      "[16]\ttrain-rmse:0.42113\tval-rmse:0.43772\n",
      "[17]\ttrain-rmse:0.42074\tval-rmse:0.43787\n",
      "[18]\ttrain-rmse:0.41896\tval-rmse:0.43744\n",
      "[19]\ttrain-rmse:0.41812\tval-rmse:0.43726\n",
      "[20]\ttrain-rmse:0.41716\tval-rmse:0.43691\n",
      "[21]\ttrain-rmse:0.41499\tval-rmse:0.43645\n",
      "[22]\ttrain-rmse:0.41437\tval-rmse:0.43611\n",
      "[23]\ttrain-rmse:0.41403\tval-rmse:0.43614\n",
      "[24]\ttrain-rmse:0.41391\tval-rmse:0.43630\n",
      "[25]\ttrain-rmse:0.41365\tval-rmse:0.43621\n",
      "[26]\ttrain-rmse:0.41272\tval-rmse:0.43628\n",
      "[27]\ttrain-rmse:0.41138\tval-rmse:0.43618\n",
      "[28]\ttrain-rmse:0.41088\tval-rmse:0.43617\n",
      "[29]\ttrain-rmse:0.40858\tval-rmse:0.43573\n",
      "[30]\ttrain-rmse:0.40712\tval-rmse:0.43543\n",
      "[31]\ttrain-rmse:0.40684\tval-rmse:0.43553\n",
      "[32]\ttrain-rmse:0.40577\tval-rmse:0.43536\n",
      "[33]\ttrain-rmse:0.40520\tval-rmse:0.43503\n",
      "[34]\ttrain-rmse:0.40503\tval-rmse:0.43500\n",
      "[35]\ttrain-rmse:0.40444\tval-rmse:0.43510\n",
      "[36]\ttrain-rmse:0.40419\tval-rmse:0.43505\n",
      "[37]\ttrain-rmse:0.40367\tval-rmse:0.43505\n",
      "[38]\ttrain-rmse:0.40183\tval-rmse:0.43473\n",
      "[39]\ttrain-rmse:0.40117\tval-rmse:0.43471\n",
      "[40]\ttrain-rmse:0.40103\tval-rmse:0.43466\n",
      "[41]\ttrain-rmse:0.39991\tval-rmse:0.43435\n",
      "[42]\ttrain-rmse:0.39905\tval-rmse:0.43395\n",
      "[43]\ttrain-rmse:0.39873\tval-rmse:0.43378\n",
      "[44]\ttrain-rmse:0.39786\tval-rmse:0.43378\n",
      "[45]\ttrain-rmse:0.39723\tval-rmse:0.43371\n",
      "[46]\ttrain-rmse:0.39665\tval-rmse:0.43381\n",
      "[47]\ttrain-rmse:0.39620\tval-rmse:0.43388\n",
      "[48]\ttrain-rmse:0.39603\tval-rmse:0.43382\n",
      "[49]\ttrain-rmse:0.39544\tval-rmse:0.43397\n",
      "[50]\ttrain-rmse:0.39446\tval-rmse:0.43384\n",
      "[51]\ttrain-rmse:0.39388\tval-rmse:0.43396\n",
      "[52]\ttrain-rmse:0.39349\tval-rmse:0.43403\n",
      "[53]\ttrain-rmse:0.39299\tval-rmse:0.43407\n",
      "[54]\ttrain-rmse:0.39205\tval-rmse:0.43396\n",
      "[55]\ttrain-rmse:0.39129\tval-rmse:0.43378\n",
      "[56]\ttrain-rmse:0.39081\tval-rmse:0.43389\n",
      "[57]\ttrain-rmse:0.38988\tval-rmse:0.43409\n",
      "[58]\ttrain-rmse:0.38864\tval-rmse:0.43395\n",
      "[59]\ttrain-rmse:0.38771\tval-rmse:0.43399\n",
      "[60]\ttrain-rmse:0.38743\tval-rmse:0.43404\n",
      "[61]\ttrain-rmse:0.38706\tval-rmse:0.43381\n",
      "[62]\ttrain-rmse:0.38621\tval-rmse:0.43391\n",
      "[63]\ttrain-rmse:0.38567\tval-rmse:0.43387\n",
      "[64]\ttrain-rmse:0.38493\tval-rmse:0.43409\n",
      "[65]\ttrain-rmse:0.38421\tval-rmse:0.43450\n",
      "[66]\ttrain-rmse:0.38372\tval-rmse:0.43474\n",
      "[67]\ttrain-rmse:0.38314\tval-rmse:0.43496\n",
      "[68]\ttrain-rmse:0.38213\tval-rmse:0.43483\n",
      "[69]\ttrain-rmse:0.38159\tval-rmse:0.43485\n",
      "[70]\ttrain-rmse:0.38117\tval-rmse:0.43467\n",
      "[71]\ttrain-rmse:0.38056\tval-rmse:0.43479\n",
      "[72]\ttrain-rmse:0.37990\tval-rmse:0.43474\n",
      "[73]\ttrain-rmse:0.37878\tval-rmse:0.43483\n",
      "[74]\ttrain-rmse:0.37843\tval-rmse:0.43488\n",
      "[75]\ttrain-rmse:0.37801\tval-rmse:0.43489\n",
      "[76]\ttrain-rmse:0.37782\tval-rmse:0.43504\n",
      "[77]\ttrain-rmse:0.37762\tval-rmse:0.43509\n",
      "[78]\ttrain-rmse:0.37757\tval-rmse:0.43506\n",
      "[79]\ttrain-rmse:0.37722\tval-rmse:0.43508\n",
      "[80]\ttrain-rmse:0.37668\tval-rmse:0.43526\n",
      "[81]\ttrain-rmse:0.37586\tval-rmse:0.43527\n",
      "[82]\ttrain-rmse:0.37500\tval-rmse:0.43545\n",
      "[83]\ttrain-rmse:0.37398\tval-rmse:0.43535\n",
      "[84]\ttrain-rmse:0.37332\tval-rmse:0.43556\n",
      "[85]\ttrain-rmse:0.37259\tval-rmse:0.43537\n",
      "[86]\ttrain-rmse:0.37222\tval-rmse:0.43552\n",
      "[87]\ttrain-rmse:0.37156\tval-rmse:0.43547\n",
      "[88]\ttrain-rmse:0.37124\tval-rmse:0.43551\n",
      "[89]\ttrain-rmse:0.37056\tval-rmse:0.43525\n",
      "[90]\ttrain-rmse:0.36998\tval-rmse:0.43539\n",
      "[91]\ttrain-rmse:0.36975\tval-rmse:0.43544\n",
      "[92]\ttrain-rmse:0.36971\tval-rmse:0.43546\n",
      "[93]\ttrain-rmse:0.36875\tval-rmse:0.43544\n",
      "[94]\ttrain-rmse:0.36798\tval-rmse:0.43560\n",
      "[95]\ttrain-rmse:0.36742\tval-rmse:0.43579\n",
      "[96]\ttrain-rmse:0.36698\tval-rmse:0.43584\n",
      "[97]\ttrain-rmse:0.36644\tval-rmse:0.43595\n",
      "[98]\ttrain-rmse:0.36582\tval-rmse:0.43597\n",
      "[99]\ttrain-rmse:0.36478\tval-rmse:0.43621\n",
      "[0]\ttrain-rmse:3.87217\tval-rmse:3.86889\n",
      "[1]\ttrain-rmse:3.49150\tval-rmse:3.48840\n",
      "[2]\ttrain-rmse:3.14949\tval-rmse:3.14635\n",
      "[3]\ttrain-rmse:2.84232\tval-rmse:2.83951\n",
      "[4]\ttrain-rmse:2.56650\tval-rmse:2.56412\n",
      "[5]\ttrain-rmse:2.31905\tval-rmse:2.31692\n",
      "[6]\ttrain-rmse:2.09714\tval-rmse:2.09526\n",
      "[7]\ttrain-rmse:1.89834\tval-rmse:1.89663\n",
      "[8]\ttrain-rmse:1.72033\tval-rmse:1.71878\n",
      "[9]\ttrain-rmse:1.56120\tval-rmse:1.55976\n",
      "[10]\ttrain-rmse:1.41910\tval-rmse:1.41786\n",
      "[11]\ttrain-rmse:1.29248\tval-rmse:1.29149\n",
      "[12]\ttrain-rmse:1.17977\tval-rmse:1.17907\n",
      "[13]\ttrain-rmse:1.07974\tval-rmse:1.07936\n",
      "[14]\ttrain-rmse:0.99113\tval-rmse:0.99118\n",
      "[15]\ttrain-rmse:0.91299\tval-rmse:0.91348\n",
      "[16]\ttrain-rmse:0.84421\tval-rmse:0.84524\n",
      "[17]\ttrain-rmse:0.78390\tval-rmse:0.78525\n",
      "[18]\ttrain-rmse:0.73111\tval-rmse:0.73308\n",
      "[19]\ttrain-rmse:0.68507\tval-rmse:0.68776\n",
      "[20]\ttrain-rmse:0.64528\tval-rmse:0.64883\n",
      "[21]\ttrain-rmse:0.61109\tval-rmse:0.61518\n",
      "[22]\ttrain-rmse:0.58175\tval-rmse:0.58648\n",
      "[23]\ttrain-rmse:0.55655\tval-rmse:0.56186\n",
      "[24]\ttrain-rmse:0.53529\tval-rmse:0.54108\n",
      "[25]\ttrain-rmse:0.51733\tval-rmse:0.52364\n",
      "[26]\ttrain-rmse:0.50209\tval-rmse:0.50888\n",
      "[27]\ttrain-rmse:0.48935\tval-rmse:0.49679\n",
      "[28]\ttrain-rmse:0.47866\tval-rmse:0.48660\n",
      "[29]\ttrain-rmse:0.46967\tval-rmse:0.47817\n",
      "[30]\ttrain-rmse:0.46186\tval-rmse:0.47101\n",
      "[31]\ttrain-rmse:0.45547\tval-rmse:0.46521\n",
      "[32]\ttrain-rmse:0.44997\tval-rmse:0.46016\n",
      "[33]\ttrain-rmse:0.44555\tval-rmse:0.45617\n",
      "[34]\ttrain-rmse:0.44168\tval-rmse:0.45277\n",
      "[35]\ttrain-rmse:0.43843\tval-rmse:0.44997\n",
      "[36]\ttrain-rmse:0.43571\tval-rmse:0.44778\n",
      "[37]\ttrain-rmse:0.43341\tval-rmse:0.44584\n",
      "[38]\ttrain-rmse:0.43126\tval-rmse:0.44400\n",
      "[39]\ttrain-rmse:0.42921\tval-rmse:0.44259\n",
      "[40]\ttrain-rmse:0.42770\tval-rmse:0.44150\n",
      "[41]\ttrain-rmse:0.42642\tval-rmse:0.44060\n",
      "[42]\ttrain-rmse:0.42515\tval-rmse:0.43983\n",
      "[43]\ttrain-rmse:0.42411\tval-rmse:0.43892\n",
      "[44]\ttrain-rmse:0.42303\tval-rmse:0.43830\n",
      "[45]\ttrain-rmse:0.42222\tval-rmse:0.43795\n",
      "[46]\ttrain-rmse:0.42123\tval-rmse:0.43730\n",
      "[47]\ttrain-rmse:0.42050\tval-rmse:0.43701\n",
      "[48]\ttrain-rmse:0.41980\tval-rmse:0.43670\n",
      "[49]\ttrain-rmse:0.41924\tval-rmse:0.43629\n",
      "[50]\ttrain-rmse:0.41868\tval-rmse:0.43589\n",
      "[51]\ttrain-rmse:0.41808\tval-rmse:0.43574\n",
      "[52]\ttrain-rmse:0.41780\tval-rmse:0.43562\n",
      "[53]\ttrain-rmse:0.41741\tval-rmse:0.43538\n",
      "[54]\ttrain-rmse:0.41694\tval-rmse:0.43537\n",
      "[55]\ttrain-rmse:0.41644\tval-rmse:0.43515\n",
      "[56]\ttrain-rmse:0.41608\tval-rmse:0.43509\n",
      "[57]\ttrain-rmse:0.41559\tval-rmse:0.43506\n",
      "[58]\ttrain-rmse:0.41501\tval-rmse:0.43488\n",
      "[59]\ttrain-rmse:0.41463\tval-rmse:0.43464\n",
      "[60]\ttrain-rmse:0.41432\tval-rmse:0.43460\n",
      "[61]\ttrain-rmse:0.41370\tval-rmse:0.43431\n",
      "[62]\ttrain-rmse:0.41343\tval-rmse:0.43426\n",
      "[63]\ttrain-rmse:0.41312\tval-rmse:0.43416\n",
      "[64]\ttrain-rmse:0.41283\tval-rmse:0.43420\n",
      "[65]\ttrain-rmse:0.41226\tval-rmse:0.43400\n",
      "[66]\ttrain-rmse:0.41205\tval-rmse:0.43402\n",
      "[67]\ttrain-rmse:0.41157\tval-rmse:0.43388\n",
      "[68]\ttrain-rmse:0.41141\tval-rmse:0.43378\n",
      "[69]\ttrain-rmse:0.41107\tval-rmse:0.43377\n",
      "[70]\ttrain-rmse:0.41059\tval-rmse:0.43361\n",
      "[71]\ttrain-rmse:0.41022\tval-rmse:0.43365\n",
      "[72]\ttrain-rmse:0.40965\tval-rmse:0.43355\n",
      "[73]\ttrain-rmse:0.40945\tval-rmse:0.43354\n",
      "[74]\ttrain-rmse:0.40933\tval-rmse:0.43347\n",
      "[75]\ttrain-rmse:0.40876\tval-rmse:0.43336\n",
      "[76]\ttrain-rmse:0.40831\tval-rmse:0.43310\n",
      "[77]\ttrain-rmse:0.40801\tval-rmse:0.43306\n",
      "[78]\ttrain-rmse:0.40795\tval-rmse:0.43311\n",
      "[79]\ttrain-rmse:0.40768\tval-rmse:0.43304\n",
      "[80]\ttrain-rmse:0.40747\tval-rmse:0.43306\n",
      "[81]\ttrain-rmse:0.40726\tval-rmse:0.43313\n",
      "[82]\ttrain-rmse:0.40715\tval-rmse:0.43313\n",
      "[83]\ttrain-rmse:0.40684\tval-rmse:0.43313\n",
      "[84]\ttrain-rmse:0.40674\tval-rmse:0.43314\n",
      "[85]\ttrain-rmse:0.40626\tval-rmse:0.43299\n",
      "[86]\ttrain-rmse:0.40573\tval-rmse:0.43286\n",
      "[87]\ttrain-rmse:0.40554\tval-rmse:0.43291\n",
      "[88]\ttrain-rmse:0.40535\tval-rmse:0.43289\n",
      "[89]\ttrain-rmse:0.40511\tval-rmse:0.43285\n",
      "[90]\ttrain-rmse:0.40478\tval-rmse:0.43280\n",
      "[91]\ttrain-rmse:0.40457\tval-rmse:0.43269\n",
      "[92]\ttrain-rmse:0.40439\tval-rmse:0.43272\n",
      "[93]\ttrain-rmse:0.40429\tval-rmse:0.43272\n",
      "[94]\ttrain-rmse:0.40421\tval-rmse:0.43271\n",
      "[95]\ttrain-rmse:0.40406\tval-rmse:0.43272\n",
      "[96]\ttrain-rmse:0.40397\tval-rmse:0.43272\n",
      "[97]\ttrain-rmse:0.40361\tval-rmse:0.43269\n",
      "[98]\ttrain-rmse:0.40321\tval-rmse:0.43260\n",
      "[99]\ttrain-rmse:0.40277\tval-rmse:0.43250\n"
     ]
    },
    {
     "name": "stdout",
     "output_type": "stream",
     "text": [
      "[0]\ttrain-rmse:4.25336\tval-rmse:4.25010\n",
      "[1]\ttrain-rmse:4.21141\tval-rmse:4.20815\n",
      "[2]\ttrain-rmse:4.16988\tval-rmse:4.16661\n",
      "[3]\ttrain-rmse:4.12877\tval-rmse:4.12551\n",
      "[4]\ttrain-rmse:4.08807\tval-rmse:4.08481\n",
      "[5]\ttrain-rmse:4.04779\tval-rmse:4.04454\n",
      "[6]\ttrain-rmse:4.00792\tval-rmse:4.00467\n",
      "[7]\ttrain-rmse:3.96845\tval-rmse:3.96521\n",
      "[8]\ttrain-rmse:3.92937\tval-rmse:3.92615\n",
      "[9]\ttrain-rmse:3.89070\tval-rmse:3.88749\n",
      "[10]\ttrain-rmse:3.85242\tval-rmse:3.84921\n",
      "[11]\ttrain-rmse:3.81452\tval-rmse:3.81133\n",
      "[12]\ttrain-rmse:3.77701\tval-rmse:3.77382\n",
      "[13]\ttrain-rmse:3.73988\tval-rmse:3.73671\n",
      "[14]\ttrain-rmse:3.70313\tval-rmse:3.69996\n",
      "[15]\ttrain-rmse:3.66674\tval-rmse:3.66359\n",
      "[16]\ttrain-rmse:3.63073\tval-rmse:3.62759\n",
      "[17]\ttrain-rmse:3.59508\tval-rmse:3.59195\n",
      "[18]\ttrain-rmse:3.55979\tval-rmse:3.55666\n",
      "[19]\ttrain-rmse:3.52487\tval-rmse:3.52175\n",
      "[20]\ttrain-rmse:3.49030\tval-rmse:3.48719\n",
      "[21]\ttrain-rmse:3.45608\tval-rmse:3.45298\n",
      "[22]\ttrain-rmse:3.42220\tval-rmse:3.41910\n",
      "[23]\ttrain-rmse:3.38867\tval-rmse:3.38559\n",
      "[24]\ttrain-rmse:3.35548\tval-rmse:3.35240\n",
      "[25]\ttrain-rmse:3.32263\tval-rmse:3.31956\n",
      "[26]\ttrain-rmse:3.29011\tval-rmse:3.28706\n",
      "[27]\ttrain-rmse:3.25793\tval-rmse:3.25488\n",
      "[28]\ttrain-rmse:3.22606\tval-rmse:3.22302\n",
      "[29]\ttrain-rmse:3.19453\tval-rmse:3.19150\n",
      "[30]\ttrain-rmse:3.16332\tval-rmse:3.16029\n",
      "[31]\ttrain-rmse:3.13243\tval-rmse:3.12941\n",
      "[32]\ttrain-rmse:3.10184\tval-rmse:3.09884\n",
      "[33]\ttrain-rmse:3.07157\tval-rmse:3.06858\n",
      "[34]\ttrain-rmse:3.04161\tval-rmse:3.03863\n",
      "[35]\ttrain-rmse:3.01196\tval-rmse:3.00898\n",
      "[36]\ttrain-rmse:2.98261\tval-rmse:2.97966\n",
      "[37]\ttrain-rmse:2.95356\tval-rmse:2.95061\n",
      "[38]\ttrain-rmse:2.92480\tval-rmse:2.92190\n",
      "[39]\ttrain-rmse:2.89634\tval-rmse:2.89346\n",
      "[40]\ttrain-rmse:2.86817\tval-rmse:2.86533\n",
      "[41]\ttrain-rmse:2.84029\tval-rmse:2.83745\n",
      "[42]\ttrain-rmse:2.81268\tval-rmse:2.80988\n",
      "[43]\ttrain-rmse:2.78538\tval-rmse:2.78258\n",
      "[44]\ttrain-rmse:2.75834\tval-rmse:2.75558\n",
      "[45]\ttrain-rmse:2.73158\tval-rmse:2.72884\n",
      "[46]\ttrain-rmse:2.70510\tval-rmse:2.70238\n",
      "[47]\ttrain-rmse:2.67889\tval-rmse:2.67619\n",
      "[48]\ttrain-rmse:2.65294\tval-rmse:2.65027\n",
      "[49]\ttrain-rmse:2.62726\tval-rmse:2.62463\n",
      "[50]\ttrain-rmse:2.60185\tval-rmse:2.59925\n",
      "[51]\ttrain-rmse:2.57670\tval-rmse:2.57412\n",
      "[52]\ttrain-rmse:2.55181\tval-rmse:2.54923\n",
      "[53]\ttrain-rmse:2.52717\tval-rmse:2.52461\n",
      "[54]\ttrain-rmse:2.50278\tval-rmse:2.50025\n",
      "[55]\ttrain-rmse:2.47865\tval-rmse:2.47612\n",
      "[56]\ttrain-rmse:2.45477\tval-rmse:2.45227\n",
      "[57]\ttrain-rmse:2.43113\tval-rmse:2.42867\n",
      "[58]\ttrain-rmse:2.40774\tval-rmse:2.40530\n",
      "[59]\ttrain-rmse:2.38459\tval-rmse:2.38218\n",
      "[60]\ttrain-rmse:2.36167\tval-rmse:2.35927\n",
      "[61]\ttrain-rmse:2.33900\tval-rmse:2.33663\n",
      "[62]\ttrain-rmse:2.31655\tval-rmse:2.31421\n",
      "[63]\ttrain-rmse:2.29434\tval-rmse:2.29202\n",
      "[64]\ttrain-rmse:2.27236\tval-rmse:2.27006\n",
      "[65]\ttrain-rmse:2.25061\tval-rmse:2.24835\n",
      "[66]\ttrain-rmse:2.22908\tval-rmse:2.22684\n",
      "[67]\ttrain-rmse:2.20778\tval-rmse:2.20557\n",
      "[68]\ttrain-rmse:2.18670\tval-rmse:2.18450\n",
      "[69]\ttrain-rmse:2.16583\tval-rmse:2.16365\n",
      "[70]\ttrain-rmse:2.14519\tval-rmse:2.14303\n",
      "[71]\ttrain-rmse:2.12476\tval-rmse:2.12263\n",
      "[72]\ttrain-rmse:2.10454\tval-rmse:2.10242\n",
      "[73]\ttrain-rmse:2.08453\tval-rmse:2.08242\n",
      "[74]\ttrain-rmse:2.06474\tval-rmse:2.06266\n",
      "[75]\ttrain-rmse:2.04514\tval-rmse:2.04311\n",
      "[76]\ttrain-rmse:2.02576\tval-rmse:2.02374\n",
      "[77]\ttrain-rmse:2.00657\tval-rmse:2.00458\n",
      "[78]\ttrain-rmse:1.98759\tval-rmse:1.98561\n",
      "[79]\ttrain-rmse:1.96880\tval-rmse:1.96685\n",
      "[80]\ttrain-rmse:1.95022\tval-rmse:1.94827\n",
      "[81]\ttrain-rmse:1.93182\tval-rmse:1.92990\n",
      "[82]\ttrain-rmse:1.91362\tval-rmse:1.91172\n",
      "[83]\ttrain-rmse:1.89561\tval-rmse:1.89376\n",
      "[84]\ttrain-rmse:1.87778\tval-rmse:1.87594\n",
      "[85]\ttrain-rmse:1.86015\tval-rmse:1.85833\n",
      "[86]\ttrain-rmse:1.84270\tval-rmse:1.84091\n",
      "[87]\ttrain-rmse:1.82544\tval-rmse:1.82366\n",
      "[88]\ttrain-rmse:1.80834\tval-rmse:1.80660\n",
      "[89]\ttrain-rmse:1.79144\tval-rmse:1.78973\n",
      "[90]\ttrain-rmse:1.77472\tval-rmse:1.77302\n",
      "[91]\ttrain-rmse:1.75817\tval-rmse:1.75649\n",
      "[92]\ttrain-rmse:1.74181\tval-rmse:1.74016\n",
      "[93]\ttrain-rmse:1.72561\tval-rmse:1.72398\n",
      "[94]\ttrain-rmse:1.70958\tval-rmse:1.70797\n",
      "[95]\ttrain-rmse:1.69373\tval-rmse:1.69214\n",
      "[96]\ttrain-rmse:1.67804\tval-rmse:1.67647\n",
      "[97]\ttrain-rmse:1.66251\tval-rmse:1.66095\n",
      "[98]\ttrain-rmse:1.64716\tval-rmse:1.64563\n",
      "[99]\ttrain-rmse:1.63198\tval-rmse:1.63045\n"
     ]
    }
   ],
   "source": [
    "RMSE_Q6_score = []\n",
    "for eta_val in [0.3, 0.1, 0.01]:\n",
    "    xgb_params = {\n",
    "    'eta': eta_val, \n",
    "    'max_depth': 6,\n",
    "    'min_child_weight': 1,\n",
    "\n",
    "    'objective': 'reg:squarederror',\n",
    "    'nthread': 8,\n",
    "\n",
    "    'seed': 1,\n",
    "    'verbosity': 1\n",
    "    }\n",
    "    \n",
    "    model = xgb.train(xgb_params, dtrain, \n",
    "                      num_boost_round=100, evals=watchlist)\n",
    "    \n",
    "    y_pred = model.predict(dval)\n",
    "    RMSE_Q6 = RMSE(y_val, y_pred)\n",
    "    \n",
    "    RMSE_Q6_score.append((eta_val, RMSE_Q6.round(3)))"
   ]
  },
  {
   "cell_type": "code",
   "execution_count": 29,
   "id": "9339e2c0",
   "metadata": {},
   "outputs": [
    {
     "data": {
      "text/html": [
       "<div>\n",
       "<style scoped>\n",
       "    .dataframe tbody tr th:only-of-type {\n",
       "        vertical-align: middle;\n",
       "    }\n",
       "\n",
       "    .dataframe tbody tr th {\n",
       "        vertical-align: top;\n",
       "    }\n",
       "\n",
       "    .dataframe thead th {\n",
       "        text-align: right;\n",
       "    }\n",
       "</style>\n",
       "<table border=\"1\" class=\"dataframe\">\n",
       "  <thead>\n",
       "    <tr style=\"text-align: right;\">\n",
       "      <th></th>\n",
       "      <th>eta</th>\n",
       "      <th>RMSE_Q6</th>\n",
       "    </tr>\n",
       "  </thead>\n",
       "  <tbody>\n",
       "    <tr>\n",
       "      <th>0</th>\n",
       "      <td>0.30</td>\n",
       "      <td>0.436</td>\n",
       "    </tr>\n",
       "    <tr>\n",
       "      <th>1</th>\n",
       "      <td>0.10</td>\n",
       "      <td>0.432</td>\n",
       "    </tr>\n",
       "    <tr>\n",
       "      <th>2</th>\n",
       "      <td>0.01</td>\n",
       "      <td>1.630</td>\n",
       "    </tr>\n",
       "  </tbody>\n",
       "</table>\n",
       "</div>"
      ],
      "text/plain": [
       "    eta  RMSE_Q6\n",
       "0  0.30    0.436\n",
       "1  0.10    0.432\n",
       "2  0.01    1.630"
      ]
     },
     "execution_count": 29,
     "metadata": {},
     "output_type": "execute_result"
    }
   ],
   "source": [
    "columns = ['eta', 'RMSE_Q6']\n",
    "df_RMSE_Q6 = pd.DataFrame(RMSE_Q6_score, columns=columns)\n",
    "df_RMSE_Q6"
   ]
  }
 ],
 "metadata": {
  "kernelspec": {
   "display_name": "Python 3 (ipykernel)",
   "language": "python",
   "name": "python3"
  },
  "language_info": {
   "codemirror_mode": {
    "name": "ipython",
    "version": 3
   },
   "file_extension": ".py",
   "mimetype": "text/x-python",
   "name": "python",
   "nbconvert_exporter": "python",
   "pygments_lexer": "ipython3",
   "version": "3.9.7"
  }
 },
 "nbformat": 4,
 "nbformat_minor": 5
}
