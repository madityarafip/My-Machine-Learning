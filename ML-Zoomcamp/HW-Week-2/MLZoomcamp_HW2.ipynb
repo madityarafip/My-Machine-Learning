{
 "cells": [
  {
   "cell_type": "code",
   "execution_count": 1,
   "metadata": {
    "id": "W-gddeB6YD5R"
   },
   "outputs": [],
   "source": [
    "import pandas as pd\n",
    "import numpy as np\n",
    " \n",
    "import seaborn as sns\n",
    "from matplotlib import pyplot as plt"
   ]
  },
  {
   "cell_type": "markdown",
   "metadata": {
    "id": "GEIvexXhYWaL"
   },
   "source": [
    "Get The Data: New York City Airbnb Open Data"
   ]
  },
  {
   "cell_type": "code",
   "execution_count": 2,
   "metadata": {
    "colab": {
     "base_uri": "https://localhost:8080/"
    },
    "id": "aqFSY_bQYHyT",
    "outputId": "912da45c-2f2d-4296-8970-b31bc2feabc2"
   },
   "outputs": [
    {
     "name": "stderr",
     "output_type": "stream",
     "text": [
      "--2021-10-05 08:17:53--  http://%5C/\n",
      "Resolving \\\\ (\\\\)... failed: No such host is known. .\n",
      "wget: unable to resolve host address '\\\\'\n",
      "--2021-10-05 08:17:53--  https://raw.githubusercontent.com/alexeygrigorev/datasets/master/AB_NYC_2019.csv\n",
      "Resolving raw.githubusercontent.com (raw.githubusercontent.com)... 185.199.111.133, 185.199.110.133, 185.199.109.133, ...\n",
      "Connecting to raw.githubusercontent.com (raw.githubusercontent.com)|185.199.111.133|:443... connected.\n",
      "WARNING: cannot verify raw.githubusercontent.com's certificate, issued by 'CN=DigiCert SHA2 High Assurance Server CA,OU=www.digicert.com,O=DigiCert Inc,C=US':\n",
      "  Unable to locally verify the issuer's authority.\n",
      "HTTP request sent, awaiting response... 200 OK\n",
      "Length: 7077973 (6.8M) [text/plain]\n",
      "Saving to: 'AB_NYC_2019.csv.1'\n",
      "\n",
      "     0K .......... .......... .......... .......... ..........  0%  595K 12s\n",
      "    50K .......... .......... .......... .......... ..........  1%  683K 11s\n",
      "   100K .......... .......... .......... .......... ..........  2%  318K 14s\n",
      "   150K .......... .......... .......... .......... ..........  2%  565K 14s\n",
      "   200K .......... .......... .......... .......... ..........  3%  740K 13s\n",
      "   250K .......... .......... .......... .......... ..........  4%  925K 12s\n",
      "   300K .......... .......... .......... .......... ..........  5% 1.17M 11s\n",
      "   350K .......... .......... .......... .......... ..........  5% 3.63M 9s\n",
      "   400K .......... .......... .......... .......... ..........  6% 1.07M 9s\n",
      "   450K .......... .......... .......... .......... ..........  7%  946K 9s\n",
      "   500K .......... .......... .......... .......... ..........  7% 4.01M 8s\n",
      "   550K .......... .......... .......... .......... ..........  8% 1.02M 8s\n",
      "   600K .......... .......... .......... .......... ..........  9% 2.44M 7s\n",
      "   650K .......... .......... .......... .......... .......... 10%  967K 7s\n",
      "   700K .......... .......... .......... .......... .......... 10% 2.01M 7s\n",
      "   750K .......... .......... .......... .......... .......... 11% 2.03M 7s\n",
      "   800K .......... .......... .......... .......... .......... 12% 1.61M 6s\n",
      "   850K .......... .......... .......... .......... .......... 13% 1.06M 6s\n",
      "   900K .......... .......... .......... .......... .......... 13% 6.48M 6s\n",
      "   950K .......... .......... .......... .......... .......... 14%  948K 6s\n",
      "  1000K .......... .......... .......... .......... .......... 15% 1.42M 6s\n",
      "  1050K .......... .......... .......... .......... .......... 15% 1.15M 6s\n",
      "  1100K .......... .......... .......... .......... .......... 16% 4.65M 5s\n",
      "  1150K .......... .......... .......... .......... .......... 17% 2.30M 5s\n",
      "  1200K .......... .......... .......... .......... .......... 18% 1.53M 5s\n",
      "  1250K .......... .......... .......... .......... .......... 18% 1000K 5s\n",
      "  1300K .......... .......... .......... .......... .......... 19% 1.35M 5s\n",
      "  1350K .......... .......... .......... .......... .......... 20% 1.50M 5s\n",
      "  1400K .......... .......... .......... .......... .......... 20% 3.09M 5s\n",
      "  1450K .......... .......... .......... .......... .......... 21% 1.45M 5s\n",
      "  1500K .......... .......... .......... .......... .......... 22% 2.92M 5s\n",
      "  1550K .......... .......... .......... .......... .......... 23% 2.41M 4s\n",
      "  1600K .......... .......... .......... .......... .......... 23% 2.74M 4s\n",
      "  1650K .......... .......... .......... .......... .......... 24% 1.96M 4s\n",
      "  1700K .......... .......... .......... .......... .......... 25% 1.71M 4s\n",
      "  1750K .......... .......... .......... .......... .......... 26% 3.52M 4s\n",
      "  1800K .......... .......... .......... .......... .......... 26% 2.26M 4s\n",
      "  1850K .......... .......... .......... .......... .......... 27%  424K 4s\n",
      "  1900K .......... .......... .......... .......... .......... 28% 7.17M 4s\n",
      "  1950K .......... .......... .......... .......... .......... 28%  788K 4s\n",
      "  2000K .......... .......... .......... .......... .......... 29% 1.20M 4s\n",
      "  2050K .......... .......... .......... .......... .......... 30%  602K 4s\n",
      "  2100K .......... .......... .......... .......... .......... 31% 7.78M 4s\n",
      "  2150K .......... .......... .......... .......... .......... 31% 9.27M 4s\n",
      "  2200K .......... .......... .......... .......... .......... 32%  817K 4s\n",
      "  2250K .......... .......... .......... .......... .......... 33% 1.62M 4s\n",
      "  2300K .......... .......... .......... .......... .......... 33% 1.87M 4s\n",
      "  2350K .......... .......... .......... .......... .......... 34% 1.58M 4s\n",
      "  2400K .......... .......... .......... .......... .......... 35% 2.96M 4s\n",
      "  2450K .......... .......... .......... .......... .......... 36% 1.62M 3s\n",
      "  2500K .......... .......... .......... .......... .......... 36% 2.45M 3s\n",
      "  2550K .......... .......... .......... .......... .......... 37% 1.64M 3s\n",
      "  2600K .......... .......... .......... .......... .......... 38% 2.10M 3s\n",
      "  2650K .......... .......... .......... .......... .......... 39% 2.44M 3s\n",
      "  2700K .......... .......... .......... .......... .......... 39% 2.32M 3s\n",
      "  2750K .......... .......... .......... .......... .......... 40% 1.31M 3s\n",
      "  2800K .......... .......... .......... .......... .......... 41% 1.77M 3s\n",
      "  2850K .......... .......... .......... .......... .......... 41% 1.99M 3s\n",
      "  2900K .......... .......... .......... .......... .......... 42% 1.50M 3s\n",
      "  2950K .......... .......... .......... .......... .......... 43% 2.11M 3s\n",
      "  3000K .......... .......... .......... .......... .......... 44% 2.29M 3s\n",
      "  3050K .......... .......... .......... .......... .......... 44% 3.17M 3s\n",
      "  3100K .......... .......... .......... .......... .......... 45% 1.50M 3s\n",
      "  3150K .......... .......... .......... .......... .......... 46% 2.79M 3s\n",
      "  3200K .......... .......... .......... .......... .......... 47% 3.44M 3s\n",
      "  3250K .......... .......... .......... .......... .......... 47% 2.00M 3s\n",
      "  3300K .......... .......... .......... .......... .......... 48% 1.67M 3s\n",
      "  3350K .......... .......... .......... .......... .......... 49% 1.80M 2s\n",
      "  3400K .......... .......... .......... .......... .......... 49% 1.38M 2s\n",
      "  3450K .......... .......... .......... .......... .......... 50% 4.10M 2s\n",
      "  3500K .......... .......... .......... .......... .......... 51% 1.58M 2s\n",
      "  3550K .......... .......... .......... .......... .......... 52% 1.59M 2s\n",
      "  3600K .......... .......... .......... .......... .......... 52% 2.46M 2s\n",
      "  3650K .......... .......... .......... .......... .......... 53% 1.53M 2s\n",
      "  3700K .......... .......... .......... .......... .......... 54% 3.76M 2s\n",
      "  3750K .......... .......... .......... .......... .......... 54% 2.38M 2s\n",
      "  3800K .......... .......... .......... .......... .......... 55% 1.72M 2s\n",
      "  3850K .......... .......... .......... .......... .......... 56% 4.86M 2s\n",
      "  3900K .......... .......... .......... .......... .......... 57% 1.52M 2s\n",
      "  3950K .......... .......... .......... .......... .......... 57% 2.61M 2s\n",
      "  4000K .......... .......... .......... .......... .......... 58% 2.41M 2s\n",
      "  4050K .......... .......... .......... .......... .......... 59%  449K 2s\n",
      "  4100K .......... .......... .......... .......... .......... 60% 2.74M 2s\n",
      "  4150K .......... .......... .......... .......... .......... 60% 1.88M 2s\n",
      "  4200K .......... .......... .......... .......... .......... 61% 1.10M 2s\n",
      "  4250K .......... .......... .......... .......... .......... 62% 1.45M 2s\n",
      "  4300K .......... .......... .......... .......... .......... 62% 2.18M 2s\n",
      "  4350K .......... .......... .......... .......... .......... 63% 2.09M 2s\n",
      "  4400K .......... .......... .......... .......... .......... 64% 1.57M 2s\n",
      "  4450K .......... .......... .......... .......... .......... 65% 1.61M 2s\n",
      "  4500K .......... .......... .......... .......... .......... 65% 2.75M 2s\n",
      "  4550K .......... .......... .......... .......... .......... 66% 1.87M 2s\n",
      "  4600K .......... .......... .......... .......... .......... 67% 1.94M 2s\n",
      "  4650K .......... .......... .......... .......... .......... 67% 1.92M 1s\n",
      "  4700K .......... .......... .......... .......... .......... 68% 2.11M 1s\n",
      "  4750K .......... .......... .......... .......... .......... 69% 1.82M 1s\n",
      "  4800K .......... .......... .......... .......... .......... 70% 2.61M 1s\n",
      "  4850K .......... .......... .......... .......... .......... 70% 1.34M 1s\n",
      "  4900K .......... .......... .......... .......... .......... 71% 2.30M 1s\n",
      "  4950K .......... .......... .......... .......... .......... 72% 3.73M 1s\n",
      "  5000K .......... .......... .......... .......... .......... 73% 2.40M 1s\n",
      "  5050K .......... .......... .......... .......... .......... 73% 3.02M 1s\n",
      "  5100K .......... .......... .......... .......... .......... 74% 1.70M 1s\n",
      "  5150K .......... .......... .......... .......... .......... 75% 4.51M 1s\n",
      "  5200K .......... .......... .......... .......... .......... 75% 1.76M 1s\n",
      "  5250K .......... .......... .......... .......... .......... 76% 1.71M 1s\n",
      "  5300K .......... .......... .......... .......... .......... 77% 3.86M 1s\n",
      "  5350K .......... .......... .......... .......... .......... 78% 3.14M 1s\n",
      "  5400K .......... .......... .......... .......... .......... 78% 2.33M 1s\n",
      "  5450K .......... .......... .......... .......... .......... 79% 5.11M 1s\n",
      "  5500K .......... .......... .......... .......... .......... 80% 4.31M 1s\n",
      "  5550K .......... .......... .......... .......... .......... 81% 1.66M 1s\n",
      "  5600K .......... .......... .......... .......... .......... 81% 2.70M 1s\n",
      "  5650K .......... .......... .......... .......... .......... 82%  571K 1s\n",
      "  5700K .......... .......... .......... .......... .......... 83% 5.95M 1s\n",
      "  5750K .......... .......... .......... .......... .......... 83% 7.30M 1s\n",
      "  5800K .......... .......... .......... .......... .......... 84% 4.25M 1s\n",
      "  5850K .......... .......... .......... .......... .......... 85% 11.9M 1s\n",
      "  5900K .......... .......... .......... .......... .......... 86% 7.69M 1s\n",
      "  5950K .......... .......... .......... .......... .......... 86% 7.29M 1s\n",
      "  6000K .......... .......... .......... .......... .......... 87% 6.29M 1s\n",
      "  6050K .......... .......... .......... .......... .......... 88% 1.33M 0s\n",
      "  6100K .......... .......... .......... .......... .......... 88% 2.65M 0s\n",
      "  6150K .......... .......... .......... .......... .......... 89% 1.43M 0s\n",
      "  6200K .......... .......... .......... .......... .......... 90%  716K 0s\n",
      "  6250K .......... .......... .......... .......... .......... 91% 2.41M 0s\n",
      "  6300K .......... .......... .......... .......... .......... 91%  826K 0s\n",
      "  6350K .......... .......... .......... .......... .......... 92% 1.34M 0s\n",
      "  6400K .......... .......... .......... .......... .......... 93%  287K 0s\n",
      "  6450K .......... .......... .......... .......... .......... 94% 1.88M 0s\n",
      "  6500K .......... .......... .......... .......... .......... 94%  723K 0s\n",
      "  6550K .......... .......... .......... .......... .......... 95% 1.86M 0s\n",
      "  6600K .......... .......... .......... .......... .......... 96% 1.42M 0s\n",
      "  6650K .......... .......... .......... .......... .......... 96% 1.04M 0s\n",
      "  6700K .......... .......... .......... .......... .......... 97% 3.48M 0s\n",
      "  6750K .......... .......... .......... .......... .......... 98% 1.58M 0s\n",
      "  6800K .......... .......... .......... .......... .......... 99% 1.81M 0s\n",
      "  6850K .......... .......... .......... .......... .......... 99%  945K 0s\n",
      "  6900K .......... ..                                         100% 35.9M=4.5s\n",
      "\n",
      "2021-10-05 08:17:59 (1.52 MB/s) - 'AB_NYC_2019.csv.1' saved [7077973/7077973]\n",
      "\n",
      "FINISHED --2021-10-05 08:17:59--\n",
      "Total wall clock time: 5.7s\n",
      "Downloaded: 1 files, 6.8M in 4.5s (1.52 MB/s)\n"
     ]
    }
   ],
   "source": [
    "!wget --no-check-certificate \\ https://raw.githubusercontent.com/alexeygrigorev/datasets/master/AB_NYC_2019.csv"
   ]
  },
  {
   "cell_type": "code",
   "execution_count": 3,
   "metadata": {
    "colab": {
     "base_uri": "https://localhost:8080/"
    },
    "id": "65pHosB4YWCf",
    "outputId": "c2acda16-2b90-4dac-f555-4b1d794ece27"
   },
   "outputs": [
    {
     "data": {
      "text/plain": [
       "48895"
      ]
     },
     "execution_count": 3,
     "metadata": {},
     "output_type": "execute_result"
    }
   ],
   "source": [
    "df = pd.read_csv('AB_NYC_2019.csv')\n",
    "len(df)"
   ]
  },
  {
   "cell_type": "code",
   "execution_count": null,
   "metadata": {
    "colab": {
     "base_uri": "https://localhost:8080/",
     "height": 417
    },
    "id": "F-Oy3232YxCb",
    "outputId": "17347d71-3ce5-430c-a49f-2ce9339e80ad"
   },
   "outputs": [
    {
     "data": {
      "text/html": [
       "<div>\n",
       "<style scoped>\n",
       "    .dataframe tbody tr th:only-of-type {\n",
       "        vertical-align: middle;\n",
       "    }\n",
       "\n",
       "    .dataframe tbody tr th {\n",
       "        vertical-align: top;\n",
       "    }\n",
       "\n",
       "    .dataframe thead th {\n",
       "        text-align: right;\n",
       "    }\n",
       "</style>\n",
       "<table border=\"1\" class=\"dataframe\">\n",
       "  <thead>\n",
       "    <tr style=\"text-align: right;\">\n",
       "      <th></th>\n",
       "      <th>id</th>\n",
       "      <th>name</th>\n",
       "      <th>host_id</th>\n",
       "      <th>host_name</th>\n",
       "      <th>neighbourhood_group</th>\n",
       "      <th>neighbourhood</th>\n",
       "      <th>latitude</th>\n",
       "      <th>longitude</th>\n",
       "      <th>room_type</th>\n",
       "      <th>price</th>\n",
       "      <th>minimum_nights</th>\n",
       "      <th>number_of_reviews</th>\n",
       "      <th>last_review</th>\n",
       "      <th>reviews_per_month</th>\n",
       "      <th>calculated_host_listings_count</th>\n",
       "      <th>availability_365</th>\n",
       "    </tr>\n",
       "  </thead>\n",
       "  <tbody>\n",
       "    <tr>\n",
       "      <th>0</th>\n",
       "      <td>2539</td>\n",
       "      <td>Clean &amp; quiet apt home by the park</td>\n",
       "      <td>2787</td>\n",
       "      <td>John</td>\n",
       "      <td>Brooklyn</td>\n",
       "      <td>Kensington</td>\n",
       "      <td>40.64749</td>\n",
       "      <td>-73.97237</td>\n",
       "      <td>Private room</td>\n",
       "      <td>149</td>\n",
       "      <td>1</td>\n",
       "      <td>9</td>\n",
       "      <td>2018-10-19</td>\n",
       "      <td>0.21</td>\n",
       "      <td>6</td>\n",
       "      <td>365</td>\n",
       "    </tr>\n",
       "    <tr>\n",
       "      <th>1</th>\n",
       "      <td>2595</td>\n",
       "      <td>Skylit Midtown Castle</td>\n",
       "      <td>2845</td>\n",
       "      <td>Jennifer</td>\n",
       "      <td>Manhattan</td>\n",
       "      <td>Midtown</td>\n",
       "      <td>40.75362</td>\n",
       "      <td>-73.98377</td>\n",
       "      <td>Entire home/apt</td>\n",
       "      <td>225</td>\n",
       "      <td>1</td>\n",
       "      <td>45</td>\n",
       "      <td>2019-05-21</td>\n",
       "      <td>0.38</td>\n",
       "      <td>2</td>\n",
       "      <td>355</td>\n",
       "    </tr>\n",
       "    <tr>\n",
       "      <th>2</th>\n",
       "      <td>3647</td>\n",
       "      <td>THE VILLAGE OF HARLEM....NEW YORK !</td>\n",
       "      <td>4632</td>\n",
       "      <td>Elisabeth</td>\n",
       "      <td>Manhattan</td>\n",
       "      <td>Harlem</td>\n",
       "      <td>40.80902</td>\n",
       "      <td>-73.94190</td>\n",
       "      <td>Private room</td>\n",
       "      <td>150</td>\n",
       "      <td>3</td>\n",
       "      <td>0</td>\n",
       "      <td>NaN</td>\n",
       "      <td>NaN</td>\n",
       "      <td>1</td>\n",
       "      <td>365</td>\n",
       "    </tr>\n",
       "    <tr>\n",
       "      <th>3</th>\n",
       "      <td>3831</td>\n",
       "      <td>Cozy Entire Floor of Brownstone</td>\n",
       "      <td>4869</td>\n",
       "      <td>LisaRoxanne</td>\n",
       "      <td>Brooklyn</td>\n",
       "      <td>Clinton Hill</td>\n",
       "      <td>40.68514</td>\n",
       "      <td>-73.95976</td>\n",
       "      <td>Entire home/apt</td>\n",
       "      <td>89</td>\n",
       "      <td>1</td>\n",
       "      <td>270</td>\n",
       "      <td>2019-07-05</td>\n",
       "      <td>4.64</td>\n",
       "      <td>1</td>\n",
       "      <td>194</td>\n",
       "    </tr>\n",
       "    <tr>\n",
       "      <th>4</th>\n",
       "      <td>5022</td>\n",
       "      <td>Entire Apt: Spacious Studio/Loft by central park</td>\n",
       "      <td>7192</td>\n",
       "      <td>Laura</td>\n",
       "      <td>Manhattan</td>\n",
       "      <td>East Harlem</td>\n",
       "      <td>40.79851</td>\n",
       "      <td>-73.94399</td>\n",
       "      <td>Entire home/apt</td>\n",
       "      <td>80</td>\n",
       "      <td>10</td>\n",
       "      <td>9</td>\n",
       "      <td>2018-11-19</td>\n",
       "      <td>0.10</td>\n",
       "      <td>1</td>\n",
       "      <td>0</td>\n",
       "    </tr>\n",
       "  </tbody>\n",
       "</table>\n",
       "</div>"
      ],
      "text/plain": [
       "     id  ... availability_365\n",
       "0  2539  ...              365\n",
       "1  2595  ...              355\n",
       "2  3647  ...              365\n",
       "3  3831  ...              194\n",
       "4  5022  ...                0\n",
       "\n",
       "[5 rows x 16 columns]"
      ]
     },
     "execution_count": 56,
     "metadata": {},
     "output_type": "execute_result"
    }
   ],
   "source": [
    "df.head()"
   ]
  },
  {
   "cell_type": "code",
   "execution_count": null,
   "metadata": {
    "id": "ApaWQtMNoltQ"
   },
   "outputs": [],
   "source": [
    "used_columns = [\n",
    "                'latitude',\n",
    "                'longitude',\n",
    "                'price',\n",
    "                'minimum_nights',\n",
    "                'number_of_reviews',\n",
    "                'reviews_per_month',\n",
    "                'calculated_host_listings_count',\n",
    "                'availability_365'   \n",
    "                ]"
   ]
  },
  {
   "cell_type": "code",
   "execution_count": null,
   "metadata": {
    "colab": {
     "base_uri": "https://localhost:8080/",
     "height": 143
    },
    "id": "w5v3MWveZVhn",
    "outputId": "7704b18d-3193-4590-d616-7f242ac0322d"
   },
   "outputs": [
    {
     "data": {
      "text/html": [
       "<div>\n",
       "<style scoped>\n",
       "    .dataframe tbody tr th:only-of-type {\n",
       "        vertical-align: middle;\n",
       "    }\n",
       "\n",
       "    .dataframe tbody tr th {\n",
       "        vertical-align: top;\n",
       "    }\n",
       "\n",
       "    .dataframe thead th {\n",
       "        text-align: right;\n",
       "    }\n",
       "</style>\n",
       "<table border=\"1\" class=\"dataframe\">\n",
       "  <thead>\n",
       "    <tr style=\"text-align: right;\">\n",
       "      <th></th>\n",
       "      <th>latitude</th>\n",
       "      <th>longitude</th>\n",
       "      <th>price</th>\n",
       "      <th>minimum_nights</th>\n",
       "      <th>number_of_reviews</th>\n",
       "      <th>reviews_per_month</th>\n",
       "      <th>calculated_host_listings_count</th>\n",
       "      <th>availability_365</th>\n",
       "    </tr>\n",
       "  </thead>\n",
       "  <tbody>\n",
       "    <tr>\n",
       "      <th>0</th>\n",
       "      <td>40.64749</td>\n",
       "      <td>-73.97237</td>\n",
       "      <td>149</td>\n",
       "      <td>1</td>\n",
       "      <td>9</td>\n",
       "      <td>0.21</td>\n",
       "      <td>6</td>\n",
       "      <td>365</td>\n",
       "    </tr>\n",
       "    <tr>\n",
       "      <th>1</th>\n",
       "      <td>40.75362</td>\n",
       "      <td>-73.98377</td>\n",
       "      <td>225</td>\n",
       "      <td>1</td>\n",
       "      <td>45</td>\n",
       "      <td>0.38</td>\n",
       "      <td>2</td>\n",
       "      <td>355</td>\n",
       "    </tr>\n",
       "    <tr>\n",
       "      <th>2</th>\n",
       "      <td>40.80902</td>\n",
       "      <td>-73.94190</td>\n",
       "      <td>150</td>\n",
       "      <td>3</td>\n",
       "      <td>0</td>\n",
       "      <td>NaN</td>\n",
       "      <td>1</td>\n",
       "      <td>365</td>\n",
       "    </tr>\n",
       "  </tbody>\n",
       "</table>\n",
       "</div>"
      ],
      "text/plain": [
       "   latitude  longitude  ...  calculated_host_listings_count  availability_365\n",
       "0  40.64749  -73.97237  ...                               6               365\n",
       "1  40.75362  -73.98377  ...                               2               355\n",
       "2  40.80902  -73.94190  ...                               1               365\n",
       "\n",
       "[3 rows x 8 columns]"
      ]
     },
     "execution_count": 58,
     "metadata": {},
     "output_type": "execute_result"
    }
   ],
   "source": [
    "HW_df = df[used_columns]\n",
    "HW_df.head(3)"
   ]
  },
  {
   "cell_type": "markdown",
   "metadata": {
    "id": "CGQUVR87Zv4g"
   },
   "source": [
    "------------------------------------------------------------------------------\n",
    "ANS Q1:"
   ]
  },
  {
   "cell_type": "code",
   "execution_count": null,
   "metadata": {
    "colab": {
     "base_uri": "https://localhost:8080/"
    },
    "id": "SnL_lq9lZoLW",
    "outputId": "14445248-4446-4a90-f7b0-3149fcff5b35"
   },
   "outputs": [
    {
     "data": {
      "text/plain": [
       "latitude                              0\n",
       "longitude                             0\n",
       "price                                 0\n",
       "minimum_nights                        0\n",
       "number_of_reviews                     0\n",
       "reviews_per_month                 10052\n",
       "calculated_host_listings_count        0\n",
       "availability_365                      0\n",
       "dtype: int64"
      ]
     },
     "execution_count": 59,
     "metadata": {},
     "output_type": "execute_result"
    }
   ],
   "source": [
    "HW_df.isnull().sum()"
   ]
  },
  {
   "cell_type": "markdown",
   "metadata": {
    "id": "-8YrlCUSZ-Dr"
   },
   "source": [
    "------------------------------------------------------------------------------\n",
    "ANS Q2:"
   ]
  },
  {
   "cell_type": "code",
   "execution_count": null,
   "metadata": {
    "colab": {
     "base_uri": "https://localhost:8080/"
    },
    "id": "M58lt_BnaAqK",
    "outputId": "d31a3e56-6b17-40fc-d92c-691b9e619b05"
   },
   "outputs": [
    {
     "data": {
      "text/plain": [
       "3.0"
      ]
     },
     "execution_count": 60,
     "metadata": {},
     "output_type": "execute_result"
    }
   ],
   "source": [
    "HW_df['minimum_nights'].median()"
   ]
  },
  {
   "cell_type": "markdown",
   "metadata": {
    "id": "qrCXjMqEdXbo"
   },
   "source": [
    "------------------------------------------------------------------------------\n",
    "Split Data (Manually)"
   ]
  },
  {
   "cell_type": "code",
   "execution_count": null,
   "metadata": {
    "id": "LavZ_KKodXEV"
   },
   "outputs": [],
   "source": [
    "def split_data(n,split_val,split_test):\n",
    "  n_val = int(split_val*n)\n",
    "  n_test = int(split_test*n)\n",
    "  n_train = n - n_val - n_test\n",
    "  print('Train Split : ', 1 - split_val - split_test)\n",
    "  print(' ')\n",
    "  print(n_train, n_val, n_test)\n",
    "  \n",
    "  return n_train, n_val, n_test"
   ]
  },
  {
   "cell_type": "code",
   "execution_count": null,
   "metadata": {
    "colab": {
     "base_uri": "https://localhost:8080/"
    },
    "id": "mJlrJiZ23ejD",
    "outputId": "b40c6bae-9cc8-4aa9-ba21-0ce4ea9c6b46"
   },
   "outputs": [
    {
     "name": "stdout",
     "output_type": "stream",
     "text": [
      "Val Split : 0.2\n",
      "Test Split : 0.2\n",
      "Train Split :  0.6000000000000001\n",
      " \n",
      "29337 9779 9779\n"
     ]
    }
   ],
   "source": [
    "n = len(HW_df)\n",
    "\n",
    "split_val = float(input('Val Split : '))\n",
    "split_test = float(input('Test Split : '))\n",
    "\n",
    "n_train, n_val, n_test = split_data(n,split_val,split_test)"
   ]
  },
  {
   "cell_type": "code",
   "execution_count": null,
   "metadata": {
    "id": "aNFDhnmUhKQr"
   },
   "outputs": [],
   "source": [
    "idx = np.arange(n)\n",
    "\n",
    "np.random.seed(42)\n",
    "np.random.shuffle(idx)"
   ]
  },
  {
   "cell_type": "code",
   "execution_count": null,
   "metadata": {
    "id": "MRH78fJTgBJL"
   },
   "outputs": [],
   "source": [
    "df_train = HW_df.iloc[idx[:n_train]]\n",
    "df_val = HW_df.iloc[idx[n_train:n_train+n_val]]\n",
    "df_test = HW_df.iloc[idx[n_train+n_val:]]"
   ]
  },
  {
   "cell_type": "code",
   "execution_count": null,
   "metadata": {
    "id": "v0HqltXPjJsz"
   },
   "outputs": [],
   "source": [
    "df_train = df_train.reset_index(drop=True)\n",
    "df_val = df_val.reset_index(drop=True)\n",
    "df_test = df_test.reset_index(drop=True)"
   ]
  },
  {
   "cell_type": "code",
   "execution_count": null,
   "metadata": {
    "colab": {
     "base_uri": "https://localhost:8080/",
     "height": 143
    },
    "id": "zqUm8KwMpzn9",
    "outputId": "703ffc5c-70c4-42bd-a75d-2063c9f76998"
   },
   "outputs": [
    {
     "data": {
      "text/html": [
       "<div>\n",
       "<style scoped>\n",
       "    .dataframe tbody tr th:only-of-type {\n",
       "        vertical-align: middle;\n",
       "    }\n",
       "\n",
       "    .dataframe tbody tr th {\n",
       "        vertical-align: top;\n",
       "    }\n",
       "\n",
       "    .dataframe thead th {\n",
       "        text-align: right;\n",
       "    }\n",
       "</style>\n",
       "<table border=\"1\" class=\"dataframe\">\n",
       "  <thead>\n",
       "    <tr style=\"text-align: right;\">\n",
       "      <th></th>\n",
       "      <th>latitude</th>\n",
       "      <th>longitude</th>\n",
       "      <th>price</th>\n",
       "      <th>minimum_nights</th>\n",
       "      <th>number_of_reviews</th>\n",
       "      <th>reviews_per_month</th>\n",
       "      <th>calculated_host_listings_count</th>\n",
       "      <th>availability_365</th>\n",
       "    </tr>\n",
       "  </thead>\n",
       "  <tbody>\n",
       "    <tr>\n",
       "      <th>0</th>\n",
       "      <td>40.64354</td>\n",
       "      <td>-73.97777</td>\n",
       "      <td>89</td>\n",
       "      <td>3</td>\n",
       "      <td>62</td>\n",
       "      <td>0.71</td>\n",
       "      <td>1</td>\n",
       "      <td>189</td>\n",
       "    </tr>\n",
       "    <tr>\n",
       "      <th>1</th>\n",
       "      <td>40.70666</td>\n",
       "      <td>-73.90779</td>\n",
       "      <td>30</td>\n",
       "      <td>21</td>\n",
       "      <td>0</td>\n",
       "      <td>NaN</td>\n",
       "      <td>1</td>\n",
       "      <td>73</td>\n",
       "    </tr>\n",
       "    <tr>\n",
       "      <th>2</th>\n",
       "      <td>40.76116</td>\n",
       "      <td>-73.99016</td>\n",
       "      <td>120</td>\n",
       "      <td>2</td>\n",
       "      <td>17</td>\n",
       "      <td>0.43</td>\n",
       "      <td>1</td>\n",
       "      <td>0</td>\n",
       "    </tr>\n",
       "  </tbody>\n",
       "</table>\n",
       "</div>"
      ],
      "text/plain": [
       "   latitude  longitude  ...  calculated_host_listings_count  availability_365\n",
       "0  40.64354  -73.97777  ...                               1               189\n",
       "1  40.70666  -73.90779  ...                               1                73\n",
       "2  40.76116  -73.99016  ...                               1                 0\n",
       "\n",
       "[3 rows x 8 columns]"
      ]
     },
     "execution_count": 66,
     "metadata": {},
     "output_type": "execute_result"
    }
   ],
   "source": [
    "df_train.head(3)"
   ]
  },
  {
   "cell_type": "code",
   "execution_count": null,
   "metadata": {
    "id": "Sg0Cu_--jpf6"
   },
   "outputs": [],
   "source": [
    "y_train = np.log1p(df_train.price.values)\n",
    "y_val = np.log1p(df_val.price.values)\n",
    "y_test = np.log1p(df_test.price.values)"
   ]
  },
  {
   "cell_type": "code",
   "execution_count": null,
   "metadata": {
    "colab": {
     "base_uri": "https://localhost:8080/"
    },
    "id": "aazNYNGV5Qb_",
    "outputId": "ed1dbb03-9d64-4726-d80a-959e66e59efb"
   },
   "outputs": [
    {
     "data": {
      "text/plain": [
       "array([4.49980967, 3.4339872 , 4.79579055, ..., 4.61512052, 4.2341065 ,\n",
       "       3.8286414 ])"
      ]
     },
     "execution_count": 68,
     "metadata": {},
     "output_type": "execute_result"
    }
   ],
   "source": [
    "y_train"
   ]
  },
  {
   "cell_type": "code",
   "execution_count": null,
   "metadata": {
    "id": "wk0pSYaokEOO"
   },
   "outputs": [],
   "source": [
    "del df_train['price']\n",
    "del df_val['price']\n",
    "del df_test['price']"
   ]
  },
  {
   "cell_type": "code",
   "execution_count": null,
   "metadata": {
    "colab": {
     "base_uri": "https://localhost:8080/"
    },
    "id": "GyRDxDTokRxE",
    "outputId": "5c863106-1d4e-4125-c8c5-eb55163a487b"
   },
   "outputs": [
    {
     "data": {
      "text/plain": [
       "29337"
      ]
     },
     "execution_count": 70,
     "metadata": {},
     "output_type": "execute_result"
    }
   ],
   "source": [
    "len(y_train)"
   ]
  },
  {
   "cell_type": "code",
   "execution_count": null,
   "metadata": {
    "colab": {
     "base_uri": "https://localhost:8080/",
     "height": 143
    },
    "id": "0Gcja5QWkXCd",
    "outputId": "821c2b8e-c38d-4d56-a6ec-8dc164117854"
   },
   "outputs": [
    {
     "data": {
      "text/html": [
       "<div>\n",
       "<style scoped>\n",
       "    .dataframe tbody tr th:only-of-type {\n",
       "        vertical-align: middle;\n",
       "    }\n",
       "\n",
       "    .dataframe tbody tr th {\n",
       "        vertical-align: top;\n",
       "    }\n",
       "\n",
       "    .dataframe thead th {\n",
       "        text-align: right;\n",
       "    }\n",
       "</style>\n",
       "<table border=\"1\" class=\"dataframe\">\n",
       "  <thead>\n",
       "    <tr style=\"text-align: right;\">\n",
       "      <th></th>\n",
       "      <th>latitude</th>\n",
       "      <th>longitude</th>\n",
       "      <th>minimum_nights</th>\n",
       "      <th>number_of_reviews</th>\n",
       "      <th>reviews_per_month</th>\n",
       "      <th>calculated_host_listings_count</th>\n",
       "      <th>availability_365</th>\n",
       "    </tr>\n",
       "  </thead>\n",
       "  <tbody>\n",
       "    <tr>\n",
       "      <th>0</th>\n",
       "      <td>40.64354</td>\n",
       "      <td>-73.97777</td>\n",
       "      <td>3</td>\n",
       "      <td>62</td>\n",
       "      <td>0.71</td>\n",
       "      <td>1</td>\n",
       "      <td>189</td>\n",
       "    </tr>\n",
       "    <tr>\n",
       "      <th>1</th>\n",
       "      <td>40.70666</td>\n",
       "      <td>-73.90779</td>\n",
       "      <td>21</td>\n",
       "      <td>0</td>\n",
       "      <td>NaN</td>\n",
       "      <td>1</td>\n",
       "      <td>73</td>\n",
       "    </tr>\n",
       "    <tr>\n",
       "      <th>2</th>\n",
       "      <td>40.76116</td>\n",
       "      <td>-73.99016</td>\n",
       "      <td>2</td>\n",
       "      <td>17</td>\n",
       "      <td>0.43</td>\n",
       "      <td>1</td>\n",
       "      <td>0</td>\n",
       "    </tr>\n",
       "  </tbody>\n",
       "</table>\n",
       "</div>"
      ],
      "text/plain": [
       "   latitude  longitude  ...  calculated_host_listings_count  availability_365\n",
       "0  40.64354  -73.97777  ...                               1               189\n",
       "1  40.70666  -73.90779  ...                               1                73\n",
       "2  40.76116  -73.99016  ...                               1                 0\n",
       "\n",
       "[3 rows x 7 columns]"
      ]
     },
     "execution_count": 71,
     "metadata": {},
     "output_type": "execute_result"
    }
   ],
   "source": [
    "df_train.head(3)"
   ]
  },
  {
   "cell_type": "markdown",
   "metadata": {
    "id": "1slk0vtnqtf5"
   },
   "source": [
    "------------------------------------------------------------------------------\n",
    "Linear Regression (w/o Regularization)"
   ]
  },
  {
   "cell_type": "code",
   "execution_count": null,
   "metadata": {
    "id": "QY2YXdyKq51k"
   },
   "outputs": [],
   "source": [
    "def LG_wo_R(X, y):\n",
    "  ones = np.ones(X.shape[0])\n",
    "  X = np.column_stack([ones, X])\n",
    "\n",
    "  XTX = X.T.dot(X)\n",
    "  XTX_inv = np.linalg.inv(XTX)\n",
    "  w = XTX_inv.dot(X.T).dot(y)\n",
    "\n",
    "  return w[0], w[1:]"
   ]
  },
  {
   "cell_type": "markdown",
   "metadata": {
    "id": "BitdbUOFs_3o"
   },
   "source": [
    "------------------------------------------------------------------------------\n",
    "RMSE"
   ]
  },
  {
   "cell_type": "code",
   "execution_count": null,
   "metadata": {
    "id": "JRpV88GCs_kP"
   },
   "outputs": [],
   "source": [
    "def RMSE(y, y_pred):\n",
    "  e = y_pred - y\n",
    "  mse = (e ** 2).mean()\n",
    "  rmse_val = np.sqrt(mse)\n",
    "\n",
    "  return rmse_val"
   ]
  },
  {
   "cell_type": "markdown",
   "metadata": {
    "id": "s6wGIAlodNiL"
   },
   "source": [
    "------------------------------------------------------------------------------\n",
    "ANS Q3:\n",
    "For this question there are 2 options\n",
    "\n",
    "\n",
    "1.   Fill the Missing Value with 0\n",
    "2.   Fill the Missing Value with mean\n",
    "\n"
   ]
  },
  {
   "cell_type": "code",
   "execution_count": null,
   "metadata": {
    "id": "15zxNOqN4XaQ"
   },
   "outputs": [],
   "source": [
    "base = [\n",
    "        'latitude',\n",
    "        'longitude',\n",
    "        'minimum_nights',\n",
    "        'number_of_reviews',\n",
    "        'reviews_per_month',\n",
    "        'calculated_host_listings_count',\n",
    "        'availability_365'\n",
    "        ]"
   ]
  },
  {
   "cell_type": "markdown",
   "metadata": {
    "id": "7ZS7oQqudko9"
   },
   "source": [
    "*Option 1*"
   ]
  },
  {
   "cell_type": "code",
   "execution_count": null,
   "metadata": {
    "id": "b0-np1UDdofG"
   },
   "outputs": [],
   "source": [
    "def X_opt_1(df):\n",
    "  df_opt_1 = df[base]\n",
    "  df_opt_1 = df_opt_1.fillna(0)\n",
    "  X = df_opt_1.values\n",
    "\n",
    "  return X"
   ]
  },
  {
   "cell_type": "code",
   "execution_count": null,
   "metadata": {
    "id": "DVpGGnx8er_m"
   },
   "outputs": [],
   "source": [
    "X1_train = X_opt_1(df_train)\n",
    "w0_1, w_1 = LG_wo_R(X1_train, y_train)"
   ]
  },
  {
   "cell_type": "code",
   "execution_count": null,
   "metadata": {
    "id": "4fbXgBQu1AkA"
   },
   "outputs": [],
   "source": [
    "y1_pred = w0_1 + X1_train.dot(w_1)"
   ]
  },
  {
   "cell_type": "code",
   "execution_count": null,
   "metadata": {
    "colab": {
     "base_uri": "https://localhost:8080/"
    },
    "id": "lqviiBB61Idz",
    "outputId": "482febba-dc38-4e2d-d0dc-d5f75cee8935"
   },
   "outputs": [
    {
     "name": "stdout",
     "output_type": "stream",
     "text": [
      "RMSE value =  0.64\n"
     ]
    }
   ],
   "source": [
    "print('RMSE value = ', round(RMSE(y_train, y1_pred), 2))"
   ]
  },
  {
   "cell_type": "markdown",
   "metadata": {
    "id": "LuYOHXfPkubW"
   },
   "source": [
    "*Option 2*"
   ]
  },
  {
   "cell_type": "code",
   "execution_count": null,
   "metadata": {
    "id": "DU-bPn3KkyPr"
   },
   "outputs": [],
   "source": [
    "def X_opt_2(df):\n",
    "  df_opt_1 = df[base]\n",
    "  df_opt_1 = df_opt_1.fillna(float(HW_df['reviews_per_month'].mean()))\n",
    "  X = df_opt_1.values\n",
    "\n",
    "  return X"
   ]
  },
  {
   "cell_type": "code",
   "execution_count": null,
   "metadata": {
    "id": "vLjiz5SW60o8"
   },
   "outputs": [],
   "source": [
    "X2_train = X_opt_2(df_train)\n",
    "w0_2, w_2 = LG_wo_R(X2_train, y_train)"
   ]
  },
  {
   "cell_type": "code",
   "execution_count": null,
   "metadata": {
    "id": "05E8x1sy60o9"
   },
   "outputs": [],
   "source": [
    "y2_pred = w0_2 + X2_train.dot(w_2)"
   ]
  },
  {
   "cell_type": "code",
   "execution_count": null,
   "metadata": {
    "colab": {
     "base_uri": "https://localhost:8080/"
    },
    "id": "e0rcLQcS60o_",
    "outputId": "fd30be41-0f1f-4a34-9523-cdc47c87d16d"
   },
   "outputs": [
    {
     "name": "stdout",
     "output_type": "stream",
     "text": [
      "RMSE value =  0.64\n"
     ]
    }
   ],
   "source": [
    "print('RMSE value = ', round(RMSE(y_train, y2_pred), 2))"
   ]
  },
  {
   "cell_type": "markdown",
   "metadata": {
    "id": "nSkKajzvwl3E"
   },
   "source": [
    "-------------------------------------------------------------------------------\n",
    "Regulized Linear Regression"
   ]
  },
  {
   "cell_type": "code",
   "execution_count": null,
   "metadata": {
    "id": "86EiCtugl7oB"
   },
   "outputs": [],
   "source": [
    "def LG_w_R(X, y, r=0.0):\n",
    "  ones = np.ones(X.shape[0])\n",
    "  X = np.column_stack([ones, X])\n",
    "\n",
    "  XTX = X.T.dot(X)\n",
    "  reg = r * np.eye(XTX.shape[0])\n",
    "  XTX += reg\n",
    "  \n",
    "  XTX_inv = np.linalg.inv(XTX)\n",
    "  w = XTX_inv.dot(X.T).dot(y)\n",
    "\n",
    "  return w[0], w[1:]"
   ]
  },
  {
   "cell_type": "markdown",
   "metadata": {
    "id": "AmWUKGNFxrO6"
   },
   "source": [
    "---------------------------------------------------------------------------------------------\n",
    "ANS Q4:"
   ]
  },
  {
   "cell_type": "code",
   "execution_count": null,
   "metadata": {
    "id": "LMwY1z3Zxmx-"
   },
   "outputs": [],
   "source": [
    "X_train_q4 = X_opt_1(df_train)\n",
    "X_val_q4 = X_opt_1(df_val)"
   ]
  },
  {
   "cell_type": "code",
   "execution_count": null,
   "metadata": {
    "colab": {
     "base_uri": "https://localhost:8080/"
    },
    "id": "TB0p6OMKyE_z",
    "outputId": "4533d6cf-d61f-4f20-acad-a978593b02af"
   },
   "outputs": [
    {
     "name": "stdout",
     "output_type": "stream",
     "text": [
      "r =       0 -> RMSE value =  0.64\n",
      "r =   1e-06 -> RMSE value =  0.64\n",
      "r =  0.0001 -> RMSE value =  0.64\n",
      "r =   0.001 -> RMSE value =  0.64\n",
      "r =    0.01 -> RMSE value =  0.66\n",
      "r =     0.1 -> RMSE value =  0.68\n",
      "r =       1 -> RMSE value =  0.68\n",
      "r =       5 -> RMSE value =  0.68\n",
      "r =      10 -> RMSE value =  0.68\n"
     ]
    }
   ],
   "source": [
    "for r_q4 in [0, 0.000001, 0.0001, 0.001, 0.01, 0.1, 1, 5, 10]:\n",
    "  w0_q4, w_q4 = LG_w_R(X_train_q4, y_train, r=r_q4)\n",
    "  y_pred_q4 = w0_q4 + X_val_q4.dot(w_q4)\n",
    "  print('r = %7s' %r_q4, '-> RMSE value = ', round(RMSE(y_val, y_pred_q4), 2))"
   ]
  },
  {
   "cell_type": "markdown",
   "metadata": {
    "id": "XANJrGeZ1Lew"
   },
   "source": [
    "------------------------------------------------------------------------------\n",
    "ANS Q5:"
   ]
  },
  {
   "cell_type": "code",
   "execution_count": null,
   "metadata": {
    "colab": {
     "base_uri": "https://localhost:8080/"
    },
    "id": "UioLkzDG37k1",
    "outputId": "f8400b12-a171-4e1d-f756-070e1aeb77ee"
   },
   "outputs": [
    {
     "name": "stdout",
     "output_type": "stream",
     "text": [
      "Val Split : 0.2\n",
      "Test Split : 0.2\n",
      "Train Split :  0.6000000000000001\n",
      " \n",
      "29337 9779 9779\n"
     ]
    }
   ],
   "source": [
    "n_q5 = len(HW_df)\n",
    "\n",
    "split_val_q5 = float(input('Val Split : '))\n",
    "split_test_q5 = float(input('Test Split : '))\n",
    "\n",
    "n_train_q5, n_val_q5, n_test_q5 = split_data(n_q5,split_val_q5,split_test_q5)"
   ]
  },
  {
   "cell_type": "code",
   "execution_count": null,
   "metadata": {
    "colab": {
     "base_uri": "https://localhost:8080/"
    },
    "id": "WOmGSDbP1tH8",
    "outputId": "080bd7aa-f5e4-40aa-acad-f85c5c1c7d97"
   },
   "outputs": [
    {
     "name": "stdout",
     "output_type": "stream",
     "text": [
      "s = 0 -> RMSE value =  0.7427\n",
      "s = 1 -> RMSE value =  0.7387\n",
      "s = 2 -> RMSE value =  0.7427\n",
      "s = 3 -> RMSE value =  0.7381\n",
      "s = 4 -> RMSE value =  0.7403\n",
      "s = 5 -> RMSE value =  0.7434\n",
      "s = 6 -> RMSE value =  0.7393\n",
      "s = 7 -> RMSE value =  0.7415\n",
      "s = 8 -> RMSE value =  0.7418\n",
      "s = 9 -> RMSE value =  0.7434\n"
     ]
    }
   ],
   "source": [
    "for s in [0, 1, 2, 3, 4, 5, 6, 7, 8, 9]:\n",
    "  idx_q5 = np.arange(n)\n",
    "\n",
    "  np.random.seed(s)\n",
    "  np.random.shuffle(idx_q5)\n",
    "\n",
    "  df_train_q5 = HW_df.iloc[idx_q5[:n_train_q5]]\n",
    "  df_val_q5 = HW_df.iloc[idx_q5[n_train_q5:n_train_q5+n_val_q5]]\n",
    "  df_test_q5 = HW_df.iloc[idx_q5[n_train_q5+n_val_q5:]]\n",
    "\n",
    "  df_train_q5 = df_train_q5.reset_index(drop=True)\n",
    "  df_val_q5 = df_val_q5.reset_index(drop=True)\n",
    "  df_test_q5 = df_test_q5.reset_index(drop=True)\n",
    "\n",
    "  y_train_q5 = np.log1p(df_train_q5.price.values)\n",
    "  y_val_q5 = np.log1p(df_val_q5.price.values)\n",
    "  y_test_q5 = np.log1p(df_test_q5.price.values)  \n",
    "\n",
    "  del df_train_q5['price']\n",
    "  del df_val_q5['price']\n",
    "  del df_test_q5['price']\n",
    "\n",
    "  X_train_q5 = X_opt_1(df_train_q5)\n",
    "  X_val_q5 = X_opt_1(df_val_q5)\n",
    "  \n",
    "  w0_q5, w_q5 = LG_wo_R(X_train_q5, y_train_q5)\n",
    "  y_pred_q5 = w0_q5 + X_val_q5.dot(w_q5)\n",
    "  RMSE_score = round(RMSE(y_val, y_pred_q5), 4)\n",
    "\n",
    "  print('s = %1s' %s, '-> RMSE value = ', RMSE_score)"
   ]
  },
  {
   "cell_type": "code",
   "execution_count": null,
   "metadata": {
    "id": "HjHuAjlb-7Gs"
   },
   "outputs": [],
   "source": [
    "scores = [0.7427, 0.7387, 0.7427, 0.7381, 0.7403, 0.7434, 0.7393, 0.7415, 0.7418, 0.7434]\n",
    "scores = np.array(scores)"
   ]
  },
  {
   "cell_type": "code",
   "execution_count": null,
   "metadata": {
    "colab": {
     "base_uri": "https://localhost:8080/"
    },
    "id": "oLNWTdyY-bdT",
    "outputId": "ddc8ec64-93b6-470b-ab35-07a56643089d"
   },
   "outputs": [
    {
     "name": "stdout",
     "output_type": "stream",
     "text": [
      "Standard  Deviation =  0.002\n"
     ]
    }
   ],
   "source": [
    "print('Standard  Deviation = ', round(np.std(scores), 3))"
   ]
  },
  {
   "cell_type": "markdown",
   "metadata": {
    "id": "WXMjfVXZHp6d"
   },
   "source": [
    "------------------------------------------------------------------------------\n",
    "ANS Q6:"
   ]
  },
  {
   "cell_type": "code",
   "execution_count": null,
   "metadata": {
    "colab": {
     "base_uri": "https://localhost:8080/"
    },
    "id": "UtareLRBHthb",
    "outputId": "9f54d188-f3d8-4f6d-9be2-6d3c57fbfb98"
   },
   "outputs": [
    {
     "name": "stdout",
     "output_type": "stream",
     "text": [
      "Val Split : 0.2\n",
      "Test Split : 0.2\n",
      "Train Split :  0.6000000000000001\n",
      " \n",
      "29337 9779 9779\n"
     ]
    }
   ],
   "source": [
    "n_q6 = len(HW_df)\n",
    "\n",
    "split_val_q6 = float(input('Val Split : '))\n",
    "split_test_q6 = float(input('Test Split : '))\n",
    "\n",
    "n_train_q6, n_val_q6, n_test_q6 = split_data(n_q6,split_val_q6,split_test_q6)"
   ]
  },
  {
   "cell_type": "code",
   "execution_count": null,
   "metadata": {
    "colab": {
     "base_uri": "https://localhost:8080/"
    },
    "id": "SrjNPUqlINhA",
    "outputId": "916d4b4f-551c-4ada-c164-6bcd43a40d7d"
   },
   "outputs": [
    {
     "name": "stdout",
     "output_type": "stream",
     "text": [
      "RMSE value =  0.65\n"
     ]
    }
   ],
   "source": [
    "idx_q6 = np.arange(n)\n",
    "\n",
    "np.random.seed(9)\n",
    "np.random.shuffle(idx_q6)\n",
    "\n",
    "df_train_q6 = HW_df.iloc[idx_q5[:n_train_q6+n_val_q6]]\n",
    "df_test_q6 = HW_df.iloc[idx_q5[n_train_q6+n_val_q6:]]\n",
    "\n",
    "df_train_q6 = df_train_q6.reset_index(drop=True)\n",
    "df_test_q6 = df_test_q6.reset_index(drop=True)\n",
    "\n",
    "y_train_q6 = np.log1p(df_train_q6.price.values)\n",
    "y_test_q6 = np.log1p(df_test_q6.price.values) \n",
    "\n",
    "del df_train_q6['price']\n",
    "del df_test_q6['price']\n",
    "\n",
    "X_train_q6 = X_opt_1(df_train_q6)\n",
    "X_test_q6 = X_opt_1(df_test_q6)\n",
    "  \n",
    "w0_q6, w_q6 = LG_w_R(X_train_q6, y_train_q6, r=0.001)\n",
    "y_pred_q6 = w0_q6 + X_test_q6.dot(w_q6)\n",
    "RMSE_score = round(RMSE(y_test_q6, y_pred_q6), 2)\n",
    "\n",
    "print('RMSE value = ', RMSE_score)"
   ]
  }
 ],
 "metadata": {
  "colab": {
   "name": "MLZoomcamp_HW2.ipynb",
   "provenance": []
  },
  "kernelspec": {
   "display_name": "Python 3 (ipykernel)",
   "language": "python",
   "name": "python3"
  },
  "language_info": {
   "codemirror_mode": {
    "name": "ipython",
    "version": 3
   },
   "file_extension": ".py",
   "mimetype": "text/x-python",
   "name": "python",
   "nbconvert_exporter": "python",
   "pygments_lexer": "ipython3",
   "version": "3.9.7"
  }
 },
 "nbformat": 4,
 "nbformat_minor": 1
}
