{
  "nbformat": 4,
  "nbformat_minor": 0,
  "metadata": {
    "colab": {
      "name": "MLZoomcamp_HW2.ipynb",
      "provenance": []
    },
    "kernelspec": {
      "name": "python3",
      "display_name": "Python 3"
    },
    "language_info": {
      "name": "python"
    }
  },
  "cells": [
    {
      "cell_type": "code",
      "metadata": {
        "id": "W-gddeB6YD5R"
      },
      "source": [
        "import pandas as pd\n",
        "import numpy as np\n",
        " \n",
        "import seaborn as sns\n",
        "from matplotlib import pyplot as plt"
      ],
      "execution_count": null,
      "outputs": []
    },
    {
      "cell_type": "markdown",
      "metadata": {
        "id": "GEIvexXhYWaL"
      },
      "source": [
        "Get The Data: New York City Airbnb Open Data"
      ]
    },
    {
      "cell_type": "code",
      "metadata": {
        "colab": {
          "base_uri": "https://localhost:8080/"
        },
        "id": "aqFSY_bQYHyT",
        "outputId": "912da45c-2f2d-4296-8970-b31bc2feabc2"
      },
      "source": [
        "!wget https://raw.githubusercontent.com/alexeygrigorev/datasets/master/AB_NYC_2019.csv"
      ],
      "execution_count": null,
      "outputs": [
        {
          "output_type": "stream",
          "name": "stdout",
          "text": [
            "--2021-09-16 09:41:11--  https://raw.githubusercontent.com/alexeygrigorev/datasets/master/AB_NYC_2019.csv\n",
            "Resolving raw.githubusercontent.com (raw.githubusercontent.com)... 185.199.108.133, 185.199.109.133, 185.199.110.133, ...\n",
            "Connecting to raw.githubusercontent.com (raw.githubusercontent.com)|185.199.108.133|:443... connected.\n",
            "HTTP request sent, awaiting response... 200 OK\n",
            "Length: 7077973 (6.8M) [text/plain]\n",
            "Saving to: ‘AB_NYC_2019.csv.1’\n",
            "\n",
            "\rAB_NYC_2019.csv.1     0%[                    ]       0  --.-KB/s               \rAB_NYC_2019.csv.1   100%[===================>]   6.75M  --.-KB/s    in 0.05s   \n",
            "\n",
            "2021-09-16 09:41:12 (140 MB/s) - ‘AB_NYC_2019.csv.1’ saved [7077973/7077973]\n",
            "\n"
          ]
        }
      ]
    },
    {
      "cell_type": "code",
      "metadata": {
        "colab": {
          "base_uri": "https://localhost:8080/"
        },
        "id": "65pHosB4YWCf",
        "outputId": "c2acda16-2b90-4dac-f555-4b1d794ece27"
      },
      "source": [
        "df = pd.read_csv('AB_NYC_2019.csv')\n",
        "len(df)"
      ],
      "execution_count": null,
      "outputs": [
        {
          "output_type": "execute_result",
          "data": {
            "text/plain": [
              "48895"
            ]
          },
          "metadata": {},
          "execution_count": 55
        }
      ]
    },
    {
      "cell_type": "code",
      "metadata": {
        "colab": {
          "base_uri": "https://localhost:8080/",
          "height": 417
        },
        "id": "F-Oy3232YxCb",
        "outputId": "17347d71-3ce5-430c-a49f-2ce9339e80ad"
      },
      "source": [
        "df.head()"
      ],
      "execution_count": null,
      "outputs": [
        {
          "output_type": "execute_result",
          "data": {
            "text/html": [
              "<div>\n",
              "<style scoped>\n",
              "    .dataframe tbody tr th:only-of-type {\n",
              "        vertical-align: middle;\n",
              "    }\n",
              "\n",
              "    .dataframe tbody tr th {\n",
              "        vertical-align: top;\n",
              "    }\n",
              "\n",
              "    .dataframe thead th {\n",
              "        text-align: right;\n",
              "    }\n",
              "</style>\n",
              "<table border=\"1\" class=\"dataframe\">\n",
              "  <thead>\n",
              "    <tr style=\"text-align: right;\">\n",
              "      <th></th>\n",
              "      <th>id</th>\n",
              "      <th>name</th>\n",
              "      <th>host_id</th>\n",
              "      <th>host_name</th>\n",
              "      <th>neighbourhood_group</th>\n",
              "      <th>neighbourhood</th>\n",
              "      <th>latitude</th>\n",
              "      <th>longitude</th>\n",
              "      <th>room_type</th>\n",
              "      <th>price</th>\n",
              "      <th>minimum_nights</th>\n",
              "      <th>number_of_reviews</th>\n",
              "      <th>last_review</th>\n",
              "      <th>reviews_per_month</th>\n",
              "      <th>calculated_host_listings_count</th>\n",
              "      <th>availability_365</th>\n",
              "    </tr>\n",
              "  </thead>\n",
              "  <tbody>\n",
              "    <tr>\n",
              "      <th>0</th>\n",
              "      <td>2539</td>\n",
              "      <td>Clean &amp; quiet apt home by the park</td>\n",
              "      <td>2787</td>\n",
              "      <td>John</td>\n",
              "      <td>Brooklyn</td>\n",
              "      <td>Kensington</td>\n",
              "      <td>40.64749</td>\n",
              "      <td>-73.97237</td>\n",
              "      <td>Private room</td>\n",
              "      <td>149</td>\n",
              "      <td>1</td>\n",
              "      <td>9</td>\n",
              "      <td>2018-10-19</td>\n",
              "      <td>0.21</td>\n",
              "      <td>6</td>\n",
              "      <td>365</td>\n",
              "    </tr>\n",
              "    <tr>\n",
              "      <th>1</th>\n",
              "      <td>2595</td>\n",
              "      <td>Skylit Midtown Castle</td>\n",
              "      <td>2845</td>\n",
              "      <td>Jennifer</td>\n",
              "      <td>Manhattan</td>\n",
              "      <td>Midtown</td>\n",
              "      <td>40.75362</td>\n",
              "      <td>-73.98377</td>\n",
              "      <td>Entire home/apt</td>\n",
              "      <td>225</td>\n",
              "      <td>1</td>\n",
              "      <td>45</td>\n",
              "      <td>2019-05-21</td>\n",
              "      <td>0.38</td>\n",
              "      <td>2</td>\n",
              "      <td>355</td>\n",
              "    </tr>\n",
              "    <tr>\n",
              "      <th>2</th>\n",
              "      <td>3647</td>\n",
              "      <td>THE VILLAGE OF HARLEM....NEW YORK !</td>\n",
              "      <td>4632</td>\n",
              "      <td>Elisabeth</td>\n",
              "      <td>Manhattan</td>\n",
              "      <td>Harlem</td>\n",
              "      <td>40.80902</td>\n",
              "      <td>-73.94190</td>\n",
              "      <td>Private room</td>\n",
              "      <td>150</td>\n",
              "      <td>3</td>\n",
              "      <td>0</td>\n",
              "      <td>NaN</td>\n",
              "      <td>NaN</td>\n",
              "      <td>1</td>\n",
              "      <td>365</td>\n",
              "    </tr>\n",
              "    <tr>\n",
              "      <th>3</th>\n",
              "      <td>3831</td>\n",
              "      <td>Cozy Entire Floor of Brownstone</td>\n",
              "      <td>4869</td>\n",
              "      <td>LisaRoxanne</td>\n",
              "      <td>Brooklyn</td>\n",
              "      <td>Clinton Hill</td>\n",
              "      <td>40.68514</td>\n",
              "      <td>-73.95976</td>\n",
              "      <td>Entire home/apt</td>\n",
              "      <td>89</td>\n",
              "      <td>1</td>\n",
              "      <td>270</td>\n",
              "      <td>2019-07-05</td>\n",
              "      <td>4.64</td>\n",
              "      <td>1</td>\n",
              "      <td>194</td>\n",
              "    </tr>\n",
              "    <tr>\n",
              "      <th>4</th>\n",
              "      <td>5022</td>\n",
              "      <td>Entire Apt: Spacious Studio/Loft by central park</td>\n",
              "      <td>7192</td>\n",
              "      <td>Laura</td>\n",
              "      <td>Manhattan</td>\n",
              "      <td>East Harlem</td>\n",
              "      <td>40.79851</td>\n",
              "      <td>-73.94399</td>\n",
              "      <td>Entire home/apt</td>\n",
              "      <td>80</td>\n",
              "      <td>10</td>\n",
              "      <td>9</td>\n",
              "      <td>2018-11-19</td>\n",
              "      <td>0.10</td>\n",
              "      <td>1</td>\n",
              "      <td>0</td>\n",
              "    </tr>\n",
              "  </tbody>\n",
              "</table>\n",
              "</div>"
            ],
            "text/plain": [
              "     id  ... availability_365\n",
              "0  2539  ...              365\n",
              "1  2595  ...              355\n",
              "2  3647  ...              365\n",
              "3  3831  ...              194\n",
              "4  5022  ...                0\n",
              "\n",
              "[5 rows x 16 columns]"
            ]
          },
          "metadata": {},
          "execution_count": 56
        }
      ]
    },
    {
      "cell_type": "code",
      "metadata": {
        "id": "ApaWQtMNoltQ"
      },
      "source": [
        "used_columns = [\n",
        "                'latitude',\n",
        "                'longitude',\n",
        "                'price',\n",
        "                'minimum_nights',\n",
        "                'number_of_reviews',\n",
        "                'reviews_per_month',\n",
        "                'calculated_host_listings_count',\n",
        "                'availability_365'   \n",
        "                ]"
      ],
      "execution_count": null,
      "outputs": []
    },
    {
      "cell_type": "code",
      "metadata": {
        "colab": {
          "base_uri": "https://localhost:8080/",
          "height": 143
        },
        "id": "w5v3MWveZVhn",
        "outputId": "7704b18d-3193-4590-d616-7f242ac0322d"
      },
      "source": [
        "HW_df = df[used_columns]\n",
        "HW_df.head(3)"
      ],
      "execution_count": null,
      "outputs": [
        {
          "output_type": "execute_result",
          "data": {
            "text/html": [
              "<div>\n",
              "<style scoped>\n",
              "    .dataframe tbody tr th:only-of-type {\n",
              "        vertical-align: middle;\n",
              "    }\n",
              "\n",
              "    .dataframe tbody tr th {\n",
              "        vertical-align: top;\n",
              "    }\n",
              "\n",
              "    .dataframe thead th {\n",
              "        text-align: right;\n",
              "    }\n",
              "</style>\n",
              "<table border=\"1\" class=\"dataframe\">\n",
              "  <thead>\n",
              "    <tr style=\"text-align: right;\">\n",
              "      <th></th>\n",
              "      <th>latitude</th>\n",
              "      <th>longitude</th>\n",
              "      <th>price</th>\n",
              "      <th>minimum_nights</th>\n",
              "      <th>number_of_reviews</th>\n",
              "      <th>reviews_per_month</th>\n",
              "      <th>calculated_host_listings_count</th>\n",
              "      <th>availability_365</th>\n",
              "    </tr>\n",
              "  </thead>\n",
              "  <tbody>\n",
              "    <tr>\n",
              "      <th>0</th>\n",
              "      <td>40.64749</td>\n",
              "      <td>-73.97237</td>\n",
              "      <td>149</td>\n",
              "      <td>1</td>\n",
              "      <td>9</td>\n",
              "      <td>0.21</td>\n",
              "      <td>6</td>\n",
              "      <td>365</td>\n",
              "    </tr>\n",
              "    <tr>\n",
              "      <th>1</th>\n",
              "      <td>40.75362</td>\n",
              "      <td>-73.98377</td>\n",
              "      <td>225</td>\n",
              "      <td>1</td>\n",
              "      <td>45</td>\n",
              "      <td>0.38</td>\n",
              "      <td>2</td>\n",
              "      <td>355</td>\n",
              "    </tr>\n",
              "    <tr>\n",
              "      <th>2</th>\n",
              "      <td>40.80902</td>\n",
              "      <td>-73.94190</td>\n",
              "      <td>150</td>\n",
              "      <td>3</td>\n",
              "      <td>0</td>\n",
              "      <td>NaN</td>\n",
              "      <td>1</td>\n",
              "      <td>365</td>\n",
              "    </tr>\n",
              "  </tbody>\n",
              "</table>\n",
              "</div>"
            ],
            "text/plain": [
              "   latitude  longitude  ...  calculated_host_listings_count  availability_365\n",
              "0  40.64749  -73.97237  ...                               6               365\n",
              "1  40.75362  -73.98377  ...                               2               355\n",
              "2  40.80902  -73.94190  ...                               1               365\n",
              "\n",
              "[3 rows x 8 columns]"
            ]
          },
          "metadata": {},
          "execution_count": 58
        }
      ]
    },
    {
      "cell_type": "markdown",
      "metadata": {
        "id": "CGQUVR87Zv4g"
      },
      "source": [
        "------------------------------------------------------------------------------\n",
        "ANS Q1:"
      ]
    },
    {
      "cell_type": "code",
      "metadata": {
        "colab": {
          "base_uri": "https://localhost:8080/"
        },
        "id": "SnL_lq9lZoLW",
        "outputId": "14445248-4446-4a90-f7b0-3149fcff5b35"
      },
      "source": [
        "HW_df.isnull().sum()"
      ],
      "execution_count": null,
      "outputs": [
        {
          "output_type": "execute_result",
          "data": {
            "text/plain": [
              "latitude                              0\n",
              "longitude                             0\n",
              "price                                 0\n",
              "minimum_nights                        0\n",
              "number_of_reviews                     0\n",
              "reviews_per_month                 10052\n",
              "calculated_host_listings_count        0\n",
              "availability_365                      0\n",
              "dtype: int64"
            ]
          },
          "metadata": {},
          "execution_count": 59
        }
      ]
    },
    {
      "cell_type": "markdown",
      "metadata": {
        "id": "-8YrlCUSZ-Dr"
      },
      "source": [
        "------------------------------------------------------------------------------\n",
        "ANS Q2:"
      ]
    },
    {
      "cell_type": "code",
      "metadata": {
        "colab": {
          "base_uri": "https://localhost:8080/"
        },
        "id": "M58lt_BnaAqK",
        "outputId": "d31a3e56-6b17-40fc-d92c-691b9e619b05"
      },
      "source": [
        "HW_df['minimum_nights'].median()"
      ],
      "execution_count": null,
      "outputs": [
        {
          "output_type": "execute_result",
          "data": {
            "text/plain": [
              "3.0"
            ]
          },
          "metadata": {},
          "execution_count": 60
        }
      ]
    },
    {
      "cell_type": "markdown",
      "metadata": {
        "id": "qrCXjMqEdXbo"
      },
      "source": [
        "------------------------------------------------------------------------------\n",
        "Split Data (Manually)"
      ]
    },
    {
      "cell_type": "code",
      "metadata": {
        "id": "LavZ_KKodXEV"
      },
      "source": [
        "def split_data(n,split_val,split_test):\n",
        "  n_val = int(split_val*n)\n",
        "  n_test = int(split_test*n)\n",
        "  n_train = n - n_val - n_test\n",
        "  print('Train Split : ', 1 - split_val - split_test)\n",
        "  print(' ')\n",
        "  print(n_train, n_val, n_test)\n",
        "  \n",
        "  return n_train, n_val, n_test"
      ],
      "execution_count": null,
      "outputs": []
    },
    {
      "cell_type": "code",
      "metadata": {
        "colab": {
          "base_uri": "https://localhost:8080/"
        },
        "id": "mJlrJiZ23ejD",
        "outputId": "b40c6bae-9cc8-4aa9-ba21-0ce4ea9c6b46"
      },
      "source": [
        "n = len(HW_df)\n",
        "\n",
        "split_val = float(input('Val Split : '))\n",
        "split_test = float(input('Test Split : '))\n",
        "\n",
        "n_train, n_val, n_test = split_data(n,split_val,split_test)"
      ],
      "execution_count": null,
      "outputs": [
        {
          "output_type": "stream",
          "name": "stdout",
          "text": [
            "Val Split : 0.2\n",
            "Test Split : 0.2\n",
            "Train Split :  0.6000000000000001\n",
            " \n",
            "29337 9779 9779\n"
          ]
        }
      ]
    },
    {
      "cell_type": "code",
      "metadata": {
        "id": "aNFDhnmUhKQr"
      },
      "source": [
        "idx = np.arange(n)\n",
        "\n",
        "np.random.seed(42)\n",
        "np.random.shuffle(idx)"
      ],
      "execution_count": null,
      "outputs": []
    },
    {
      "cell_type": "code",
      "metadata": {
        "id": "MRH78fJTgBJL"
      },
      "source": [
        "df_train = HW_df.iloc[idx[:n_train]]\n",
        "df_val = HW_df.iloc[idx[n_train:n_train+n_val]]\n",
        "df_test = HW_df.iloc[idx[n_train+n_val:]]"
      ],
      "execution_count": null,
      "outputs": []
    },
    {
      "cell_type": "code",
      "metadata": {
        "id": "v0HqltXPjJsz"
      },
      "source": [
        "df_train = df_train.reset_index(drop=True)\n",
        "df_val = df_val.reset_index(drop=True)\n",
        "df_test = df_test.reset_index(drop=True)"
      ],
      "execution_count": null,
      "outputs": []
    },
    {
      "cell_type": "code",
      "metadata": {
        "colab": {
          "base_uri": "https://localhost:8080/",
          "height": 143
        },
        "id": "zqUm8KwMpzn9",
        "outputId": "703ffc5c-70c4-42bd-a75d-2063c9f76998"
      },
      "source": [
        "df_train.head(3)"
      ],
      "execution_count": null,
      "outputs": [
        {
          "output_type": "execute_result",
          "data": {
            "text/html": [
              "<div>\n",
              "<style scoped>\n",
              "    .dataframe tbody tr th:only-of-type {\n",
              "        vertical-align: middle;\n",
              "    }\n",
              "\n",
              "    .dataframe tbody tr th {\n",
              "        vertical-align: top;\n",
              "    }\n",
              "\n",
              "    .dataframe thead th {\n",
              "        text-align: right;\n",
              "    }\n",
              "</style>\n",
              "<table border=\"1\" class=\"dataframe\">\n",
              "  <thead>\n",
              "    <tr style=\"text-align: right;\">\n",
              "      <th></th>\n",
              "      <th>latitude</th>\n",
              "      <th>longitude</th>\n",
              "      <th>price</th>\n",
              "      <th>minimum_nights</th>\n",
              "      <th>number_of_reviews</th>\n",
              "      <th>reviews_per_month</th>\n",
              "      <th>calculated_host_listings_count</th>\n",
              "      <th>availability_365</th>\n",
              "    </tr>\n",
              "  </thead>\n",
              "  <tbody>\n",
              "    <tr>\n",
              "      <th>0</th>\n",
              "      <td>40.64354</td>\n",
              "      <td>-73.97777</td>\n",
              "      <td>89</td>\n",
              "      <td>3</td>\n",
              "      <td>62</td>\n",
              "      <td>0.71</td>\n",
              "      <td>1</td>\n",
              "      <td>189</td>\n",
              "    </tr>\n",
              "    <tr>\n",
              "      <th>1</th>\n",
              "      <td>40.70666</td>\n",
              "      <td>-73.90779</td>\n",
              "      <td>30</td>\n",
              "      <td>21</td>\n",
              "      <td>0</td>\n",
              "      <td>NaN</td>\n",
              "      <td>1</td>\n",
              "      <td>73</td>\n",
              "    </tr>\n",
              "    <tr>\n",
              "      <th>2</th>\n",
              "      <td>40.76116</td>\n",
              "      <td>-73.99016</td>\n",
              "      <td>120</td>\n",
              "      <td>2</td>\n",
              "      <td>17</td>\n",
              "      <td>0.43</td>\n",
              "      <td>1</td>\n",
              "      <td>0</td>\n",
              "    </tr>\n",
              "  </tbody>\n",
              "</table>\n",
              "</div>"
            ],
            "text/plain": [
              "   latitude  longitude  ...  calculated_host_listings_count  availability_365\n",
              "0  40.64354  -73.97777  ...                               1               189\n",
              "1  40.70666  -73.90779  ...                               1                73\n",
              "2  40.76116  -73.99016  ...                               1                 0\n",
              "\n",
              "[3 rows x 8 columns]"
            ]
          },
          "metadata": {},
          "execution_count": 66
        }
      ]
    },
    {
      "cell_type": "code",
      "metadata": {
        "id": "Sg0Cu_--jpf6"
      },
      "source": [
        "y_train = np.log1p(df_train.price.values)\n",
        "y_val = np.log1p(df_val.price.values)\n",
        "y_test = np.log1p(df_test.price.values)"
      ],
      "execution_count": null,
      "outputs": []
    },
    {
      "cell_type": "code",
      "metadata": {
        "colab": {
          "base_uri": "https://localhost:8080/"
        },
        "id": "aazNYNGV5Qb_",
        "outputId": "ed1dbb03-9d64-4726-d80a-959e66e59efb"
      },
      "source": [
        "y_train"
      ],
      "execution_count": null,
      "outputs": [
        {
          "output_type": "execute_result",
          "data": {
            "text/plain": [
              "array([4.49980967, 3.4339872 , 4.79579055, ..., 4.61512052, 4.2341065 ,\n",
              "       3.8286414 ])"
            ]
          },
          "metadata": {},
          "execution_count": 68
        }
      ]
    },
    {
      "cell_type": "code",
      "metadata": {
        "id": "wk0pSYaokEOO"
      },
      "source": [
        "del df_train['price']\n",
        "del df_val['price']\n",
        "del df_test['price']"
      ],
      "execution_count": null,
      "outputs": []
    },
    {
      "cell_type": "code",
      "metadata": {
        "colab": {
          "base_uri": "https://localhost:8080/"
        },
        "id": "GyRDxDTokRxE",
        "outputId": "5c863106-1d4e-4125-c8c5-eb55163a487b"
      },
      "source": [
        "len(y_train)"
      ],
      "execution_count": null,
      "outputs": [
        {
          "output_type": "execute_result",
          "data": {
            "text/plain": [
              "29337"
            ]
          },
          "metadata": {},
          "execution_count": 70
        }
      ]
    },
    {
      "cell_type": "code",
      "metadata": {
        "colab": {
          "base_uri": "https://localhost:8080/",
          "height": 143
        },
        "id": "0Gcja5QWkXCd",
        "outputId": "821c2b8e-c38d-4d56-a6ec-8dc164117854"
      },
      "source": [
        "df_train.head(3)"
      ],
      "execution_count": null,
      "outputs": [
        {
          "output_type": "execute_result",
          "data": {
            "text/html": [
              "<div>\n",
              "<style scoped>\n",
              "    .dataframe tbody tr th:only-of-type {\n",
              "        vertical-align: middle;\n",
              "    }\n",
              "\n",
              "    .dataframe tbody tr th {\n",
              "        vertical-align: top;\n",
              "    }\n",
              "\n",
              "    .dataframe thead th {\n",
              "        text-align: right;\n",
              "    }\n",
              "</style>\n",
              "<table border=\"1\" class=\"dataframe\">\n",
              "  <thead>\n",
              "    <tr style=\"text-align: right;\">\n",
              "      <th></th>\n",
              "      <th>latitude</th>\n",
              "      <th>longitude</th>\n",
              "      <th>minimum_nights</th>\n",
              "      <th>number_of_reviews</th>\n",
              "      <th>reviews_per_month</th>\n",
              "      <th>calculated_host_listings_count</th>\n",
              "      <th>availability_365</th>\n",
              "    </tr>\n",
              "  </thead>\n",
              "  <tbody>\n",
              "    <tr>\n",
              "      <th>0</th>\n",
              "      <td>40.64354</td>\n",
              "      <td>-73.97777</td>\n",
              "      <td>3</td>\n",
              "      <td>62</td>\n",
              "      <td>0.71</td>\n",
              "      <td>1</td>\n",
              "      <td>189</td>\n",
              "    </tr>\n",
              "    <tr>\n",
              "      <th>1</th>\n",
              "      <td>40.70666</td>\n",
              "      <td>-73.90779</td>\n",
              "      <td>21</td>\n",
              "      <td>0</td>\n",
              "      <td>NaN</td>\n",
              "      <td>1</td>\n",
              "      <td>73</td>\n",
              "    </tr>\n",
              "    <tr>\n",
              "      <th>2</th>\n",
              "      <td>40.76116</td>\n",
              "      <td>-73.99016</td>\n",
              "      <td>2</td>\n",
              "      <td>17</td>\n",
              "      <td>0.43</td>\n",
              "      <td>1</td>\n",
              "      <td>0</td>\n",
              "    </tr>\n",
              "  </tbody>\n",
              "</table>\n",
              "</div>"
            ],
            "text/plain": [
              "   latitude  longitude  ...  calculated_host_listings_count  availability_365\n",
              "0  40.64354  -73.97777  ...                               1               189\n",
              "1  40.70666  -73.90779  ...                               1                73\n",
              "2  40.76116  -73.99016  ...                               1                 0\n",
              "\n",
              "[3 rows x 7 columns]"
            ]
          },
          "metadata": {},
          "execution_count": 71
        }
      ]
    },
    {
      "cell_type": "markdown",
      "metadata": {
        "id": "1slk0vtnqtf5"
      },
      "source": [
        "------------------------------------------------------------------------------\n",
        "Linear Regression (w/o Regularization)"
      ]
    },
    {
      "cell_type": "code",
      "metadata": {
        "id": "QY2YXdyKq51k"
      },
      "source": [
        "def LG_wo_R(X, y):\n",
        "  ones = np.ones(X.shape[0])\n",
        "  X = np.column_stack([ones, X])\n",
        "\n",
        "  XTX = X.T.dot(X)\n",
        "  XTX_inv = np.linalg.inv(XTX)\n",
        "  w = XTX_inv.dot(X.T).dot(y)\n",
        "\n",
        "  return w[0], w[1:]"
      ],
      "execution_count": null,
      "outputs": []
    },
    {
      "cell_type": "markdown",
      "metadata": {
        "id": "BitdbUOFs_3o"
      },
      "source": [
        "------------------------------------------------------------------------------\n",
        "RMSE"
      ]
    },
    {
      "cell_type": "code",
      "metadata": {
        "id": "JRpV88GCs_kP"
      },
      "source": [
        "def RMSE(y, y_pred):\n",
        "  e = y_pred - y\n",
        "  mse = (e ** 2).mean()\n",
        "  rmse_val = np.sqrt(mse)\n",
        "\n",
        "  return rmse_val"
      ],
      "execution_count": null,
      "outputs": []
    },
    {
      "cell_type": "markdown",
      "metadata": {
        "id": "s6wGIAlodNiL"
      },
      "source": [
        "------------------------------------------------------------------------------\n",
        "ANS Q3:\n",
        "For this question there are 2 options\n",
        "\n",
        "\n",
        "1.   Fill the Missing Value with 0\n",
        "2.   Fill the Missing Value with mean\n",
        "\n"
      ]
    },
    {
      "cell_type": "code",
      "metadata": {
        "id": "15zxNOqN4XaQ"
      },
      "source": [
        "base = [\n",
        "        'latitude',\n",
        "        'longitude',\n",
        "        'minimum_nights',\n",
        "        'number_of_reviews',\n",
        "        'reviews_per_month',\n",
        "        'calculated_host_listings_count',\n",
        "        'availability_365'\n",
        "        ]"
      ],
      "execution_count": null,
      "outputs": []
    },
    {
      "cell_type": "markdown",
      "metadata": {
        "id": "7ZS7oQqudko9"
      },
      "source": [
        "*Option 1*"
      ]
    },
    {
      "cell_type": "code",
      "metadata": {
        "id": "b0-np1UDdofG"
      },
      "source": [
        "def X_opt_1(df):\n",
        "  df_opt_1 = df[base]\n",
        "  df_opt_1 = df_opt_1.fillna(0)\n",
        "  X = df_opt_1.values\n",
        "\n",
        "  return X"
      ],
      "execution_count": null,
      "outputs": []
    },
    {
      "cell_type": "code",
      "metadata": {
        "id": "DVpGGnx8er_m"
      },
      "source": [
        "X1_train = X_opt_1(df_train)\n",
        "w0_1, w_1 = LG_wo_R(X1_train, y_train)"
      ],
      "execution_count": null,
      "outputs": []
    },
    {
      "cell_type": "code",
      "metadata": {
        "id": "4fbXgBQu1AkA"
      },
      "source": [
        "y1_pred = w0_1 + X1_train.dot(w_1)"
      ],
      "execution_count": null,
      "outputs": []
    },
    {
      "cell_type": "code",
      "metadata": {
        "colab": {
          "base_uri": "https://localhost:8080/"
        },
        "id": "lqviiBB61Idz",
        "outputId": "482febba-dc38-4e2d-d0dc-d5f75cee8935"
      },
      "source": [
        "print('RMSE value = ', round(RMSE(y_train, y1_pred), 2))"
      ],
      "execution_count": null,
      "outputs": [
        {
          "output_type": "stream",
          "name": "stdout",
          "text": [
            "RMSE value =  0.64\n"
          ]
        }
      ]
    },
    {
      "cell_type": "markdown",
      "metadata": {
        "id": "LuYOHXfPkubW"
      },
      "source": [
        "*Option 2*"
      ]
    },
    {
      "cell_type": "code",
      "metadata": {
        "id": "DU-bPn3KkyPr"
      },
      "source": [
        "def X_opt_2(df):\n",
        "  df_opt_1 = df[base]\n",
        "  df_opt_1 = df_opt_1.fillna(float(HW_df['reviews_per_month'].mean()))\n",
        "  X = df_opt_1.values\n",
        "\n",
        "  return X"
      ],
      "execution_count": null,
      "outputs": []
    },
    {
      "cell_type": "code",
      "metadata": {
        "id": "vLjiz5SW60o8"
      },
      "source": [
        "X2_train = X_opt_2(df_train)\n",
        "w0_2, w_2 = LG_wo_R(X2_train, y_train)"
      ],
      "execution_count": null,
      "outputs": []
    },
    {
      "cell_type": "code",
      "metadata": {
        "id": "05E8x1sy60o9"
      },
      "source": [
        "y2_pred = w0_2 + X2_train.dot(w_2)"
      ],
      "execution_count": null,
      "outputs": []
    },
    {
      "cell_type": "code",
      "metadata": {
        "colab": {
          "base_uri": "https://localhost:8080/"
        },
        "id": "e0rcLQcS60o_",
        "outputId": "fd30be41-0f1f-4a34-9523-cdc47c87d16d"
      },
      "source": [
        "print('RMSE value = ', round(RMSE(y_train, y2_pred), 2))"
      ],
      "execution_count": null,
      "outputs": [
        {
          "output_type": "stream",
          "name": "stdout",
          "text": [
            "RMSE value =  0.64\n"
          ]
        }
      ]
    },
    {
      "cell_type": "markdown",
      "metadata": {
        "id": "nSkKajzvwl3E"
      },
      "source": [
        "-------------------------------------------------------------------------------\n",
        "Regulized Linear Regression"
      ]
    },
    {
      "cell_type": "code",
      "metadata": {
        "id": "86EiCtugl7oB"
      },
      "source": [
        "def LG_w_R(X, y, r=0.0):\n",
        "  ones = np.ones(X.shape[0])\n",
        "  X = np.column_stack([ones, X])\n",
        "\n",
        "  XTX = X.T.dot(X)\n",
        "  reg = r * np.eye(XTX.shape[0])\n",
        "  XTX += reg\n",
        "  \n",
        "  XTX_inv = np.linalg.inv(XTX)\n",
        "  w = XTX_inv.dot(X.T).dot(y)\n",
        "\n",
        "  return w[0], w[1:]"
      ],
      "execution_count": null,
      "outputs": []
    },
    {
      "cell_type": "markdown",
      "metadata": {
        "id": "AmWUKGNFxrO6"
      },
      "source": [
        "---------------------------------------------------------------------------------------------\n",
        "ANS Q4:"
      ]
    },
    {
      "cell_type": "code",
      "metadata": {
        "id": "LMwY1z3Zxmx-"
      },
      "source": [
        "X_train_q4 = X_opt_1(df_train)\n",
        "X_val_q4 = X_opt_1(df_val)"
      ],
      "execution_count": null,
      "outputs": []
    },
    {
      "cell_type": "code",
      "metadata": {
        "colab": {
          "base_uri": "https://localhost:8080/"
        },
        "id": "TB0p6OMKyE_z",
        "outputId": "4533d6cf-d61f-4f20-acad-a978593b02af"
      },
      "source": [
        "for r_q4 in [0, 0.000001, 0.0001, 0.001, 0.01, 0.1, 1, 5, 10]:\n",
        "  w0_q4, w_q4 = LG_w_R(X_train_q4, y_train, r=r_q4)\n",
        "  y_pred_q4 = w0_q4 + X_val_q4.dot(w_q4)\n",
        "  print('r = %7s' %r_q4, '-> RMSE value = ', round(RMSE(y_val, y_pred_q4), 2))"
      ],
      "execution_count": null,
      "outputs": [
        {
          "output_type": "stream",
          "name": "stdout",
          "text": [
            "r =       0 -> RMSE value =  0.64\n",
            "r =   1e-06 -> RMSE value =  0.64\n",
            "r =  0.0001 -> RMSE value =  0.64\n",
            "r =   0.001 -> RMSE value =  0.64\n",
            "r =    0.01 -> RMSE value =  0.66\n",
            "r =     0.1 -> RMSE value =  0.68\n",
            "r =       1 -> RMSE value =  0.68\n",
            "r =       5 -> RMSE value =  0.68\n",
            "r =      10 -> RMSE value =  0.68\n"
          ]
        }
      ]
    },
    {
      "cell_type": "markdown",
      "metadata": {
        "id": "XANJrGeZ1Lew"
      },
      "source": [
        "------------------------------------------------------------------------------\n",
        "ANS Q5:"
      ]
    },
    {
      "cell_type": "code",
      "metadata": {
        "colab": {
          "base_uri": "https://localhost:8080/"
        },
        "id": "UioLkzDG37k1",
        "outputId": "f8400b12-a171-4e1d-f756-070e1aeb77ee"
      },
      "source": [
        "n_q5 = len(HW_df)\n",
        "\n",
        "split_val_q5 = float(input('Val Split : '))\n",
        "split_test_q5 = float(input('Test Split : '))\n",
        "\n",
        "n_train_q5, n_val_q5, n_test_q5 = split_data(n_q5,split_val_q5,split_test_q5)"
      ],
      "execution_count": null,
      "outputs": [
        {
          "output_type": "stream",
          "name": "stdout",
          "text": [
            "Val Split : 0.2\n",
            "Test Split : 0.2\n",
            "Train Split :  0.6000000000000001\n",
            " \n",
            "29337 9779 9779\n"
          ]
        }
      ]
    },
    {
      "cell_type": "code",
      "metadata": {
        "colab": {
          "base_uri": "https://localhost:8080/"
        },
        "id": "WOmGSDbP1tH8",
        "outputId": "080bd7aa-f5e4-40aa-acad-f85c5c1c7d97"
      },
      "source": [
        "for s in [0, 1, 2, 3, 4, 5, 6, 7, 8, 9]:\n",
        "  idx_q5 = np.arange(n)\n",
        "\n",
        "  np.random.seed(s)\n",
        "  np.random.shuffle(idx_q5)\n",
        "\n",
        "  df_train_q5 = HW_df.iloc[idx_q5[:n_train_q5]]\n",
        "  df_val_q5 = HW_df.iloc[idx_q5[n_train_q5:n_train_q5+n_val_q5]]\n",
        "  df_test_q5 = HW_df.iloc[idx_q5[n_train_q5+n_val_q5:]]\n",
        "\n",
        "  df_train_q5 = df_train_q5.reset_index(drop=True)\n",
        "  df_val_q5 = df_val_q5.reset_index(drop=True)\n",
        "  df_test_q5 = df_test_q5.reset_index(drop=True)\n",
        "\n",
        "  y_train_q5 = np.log1p(df_train_q5.price.values)\n",
        "  y_val_q5 = np.log1p(df_val_q5.price.values)\n",
        "  y_test_q5 = np.log1p(df_test_q5.price.values)  \n",
        "\n",
        "  del df_train_q5['price']\n",
        "  del df_val_q5['price']\n",
        "  del df_test_q5['price']\n",
        "\n",
        "  X_train_q5 = X_opt_1(df_train_q5)\n",
        "  X_val_q5 = X_opt_1(df_val_q5)\n",
        "  \n",
        "  w0_q5, w_q5 = LG_wo_R(X_train_q5, y_train_q5)\n",
        "  y_pred_q5 = w0_q5 + X_val_q5.dot(w_q5)\n",
        "  RMSE_score = round(RMSE(y_val, y_pred_q5), 4)\n",
        "\n",
        "  print('s = %1s' %s, '-> RMSE value = ', RMSE_score)"
      ],
      "execution_count": null,
      "outputs": [
        {
          "output_type": "stream",
          "name": "stdout",
          "text": [
            "s = 0 -> RMSE value =  0.7427\n",
            "s = 1 -> RMSE value =  0.7387\n",
            "s = 2 -> RMSE value =  0.7427\n",
            "s = 3 -> RMSE value =  0.7381\n",
            "s = 4 -> RMSE value =  0.7403\n",
            "s = 5 -> RMSE value =  0.7434\n",
            "s = 6 -> RMSE value =  0.7393\n",
            "s = 7 -> RMSE value =  0.7415\n",
            "s = 8 -> RMSE value =  0.7418\n",
            "s = 9 -> RMSE value =  0.7434\n"
          ]
        }
      ]
    },
    {
      "cell_type": "code",
      "metadata": {
        "id": "HjHuAjlb-7Gs"
      },
      "source": [
        "scores = [0.7427, 0.7387, 0.7427, 0.7381, 0.7403, 0.7434, 0.7393, 0.7415, 0.7418, 0.7434]\n",
        "scores = np.array(scores)"
      ],
      "execution_count": null,
      "outputs": []
    },
    {
      "cell_type": "code",
      "metadata": {
        "colab": {
          "base_uri": "https://localhost:8080/"
        },
        "id": "oLNWTdyY-bdT",
        "outputId": "ddc8ec64-93b6-470b-ab35-07a56643089d"
      },
      "source": [
        "print('Standard  Deviation = ', round(np.std(scores), 3))"
      ],
      "execution_count": null,
      "outputs": [
        {
          "output_type": "stream",
          "name": "stdout",
          "text": [
            "Standard  Deviation =  0.002\n"
          ]
        }
      ]
    },
    {
      "cell_type": "markdown",
      "metadata": {
        "id": "WXMjfVXZHp6d"
      },
      "source": [
        "------------------------------------------------------------------------------\n",
        "ANS Q6:"
      ]
    },
    {
      "cell_type": "code",
      "metadata": {
        "colab": {
          "base_uri": "https://localhost:8080/"
        },
        "id": "UtareLRBHthb",
        "outputId": "9f54d188-f3d8-4f6d-9be2-6d3c57fbfb98"
      },
      "source": [
        "n_q6 = len(HW_df)\n",
        "\n",
        "split_val_q6 = float(input('Val Split : '))\n",
        "split_test_q6 = float(input('Test Split : '))\n",
        "\n",
        "n_train_q6, n_val_q6, n_test_q6 = split_data(n_q6,split_val_q6,split_test_q6)"
      ],
      "execution_count": null,
      "outputs": [
        {
          "output_type": "stream",
          "name": "stdout",
          "text": [
            "Val Split : 0.2\n",
            "Test Split : 0.2\n",
            "Train Split :  0.6000000000000001\n",
            " \n",
            "29337 9779 9779\n"
          ]
        }
      ]
    },
    {
      "cell_type": "code",
      "metadata": {
        "colab": {
          "base_uri": "https://localhost:8080/"
        },
        "id": "SrjNPUqlINhA",
        "outputId": "916d4b4f-551c-4ada-c164-6bcd43a40d7d"
      },
      "source": [
        "idx_q6 = np.arange(n)\n",
        "\n",
        "np.random.seed(9)\n",
        "np.random.shuffle(idx_q6)\n",
        "\n",
        "df_train_q6 = HW_df.iloc[idx_q5[:n_train_q6+n_val_q6]]\n",
        "df_test_q6 = HW_df.iloc[idx_q5[n_train_q6+n_val_q6:]]\n",
        "\n",
        "df_train_q6 = df_train_q6.reset_index(drop=True)\n",
        "df_test_q6 = df_test_q6.reset_index(drop=True)\n",
        "\n",
        "y_train_q6 = np.log1p(df_train_q6.price.values)\n",
        "y_test_q6 = np.log1p(df_test_q6.price.values) \n",
        "\n",
        "del df_train_q6['price']\n",
        "del df_test_q6['price']\n",
        "\n",
        "X_train_q6 = X_opt_1(df_train_q6)\n",
        "X_test_q6 = X_opt_1(df_test_q6)\n",
        "  \n",
        "w0_q6, w_q6 = LG_w_R(X_train_q6, y_train_q6, r=0.001)\n",
        "y_pred_q6 = w0_q6 + X_test_q6.dot(w_q6)\n",
        "RMSE_score = round(RMSE(y_test_q6, y_pred_q6), 2)\n",
        "\n",
        "print('RMSE value = ', RMSE_score)"
      ],
      "execution_count": null,
      "outputs": [
        {
          "output_type": "stream",
          "name": "stdout",
          "text": [
            "RMSE value =  0.65\n"
          ]
        }
      ]
    }
  ]
}