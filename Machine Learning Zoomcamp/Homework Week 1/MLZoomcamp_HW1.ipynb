{
  "nbformat": 4,
  "nbformat_minor": 0,
  "metadata": {
    "colab": {
      "name": "MLZoomcamp_HW1.ipynb",
      "provenance": []
    },
    "kernelspec": {
      "name": "python3",
      "display_name": "Python 3"
    },
    "language_info": {
      "name": "python"
    }
  },
  "cells": [
    {
      "cell_type": "code",
      "metadata": {
        "id": "CDli8dndnysl"
      },
      "source": [
        "import pandas as pd\n",
        "import numpy as np\n",
        " \n",
        "import seaborn as sns\n",
        "from matplotlib import pyplot as plt"
      ],
      "execution_count": null,
      "outputs": []
    },
    {
      "cell_type": "markdown",
      "metadata": {
        "id": "qaTOgf9momZK"
      },
      "source": [
        "ANS Q1:"
      ]
    },
    {
      "cell_type": "code",
      "metadata": {
        "colab": {
          "base_uri": "https://localhost:8080/",
          "height": 36
        },
        "id": "8K5Z86y1oQVF",
        "outputId": "1e6b5c35-ee0d-4592-eacf-2eeaf3d96c56"
      },
      "source": [
        "np.__version__"
      ],
      "execution_count": null,
      "outputs": [
        {
          "output_type": "execute_result",
          "data": {
            "application/vnd.google.colaboratory.intrinsic+json": {
              "type": "string"
            },
            "text/plain": [
              "'1.19.5'"
            ]
          },
          "metadata": {},
          "execution_count": 2
        }
      ]
    },
    {
      "cell_type": "markdown",
      "metadata": {
        "id": "dciZb57jopoq"
      },
      "source": [
        "---------------------------------------------------------------------------------------------------------------------------------------------------\n",
        "\n",
        "\n",
        "\n",
        "ANS Q2:"
      ]
    },
    {
      "cell_type": "code",
      "metadata": {
        "colab": {
          "base_uri": "https://localhost:8080/",
          "height": 36
        },
        "id": "I-2LnaouolJc",
        "outputId": "92764fad-3778-42a5-f335-23c115cd3773"
      },
      "source": [
        "pd.__version__"
      ],
      "execution_count": null,
      "outputs": [
        {
          "output_type": "execute_result",
          "data": {
            "application/vnd.google.colaboratory.intrinsic+json": {
              "type": "string"
            },
            "text/plain": [
              "'1.1.5'"
            ]
          },
          "metadata": {},
          "execution_count": 3
        }
      ]
    },
    {
      "cell_type": "markdown",
      "metadata": {
        "id": "gYVTJxDdqOvo"
      },
      "source": [
        "-----------------------------------------------------------------------------------------\n",
        "Get The Data : Car Prices"
      ]
    },
    {
      "cell_type": "code",
      "metadata": {
        "colab": {
          "base_uri": "https://localhost:8080/"
        },
        "id": "K8Vwl-7vpMYo",
        "outputId": "91161af1-6fce-46b8-a945-4456dec1838e"
      },
      "source": [
        "!wget https://raw.githubusercontent.com/alexeygrigorev/mlbookcamp-code/master/chapter-02-car-price/data.csv"
      ],
      "execution_count": null,
      "outputs": [
        {
          "output_type": "stream",
          "name": "stdout",
          "text": [
            "--2021-09-13 00:54:26--  https://raw.githubusercontent.com/alexeygrigorev/mlbookcamp-code/master/chapter-02-car-price/data.csv\n",
            "Resolving raw.githubusercontent.com (raw.githubusercontent.com)... 185.199.111.133, 185.199.109.133, 185.199.108.133, ...\n",
            "Connecting to raw.githubusercontent.com (raw.githubusercontent.com)|185.199.111.133|:443... connected.\n",
            "HTTP request sent, awaiting response... 200 OK\n",
            "Length: 1475504 (1.4M) [text/plain]\n",
            "Saving to: ‘data.csv’\n",
            "\n",
            "data.csv            100%[===================>]   1.41M  --.-KB/s    in 0.06s   \n",
            "\n",
            "2021-09-13 00:54:26 (25.0 MB/s) - ‘data.csv’ saved [1475504/1475504]\n",
            "\n"
          ]
        }
      ]
    },
    {
      "cell_type": "code",
      "metadata": {
        "colab": {
          "base_uri": "https://localhost:8080/"
        },
        "id": "xJvcSi-RpSYP",
        "outputId": "e59eeed8-7794-40ee-938c-1bc476ccb1f0"
      },
      "source": [
        "df = pd.read_csv('data.csv')\n",
        "len(df)"
      ],
      "execution_count": null,
      "outputs": [
        {
          "output_type": "execute_result",
          "data": {
            "text/plain": [
              "11914"
            ]
          },
          "metadata": {},
          "execution_count": 6
        }
      ]
    },
    {
      "cell_type": "code",
      "metadata": {
        "colab": {
          "base_uri": "https://localhost:8080/",
          "height": 302
        },
        "id": "dyFrCEpppmBh",
        "outputId": "a20ad7db-78af-4267-afab-368ccc8733de"
      },
      "source": [
        "df.head(3)"
      ],
      "execution_count": null,
      "outputs": [
        {
          "output_type": "execute_result",
          "data": {
            "text/html": [
              "<div>\n",
              "<style scoped>\n",
              "    .dataframe tbody tr th:only-of-type {\n",
              "        vertical-align: middle;\n",
              "    }\n",
              "\n",
              "    .dataframe tbody tr th {\n",
              "        vertical-align: top;\n",
              "    }\n",
              "\n",
              "    .dataframe thead th {\n",
              "        text-align: right;\n",
              "    }\n",
              "</style>\n",
              "<table border=\"1\" class=\"dataframe\">\n",
              "  <thead>\n",
              "    <tr style=\"text-align: right;\">\n",
              "      <th></th>\n",
              "      <th>Make</th>\n",
              "      <th>Model</th>\n",
              "      <th>Year</th>\n",
              "      <th>Engine Fuel Type</th>\n",
              "      <th>Engine HP</th>\n",
              "      <th>Engine Cylinders</th>\n",
              "      <th>Transmission Type</th>\n",
              "      <th>Driven_Wheels</th>\n",
              "      <th>Number of Doors</th>\n",
              "      <th>Market Category</th>\n",
              "      <th>Vehicle Size</th>\n",
              "      <th>Vehicle Style</th>\n",
              "      <th>highway MPG</th>\n",
              "      <th>city mpg</th>\n",
              "      <th>Popularity</th>\n",
              "      <th>MSRP</th>\n",
              "    </tr>\n",
              "  </thead>\n",
              "  <tbody>\n",
              "    <tr>\n",
              "      <th>0</th>\n",
              "      <td>BMW</td>\n",
              "      <td>1 Series M</td>\n",
              "      <td>2011</td>\n",
              "      <td>premium unleaded (required)</td>\n",
              "      <td>335.0</td>\n",
              "      <td>6.0</td>\n",
              "      <td>MANUAL</td>\n",
              "      <td>rear wheel drive</td>\n",
              "      <td>2.0</td>\n",
              "      <td>Factory Tuner,Luxury,High-Performance</td>\n",
              "      <td>Compact</td>\n",
              "      <td>Coupe</td>\n",
              "      <td>26</td>\n",
              "      <td>19</td>\n",
              "      <td>3916</td>\n",
              "      <td>46135</td>\n",
              "    </tr>\n",
              "    <tr>\n",
              "      <th>1</th>\n",
              "      <td>BMW</td>\n",
              "      <td>1 Series</td>\n",
              "      <td>2011</td>\n",
              "      <td>premium unleaded (required)</td>\n",
              "      <td>300.0</td>\n",
              "      <td>6.0</td>\n",
              "      <td>MANUAL</td>\n",
              "      <td>rear wheel drive</td>\n",
              "      <td>2.0</td>\n",
              "      <td>Luxury,Performance</td>\n",
              "      <td>Compact</td>\n",
              "      <td>Convertible</td>\n",
              "      <td>28</td>\n",
              "      <td>19</td>\n",
              "      <td>3916</td>\n",
              "      <td>40650</td>\n",
              "    </tr>\n",
              "    <tr>\n",
              "      <th>2</th>\n",
              "      <td>BMW</td>\n",
              "      <td>1 Series</td>\n",
              "      <td>2011</td>\n",
              "      <td>premium unleaded (required)</td>\n",
              "      <td>300.0</td>\n",
              "      <td>6.0</td>\n",
              "      <td>MANUAL</td>\n",
              "      <td>rear wheel drive</td>\n",
              "      <td>2.0</td>\n",
              "      <td>Luxury,High-Performance</td>\n",
              "      <td>Compact</td>\n",
              "      <td>Coupe</td>\n",
              "      <td>28</td>\n",
              "      <td>20</td>\n",
              "      <td>3916</td>\n",
              "      <td>36350</td>\n",
              "    </tr>\n",
              "  </tbody>\n",
              "</table>\n",
              "</div>"
            ],
            "text/plain": [
              "  Make       Model  Year  ... city mpg  Popularity   MSRP\n",
              "0  BMW  1 Series M  2011  ...       19        3916  46135\n",
              "1  BMW    1 Series  2011  ...       19        3916  40650\n",
              "2  BMW    1 Series  2011  ...       20        3916  36350\n",
              "\n",
              "[3 rows x 16 columns]"
            ]
          },
          "metadata": {},
          "execution_count": 8
        }
      ]
    },
    {
      "cell_type": "markdown",
      "metadata": {
        "id": "PEmV50B7p_27"
      },
      "source": [
        "-----------------------------------------------------------------------------------\n",
        "ANS Q3:"
      ]
    },
    {
      "cell_type": "code",
      "metadata": {
        "colab": {
          "base_uri": "https://localhost:8080/"
        },
        "id": "H61mkCrys4pF",
        "outputId": "79e18a0d-c175-45f5-d7ab-cc476e9e598d"
      },
      "source": [
        "df_BMW = df[df[\"Make\"] == \"BMW\"] \n",
        "len(df_BMW)"
      ],
      "execution_count": null,
      "outputs": [
        {
          "output_type": "execute_result",
          "data": {
            "text/plain": [
              "334"
            ]
          },
          "metadata": {},
          "execution_count": 17
        }
      ]
    },
    {
      "cell_type": "code",
      "metadata": {
        "colab": {
          "base_uri": "https://localhost:8080/"
        },
        "id": "-GPkUv5_p_WV",
        "outputId": "6def8ba5-24f0-4e38-df92-ea7704e55126"
      },
      "source": [
        "mean = df_BMW[\"MSRP\"].mean()\n",
        "print(mean)"
      ],
      "execution_count": null,
      "outputs": [
        {
          "output_type": "stream",
          "name": "stdout",
          "text": [
            "61546.76347305389\n"
          ]
        }
      ]
    },
    {
      "cell_type": "markdown",
      "metadata": {
        "id": "v5x4Lk2htgkE"
      },
      "source": [
        "------------------------------------------------------------------------------\n",
        "ANS Q4:"
      ]
    },
    {
      "cell_type": "code",
      "metadata": {
        "colab": {
          "base_uri": "https://localhost:8080/"
        },
        "id": "i0SZ84rdtOVq",
        "outputId": "e0e2e65e-429a-4c53-fe38-c9b27f5bee7f"
      },
      "source": [
        "df_after_2015 = df[df[\"Year\"] >= 2015]\n",
        "len(df_after_2015)"
      ],
      "execution_count": null,
      "outputs": [
        {
          "output_type": "execute_result",
          "data": {
            "text/plain": [
              "5995"
            ]
          },
          "metadata": {},
          "execution_count": 19
        }
      ]
    },
    {
      "cell_type": "code",
      "metadata": {
        "colab": {
          "base_uri": "https://localhost:8080/"
        },
        "id": "ahZEzyrUtf9n",
        "outputId": "58f5566b-67e6-411f-dcce-1a5d34dbbbf9"
      },
      "source": [
        "df_after_2015.isna().sum()"
      ],
      "execution_count": null,
      "outputs": [
        {
          "output_type": "execute_result",
          "data": {
            "text/plain": [
              "Make                    0\n",
              "Model                   0\n",
              "Year                    0\n",
              "Engine Fuel Type        0\n",
              "Engine HP              51\n",
              "Engine Cylinders        8\n",
              "Transmission Type       0\n",
              "Driven_Wheels           0\n",
              "Number of Doors         5\n",
              "Market Category      1324\n",
              "Vehicle Size            0\n",
              "Vehicle Style           0\n",
              "highway MPG             0\n",
              "city mpg                0\n",
              "Popularity              0\n",
              "MSRP                    0\n",
              "dtype: int64"
            ]
          },
          "metadata": {},
          "execution_count": 21
        }
      ]
    },
    {
      "cell_type": "markdown",
      "metadata": {
        "id": "QEvhnf8zuiK-"
      },
      "source": [
        "----------------------------------------------------------------------------------\n",
        "ANS Q5:"
      ]
    },
    {
      "cell_type": "code",
      "metadata": {
        "colab": {
          "base_uri": "https://localhost:8080/"
        },
        "id": "jdrs_6zfulJi",
        "outputId": "8ec30da9-d501-4899-a583-d96e56ee2705"
      },
      "source": [
        "initial_mean = df_after_2015[\"Engine HP\"].mean()\n",
        "print(round(initial_mean))"
      ],
      "execution_count": null,
      "outputs": [
        {
          "output_type": "stream",
          "name": "stdout",
          "text": [
            "273\n"
          ]
        }
      ]
    },
    {
      "cell_type": "code",
      "metadata": {
        "colab": {
          "base_uri": "https://localhost:8080/"
        },
        "id": "ln_nQXy9vE7C",
        "outputId": "458a3235-a1c2-4f93-ae25-e73d71b9a21b"
      },
      "source": [
        "df_after_2015[\"Engine HP\"].fillna(int(df_after_2015[\"Engine HP\"].mean()), inplace=True)\n",
        "df_after_2015.isna().sum()"
      ],
      "execution_count": null,
      "outputs": [
        {
          "output_type": "stream",
          "name": "stderr",
          "text": [
            "/usr/local/lib/python3.7/dist-packages/pandas/core/series.py:4536: SettingWithCopyWarning: \n",
            "A value is trying to be set on a copy of a slice from a DataFrame\n",
            "\n",
            "See the caveats in the documentation: https://pandas.pydata.org/pandas-docs/stable/user_guide/indexing.html#returning-a-view-versus-a-copy\n",
            "  downcast=downcast,\n"
          ]
        },
        {
          "output_type": "execute_result",
          "data": {
            "text/plain": [
              "Make                    0\n",
              "Model                   0\n",
              "Year                    0\n",
              "Engine Fuel Type        0\n",
              "Engine HP               0\n",
              "Engine Cylinders        8\n",
              "Transmission Type       0\n",
              "Driven_Wheels           0\n",
              "Number of Doors         5\n",
              "Market Category      1324\n",
              "Vehicle Size            0\n",
              "Vehicle Style           0\n",
              "highway MPG             0\n",
              "city mpg                0\n",
              "Popularity              0\n",
              "MSRP                    0\n",
              "dtype: int64"
            ]
          },
          "metadata": {},
          "execution_count": 27
        }
      ]
    },
    {
      "cell_type": "code",
      "metadata": {
        "colab": {
          "base_uri": "https://localhost:8080/"
        },
        "id": "JV0rF1EEwDOS",
        "outputId": "e1adaa0a-a936-4820-94b0-01fbaa6ba4a7"
      },
      "source": [
        "new_mean = df_after_2015[\"Engine HP\"].mean()\n",
        "print(round(new_mean))"
      ],
      "execution_count": null,
      "outputs": [
        {
          "output_type": "stream",
          "name": "stdout",
          "text": [
            "273\n"
          ]
        }
      ]
    },
    {
      "cell_type": "markdown",
      "metadata": {
        "id": "qzvCRk5lwcjW"
      },
      "source": [
        "-------------------------------------------------------------------------------\n",
        "ANS Q6:"
      ]
    },
    {
      "cell_type": "code",
      "metadata": {
        "colab": {
          "base_uri": "https://localhost:8080/"
        },
        "id": "IPpgUkUPwcEL",
        "outputId": "c00d7642-ea53-4373-aad7-97d284075a6a"
      },
      "source": [
        "df_RR = df[df[\"Make\"] == \"Rolls-Royce\"] \n",
        "print(\"Data Length :\" ,len(df_RR))\n",
        "print(df_RR)"
      ],
      "execution_count": null,
      "outputs": [
        {
          "output_type": "stream",
          "name": "stdout",
          "text": [
            "Data Length : 31\n",
            "              Make                   Model  Year  ... city mpg  Popularity    MSRP\n",
            "2921   Rolls-Royce                Corniche  2001  ...       10          86  359990\n",
            "3505   Rolls-Royce                    Dawn  2016  ...       12          86  335000\n",
            "5275   Rolls-Royce         Ghost Series II  2015  ...       13          86  286750\n",
            "5276   Rolls-Royce         Ghost Series II  2015  ...       13          86  319400\n",
            "5277   Rolls-Royce         Ghost Series II  2016  ...       13          86  295850\n",
            "5278   Rolls-Royce         Ghost Series II  2016  ...       13          86  329325\n",
            "5279   Rolls-Royce                   Ghost  2012  ...       13          86  250000\n",
            "5280   Rolls-Royce                   Ghost  2012  ...       13          86  290000\n",
            "5281   Rolls-Royce                   Ghost  2013  ...       13          86  296000\n",
            "5282   Rolls-Royce                   Ghost  2013  ...       13          86  256650\n",
            "5283   Rolls-Royce                   Ghost  2014  ...       13          86  263200\n",
            "5284   Rolls-Royce                   Ghost  2014  ...       13          86  303300\n",
            "7443   Rolls-Royce               Park Ward  2001  ...       11          86  259900\n",
            "7444   Rolls-Royce               Park Ward  2002  ...       11          86  262990\n",
            "7553   Rolls-Royce           Phantom Coupe  2014  ...       11          86  433550\n",
            "7554   Rolls-Royce           Phantom Coupe  2015  ...       11          86  438325\n",
            "7555   Rolls-Royce           Phantom Coupe  2016  ...       11          86  449525\n",
            "7556   Rolls-Royce  Phantom Drophead Coupe  2014  ...       11          86  474600\n",
            "7557   Rolls-Royce  Phantom Drophead Coupe  2015  ...       11          86  479775\n",
            "7558   Rolls-Royce  Phantom Drophead Coupe  2016  ...       11          86  492000\n",
            "7559   Rolls-Royce                 Phantom  2014  ...       11          86  402940\n",
            "7560   Rolls-Royce                 Phantom  2014  ...       11          86  474990\n",
            "7561   Rolls-Royce                 Phantom  2015  ...       11          86  407400\n",
            "7562   Rolls-Royce                 Phantom  2015  ...       11          86  480175\n",
            "7563   Rolls-Royce                 Phantom  2016  ...       11          86  417825\n",
            "7564   Rolls-Royce                 Phantom  2016  ...       11          86  492425\n",
            "9431   Rolls-Royce           Silver Seraph  2001  ...       11          86  219900\n",
            "9432   Rolls-Royce           Silver Seraph  2002  ...       11          86  229990\n",
            "11448  Rolls-Royce                  Wraith  2014  ...       13          86  284900\n",
            "11449  Rolls-Royce                  Wraith  2015  ...       13          86  294025\n",
            "11450  Rolls-Royce                  Wraith  2016  ...       13          86  304350\n",
            "\n",
            "[31 rows x 16 columns]\n"
          ]
        }
      ]
    },
    {
      "cell_type": "code",
      "metadata": {
        "colab": {
          "base_uri": "https://localhost:8080/",
          "height": 206
        },
        "id": "S_MxYOorw2Qd",
        "outputId": "5605b83e-62af-4e3e-be12-f1191bf79623"
      },
      "source": [
        "df_RR = df_RR[[\"Engine HP\", \"Engine Cylinders\", \"highway MPG\"]]\n",
        "df_RR.head()"
      ],
      "execution_count": null,
      "outputs": [
        {
          "output_type": "execute_result",
          "data": {
            "text/html": [
              "<div>\n",
              "<style scoped>\n",
              "    .dataframe tbody tr th:only-of-type {\n",
              "        vertical-align: middle;\n",
              "    }\n",
              "\n",
              "    .dataframe tbody tr th {\n",
              "        vertical-align: top;\n",
              "    }\n",
              "\n",
              "    .dataframe thead th {\n",
              "        text-align: right;\n",
              "    }\n",
              "</style>\n",
              "<table border=\"1\" class=\"dataframe\">\n",
              "  <thead>\n",
              "    <tr style=\"text-align: right;\">\n",
              "      <th></th>\n",
              "      <th>Engine HP</th>\n",
              "      <th>Engine Cylinders</th>\n",
              "      <th>highway MPG</th>\n",
              "    </tr>\n",
              "  </thead>\n",
              "  <tbody>\n",
              "    <tr>\n",
              "      <th>2921</th>\n",
              "      <td>325.0</td>\n",
              "      <td>8.0</td>\n",
              "      <td>15</td>\n",
              "    </tr>\n",
              "    <tr>\n",
              "      <th>3505</th>\n",
              "      <td>563.0</td>\n",
              "      <td>12.0</td>\n",
              "      <td>19</td>\n",
              "    </tr>\n",
              "    <tr>\n",
              "      <th>5275</th>\n",
              "      <td>563.0</td>\n",
              "      <td>12.0</td>\n",
              "      <td>21</td>\n",
              "    </tr>\n",
              "    <tr>\n",
              "      <th>5276</th>\n",
              "      <td>563.0</td>\n",
              "      <td>12.0</td>\n",
              "      <td>21</td>\n",
              "    </tr>\n",
              "    <tr>\n",
              "      <th>5277</th>\n",
              "      <td>563.0</td>\n",
              "      <td>12.0</td>\n",
              "      <td>21</td>\n",
              "    </tr>\n",
              "  </tbody>\n",
              "</table>\n",
              "</div>"
            ],
            "text/plain": [
              "      Engine HP  Engine Cylinders  highway MPG\n",
              "2921      325.0               8.0           15\n",
              "3505      563.0              12.0           19\n",
              "5275      563.0              12.0           21\n",
              "5276      563.0              12.0           21\n",
              "5277      563.0              12.0           21"
            ]
          },
          "metadata": {},
          "execution_count": 35
        }
      ]
    },
    {
      "cell_type": "code",
      "metadata": {
        "colab": {
          "base_uri": "https://localhost:8080/"
        },
        "id": "EoFh7t0FxW2W",
        "outputId": "a7e5919f-8408-4964-945f-dec8aa64d1e7"
      },
      "source": [
        "new_df_RR = df_RR.drop_duplicates()\n",
        "print(new_df_RR)"
      ],
      "execution_count": null,
      "outputs": [
        {
          "output_type": "stream",
          "name": "stdout",
          "text": [
            "       Engine HP  Engine Cylinders  highway MPG\n",
            "2921       325.0               8.0           15\n",
            "3505       563.0              12.0           19\n",
            "5275       563.0              12.0           21\n",
            "5279       563.0              12.0           20\n",
            "7443       322.0              12.0           15\n",
            "7553       453.0              12.0           19\n",
            "11448      624.0              12.0           21\n"
          ]
        }
      ]
    },
    {
      "cell_type": "code",
      "metadata": {
        "colab": {
          "base_uri": "https://localhost:8080/"
        },
        "id": "vaUnZCuMxl4z",
        "outputId": "7befea36-d195-4918-8cd8-a2baee91b7ee"
      },
      "source": [
        "X = new_df_RR.to_numpy()\n",
        "print(X)"
      ],
      "execution_count": null,
      "outputs": [
        {
          "output_type": "stream",
          "name": "stdout",
          "text": [
            "[[325.   8.  15.]\n",
            " [563.  12.  19.]\n",
            " [563.  12.  21.]\n",
            " [563.  12.  20.]\n",
            " [322.  12.  15.]\n",
            " [453.  12.  19.]\n",
            " [624.  12.  21.]]\n"
          ]
        }
      ]
    },
    {
      "cell_type": "code",
      "metadata": {
        "colab": {
          "base_uri": "https://localhost:8080/"
        },
        "id": "aO9iglf-x5NV",
        "outputId": "da722d77-c74f-4390-8852-0802060475f4"
      },
      "source": [
        "XTX = X.transpose().dot(X)\n",
        "print(XTX)"
      ],
      "execution_count": null,
      "outputs": [
        {
          "output_type": "stream",
          "name": "stdout",
          "text": [
            "[[1.754801e+06 3.965600e+04 6.519600e+04]\n",
            " [3.965600e+04 9.280000e+02 1.500000e+03]\n",
            " [6.519600e+04 1.500000e+03 2.454000e+03]]\n"
          ]
        }
      ]
    },
    {
      "cell_type": "code",
      "metadata": {
        "colab": {
          "base_uri": "https://localhost:8080/"
        },
        "id": "Kq07ECs5yo8G",
        "outputId": "57a7e063-2dc2-41f6-a096-95c63949a520"
      },
      "source": [
        "XTX = np.linalg.inv(XTX)\n",
        "print(XTX)"
      ],
      "execution_count": null,
      "outputs": [
        {
          "output_type": "stream",
          "name": "stdout",
          "text": [
            "[[ 5.17815728e-05  9.06587044e-04 -1.92984188e-03]\n",
            " [ 9.06587044e-04  1.05723058e-01 -8.87084092e-02]\n",
            " [-1.92984188e-03 -8.87084092e-02  1.05900809e-01]]\n"
          ]
        }
      ]
    },
    {
      "cell_type": "code",
      "metadata": {
        "colab": {
          "base_uri": "https://localhost:8080/"
        },
        "id": "xKL9SP9Xy_ld",
        "outputId": "af5991bc-5821-424b-9c27-f630924b9df8"
      },
      "source": [
        "XTX.sum()"
      ],
      "execution_count": null,
      "outputs": [
        {
          "output_type": "execute_result",
          "data": {
            "text/plain": [
              "0.032212320677486125"
            ]
          },
          "metadata": {},
          "execution_count": 50
        }
      ]
    },
    {
      "cell_type": "markdown",
      "metadata": {
        "id": "cAYarVHB19xa"
      },
      "source": [
        "---------------------------------------------------------------------------\n",
        "ANS Q7:"
      ]
    },
    {
      "cell_type": "code",
      "metadata": {
        "colab": {
          "base_uri": "https://localhost:8080/"
        },
        "id": "WJeelBQA2Awr",
        "outputId": "75da678e-48e1-4203-939d-33ae88a260ae"
      },
      "source": [
        "y = np.array([1000, 1100, 900, 1200, 1000, 850, 1300])\n",
        "print(y)"
      ],
      "execution_count": null,
      "outputs": [
        {
          "output_type": "stream",
          "name": "stdout",
          "text": [
            "[1000 1100  900 1200 1000  850 1300]\n"
          ]
        }
      ]
    },
    {
      "cell_type": "code",
      "metadata": {
        "colab": {
          "base_uri": "https://localhost:8080/"
        },
        "id": "7Pvg1jN_2QOD",
        "outputId": "83c5c88a-32f4-4323-d81c-fed0794b9f20"
      },
      "source": [
        "w = XTX.dot(X.transpose())\n",
        "print(\"w before multiply with y = \\n\", w)\n",
        "print(\" \")\n",
        "w = w.dot(y)\n",
        "print(\"w after multiply with y = \\n\", w)"
      ],
      "execution_count": null,
      "outputs": [
        {
          "output_type": "stream",
          "name": "stdout",
          "text": [
            "w before multiply with y = \n",
            " [[-0.00486592  0.00336507 -0.00049461  0.00143523 -0.00139492 -0.0023309\n",
            "   0.00266407]\n",
            " [-0.19020088  0.09362543 -0.08379139  0.00491702  0.22997159 -0.00609915\n",
            "  -0.02848958]\n",
            " [ 0.25164625 -0.13888652  0.0729151  -0.03298571 -0.09739786  0.07339609\n",
            "  -0.04480526]]\n",
            " \n",
            "w after multiply with y = \n",
            " [ 0.19989598 31.02612262 31.65378877]\n"
          ]
        }
      ]
    }
  ]
}