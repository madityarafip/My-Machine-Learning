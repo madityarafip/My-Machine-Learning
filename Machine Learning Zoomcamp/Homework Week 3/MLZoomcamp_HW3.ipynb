{
  "nbformat": 4,
  "nbformat_minor": 0,
  "metadata": {
    "colab": {
      "name": "MLZoomcamp_HW3.ipynb",
      "provenance": [],
      "collapsed_sections": []
    },
    "kernelspec": {
      "name": "python3",
      "display_name": "Python 3"
    },
    "language_info": {
      "name": "python"
    },
    "accelerator": "GPU"
  },
  "cells": [
    {
      "cell_type": "code",
      "metadata": {
        "id": "ypkKOMI9Lzz1"
      },
      "source": [
        "import pandas as pd\n",
        "import numpy as np\n",
        " \n",
        "import seaborn as sns\n",
        "from matplotlib import pyplot as plt\n",
        "\n",
        "from sklearn.model_selection import train_test_split\n",
        "\n",
        "from sklearn.metrics import mutual_info_score\n",
        "\n",
        "from sklearn.feature_extraction import DictVectorizer\n",
        "\n",
        "from sklearn.linear_model import LogisticRegression, Ridge"
      ],
      "execution_count": 119,
      "outputs": []
    },
    {
      "cell_type": "markdown",
      "metadata": {
        "id": "GEIvexXhYWaL"
      },
      "source": [
        "Get The Data: New York City Airbnb Open Data"
      ]
    },
    {
      "cell_type": "code",
      "metadata": {
        "colab": {
          "base_uri": "https://localhost:8080/"
        },
        "id": "TPNw1Rm7S_3_",
        "outputId": "32b41aed-3add-4ada-a0e8-ca6b4804332b"
      },
      "source": [
        "!wget https://raw.githubusercontent.com/alexeygrigorev/datasets/master/AB_NYC_2019.csv"
      ],
      "execution_count": 2,
      "outputs": [
        {
          "output_type": "stream",
          "name": "stdout",
          "text": [
            "--2021-09-25 01:30:42--  https://raw.githubusercontent.com/alexeygrigorev/datasets/master/AB_NYC_2019.csv\n",
            "Resolving raw.githubusercontent.com (raw.githubusercontent.com)... 185.199.108.133, 185.199.109.133, 185.199.110.133, ...\n",
            "Connecting to raw.githubusercontent.com (raw.githubusercontent.com)|185.199.108.133|:443... connected.\n",
            "HTTP request sent, awaiting response... 200 OK\n",
            "Length: 7077973 (6.8M) [text/plain]\n",
            "Saving to: ‘AB_NYC_2019.csv’\n",
            "\n",
            "AB_NYC_2019.csv     100%[===================>]   6.75M  --.-KB/s    in 0.05s   \n",
            "\n",
            "2021-09-25 01:30:43 (147 MB/s) - ‘AB_NYC_2019.csv’ saved [7077973/7077973]\n",
            "\n"
          ]
        }
      ]
    },
    {
      "cell_type": "code",
      "metadata": {
        "colab": {
          "base_uri": "https://localhost:8080/",
          "height": 268
        },
        "id": "2Q7I2E0UTFBZ",
        "outputId": "b6ee3bd8-75de-4f4f-dfe0-85c23a96cc52"
      },
      "source": [
        "df = pd.read_csv('AB_NYC_2019.csv')\n",
        "df.head(3)"
      ],
      "execution_count": 3,
      "outputs": [
        {
          "output_type": "execute_result",
          "data": {
            "text/html": [
              "<div>\n",
              "<style scoped>\n",
              "    .dataframe tbody tr th:only-of-type {\n",
              "        vertical-align: middle;\n",
              "    }\n",
              "\n",
              "    .dataframe tbody tr th {\n",
              "        vertical-align: top;\n",
              "    }\n",
              "\n",
              "    .dataframe thead th {\n",
              "        text-align: right;\n",
              "    }\n",
              "</style>\n",
              "<table border=\"1\" class=\"dataframe\">\n",
              "  <thead>\n",
              "    <tr style=\"text-align: right;\">\n",
              "      <th></th>\n",
              "      <th>id</th>\n",
              "      <th>name</th>\n",
              "      <th>host_id</th>\n",
              "      <th>host_name</th>\n",
              "      <th>neighbourhood_group</th>\n",
              "      <th>neighbourhood</th>\n",
              "      <th>latitude</th>\n",
              "      <th>longitude</th>\n",
              "      <th>room_type</th>\n",
              "      <th>price</th>\n",
              "      <th>minimum_nights</th>\n",
              "      <th>number_of_reviews</th>\n",
              "      <th>last_review</th>\n",
              "      <th>reviews_per_month</th>\n",
              "      <th>calculated_host_listings_count</th>\n",
              "      <th>availability_365</th>\n",
              "    </tr>\n",
              "  </thead>\n",
              "  <tbody>\n",
              "    <tr>\n",
              "      <th>0</th>\n",
              "      <td>2539</td>\n",
              "      <td>Clean &amp; quiet apt home by the park</td>\n",
              "      <td>2787</td>\n",
              "      <td>John</td>\n",
              "      <td>Brooklyn</td>\n",
              "      <td>Kensington</td>\n",
              "      <td>40.64749</td>\n",
              "      <td>-73.97237</td>\n",
              "      <td>Private room</td>\n",
              "      <td>149</td>\n",
              "      <td>1</td>\n",
              "      <td>9</td>\n",
              "      <td>2018-10-19</td>\n",
              "      <td>0.21</td>\n",
              "      <td>6</td>\n",
              "      <td>365</td>\n",
              "    </tr>\n",
              "    <tr>\n",
              "      <th>1</th>\n",
              "      <td>2595</td>\n",
              "      <td>Skylit Midtown Castle</td>\n",
              "      <td>2845</td>\n",
              "      <td>Jennifer</td>\n",
              "      <td>Manhattan</td>\n",
              "      <td>Midtown</td>\n",
              "      <td>40.75362</td>\n",
              "      <td>-73.98377</td>\n",
              "      <td>Entire home/apt</td>\n",
              "      <td>225</td>\n",
              "      <td>1</td>\n",
              "      <td>45</td>\n",
              "      <td>2019-05-21</td>\n",
              "      <td>0.38</td>\n",
              "      <td>2</td>\n",
              "      <td>355</td>\n",
              "    </tr>\n",
              "    <tr>\n",
              "      <th>2</th>\n",
              "      <td>3647</td>\n",
              "      <td>THE VILLAGE OF HARLEM....NEW YORK !</td>\n",
              "      <td>4632</td>\n",
              "      <td>Elisabeth</td>\n",
              "      <td>Manhattan</td>\n",
              "      <td>Harlem</td>\n",
              "      <td>40.80902</td>\n",
              "      <td>-73.94190</td>\n",
              "      <td>Private room</td>\n",
              "      <td>150</td>\n",
              "      <td>3</td>\n",
              "      <td>0</td>\n",
              "      <td>NaN</td>\n",
              "      <td>NaN</td>\n",
              "      <td>1</td>\n",
              "      <td>365</td>\n",
              "    </tr>\n",
              "  </tbody>\n",
              "</table>\n",
              "</div>"
            ],
            "text/plain": [
              "     id  ... availability_365\n",
              "0  2539  ...              365\n",
              "1  2595  ...              355\n",
              "2  3647  ...              365\n",
              "\n",
              "[3 rows x 16 columns]"
            ]
          },
          "metadata": {},
          "execution_count": 3
        }
      ]
    },
    {
      "cell_type": "code",
      "metadata": {
        "colab": {
          "base_uri": "https://localhost:8080/",
          "height": 216
        },
        "id": "0Uv2EopoTPVH",
        "outputId": "e7941ef8-faab-42cb-d885-cf6d7b3a9977"
      },
      "source": [
        "HW_columns = [\n",
        "              'neighbourhood_group',\n",
        "              'room_type',\n",
        "              'latitude',\n",
        "              'longitude',\n",
        "              'price',\n",
        "              'minimum_nights',\n",
        "              'number_of_reviews',\n",
        "              'reviews_per_month',\n",
        "              'calculated_host_listings_count',\n",
        "              'availability_365'\n",
        "              ]\n",
        "HW_df = df[HW_columns]\n",
        "HW_df.head(3)"
      ],
      "execution_count": 4,
      "outputs": [
        {
          "output_type": "execute_result",
          "data": {
            "text/html": [
              "<div>\n",
              "<style scoped>\n",
              "    .dataframe tbody tr th:only-of-type {\n",
              "        vertical-align: middle;\n",
              "    }\n",
              "\n",
              "    .dataframe tbody tr th {\n",
              "        vertical-align: top;\n",
              "    }\n",
              "\n",
              "    .dataframe thead th {\n",
              "        text-align: right;\n",
              "    }\n",
              "</style>\n",
              "<table border=\"1\" class=\"dataframe\">\n",
              "  <thead>\n",
              "    <tr style=\"text-align: right;\">\n",
              "      <th></th>\n",
              "      <th>neighbourhood_group</th>\n",
              "      <th>room_type</th>\n",
              "      <th>latitude</th>\n",
              "      <th>longitude</th>\n",
              "      <th>price</th>\n",
              "      <th>minimum_nights</th>\n",
              "      <th>number_of_reviews</th>\n",
              "      <th>reviews_per_month</th>\n",
              "      <th>calculated_host_listings_count</th>\n",
              "      <th>availability_365</th>\n",
              "    </tr>\n",
              "  </thead>\n",
              "  <tbody>\n",
              "    <tr>\n",
              "      <th>0</th>\n",
              "      <td>Brooklyn</td>\n",
              "      <td>Private room</td>\n",
              "      <td>40.64749</td>\n",
              "      <td>-73.97237</td>\n",
              "      <td>149</td>\n",
              "      <td>1</td>\n",
              "      <td>9</td>\n",
              "      <td>0.21</td>\n",
              "      <td>6</td>\n",
              "      <td>365</td>\n",
              "    </tr>\n",
              "    <tr>\n",
              "      <th>1</th>\n",
              "      <td>Manhattan</td>\n",
              "      <td>Entire home/apt</td>\n",
              "      <td>40.75362</td>\n",
              "      <td>-73.98377</td>\n",
              "      <td>225</td>\n",
              "      <td>1</td>\n",
              "      <td>45</td>\n",
              "      <td>0.38</td>\n",
              "      <td>2</td>\n",
              "      <td>355</td>\n",
              "    </tr>\n",
              "    <tr>\n",
              "      <th>2</th>\n",
              "      <td>Manhattan</td>\n",
              "      <td>Private room</td>\n",
              "      <td>40.80902</td>\n",
              "      <td>-73.94190</td>\n",
              "      <td>150</td>\n",
              "      <td>3</td>\n",
              "      <td>0</td>\n",
              "      <td>NaN</td>\n",
              "      <td>1</td>\n",
              "      <td>365</td>\n",
              "    </tr>\n",
              "  </tbody>\n",
              "</table>\n",
              "</div>"
            ],
            "text/plain": [
              "  neighbourhood_group  ... availability_365\n",
              "0            Brooklyn  ...              365\n",
              "1           Manhattan  ...              355\n",
              "2           Manhattan  ...              365\n",
              "\n",
              "[3 rows x 10 columns]"
            ]
          },
          "metadata": {},
          "execution_count": 4
        }
      ]
    },
    {
      "cell_type": "code",
      "metadata": {
        "colab": {
          "base_uri": "https://localhost:8080/"
        },
        "id": "zeKQ_amBZrow",
        "outputId": "e67a6593-9011-49b4-eb66-c9eb6d037150"
      },
      "source": [
        "HW_df.columns"
      ],
      "execution_count": 5,
      "outputs": [
        {
          "output_type": "execute_result",
          "data": {
            "text/plain": [
              "Index(['neighbourhood_group', 'room_type', 'latitude', 'longitude', 'price',\n",
              "       'minimum_nights', 'number_of_reviews', 'reviews_per_month',\n",
              "       'calculated_host_listings_count', 'availability_365'],\n",
              "      dtype='object')"
            ]
          },
          "metadata": {},
          "execution_count": 5
        }
      ]
    },
    {
      "cell_type": "code",
      "metadata": {
        "colab": {
          "base_uri": "https://localhost:8080/"
        },
        "id": "ujT-vd7-dq1Z",
        "outputId": "a3ec69b7-750d-4d43-a0c9-4f54642270c7"
      },
      "source": [
        "HW_df.isna().sum()"
      ],
      "execution_count": 6,
      "outputs": [
        {
          "output_type": "execute_result",
          "data": {
            "text/plain": [
              "neighbourhood_group                   0\n",
              "room_type                             0\n",
              "latitude                              0\n",
              "longitude                             0\n",
              "price                                 0\n",
              "minimum_nights                        0\n",
              "number_of_reviews                     0\n",
              "reviews_per_month                 10052\n",
              "calculated_host_listings_count        0\n",
              "availability_365                      0\n",
              "dtype: int64"
            ]
          },
          "metadata": {},
          "execution_count": 6
        }
      ]
    },
    {
      "cell_type": "markdown",
      "metadata": {
        "id": "5akwKL_adOwF"
      },
      "source": [
        "------------------------------------------------------------------------------\n",
        "Fill Missing Values "
      ]
    },
    {
      "cell_type": "code",
      "metadata": {
        "id": "b0-np1UDdofG"
      },
      "source": [
        "def X_fill_NA(df, base, val):\n",
        "  df_fill = df[base]\n",
        "  df_fill = df_fill.fillna(val)\n",
        "\n",
        "  return df_fill"
      ],
      "execution_count": 7,
      "outputs": []
    },
    {
      "cell_type": "code",
      "metadata": {
        "colab": {
          "base_uri": "https://localhost:8080/"
        },
        "id": "ajahRc6de0P4",
        "outputId": "4db2e221-c3a2-42d6-c966-12459e2f9bce"
      },
      "source": [
        "HW_df = X_fill_NA(HW_df, HW_columns, val=0)\n",
        "HW_df.isna().sum()"
      ],
      "execution_count": 8,
      "outputs": [
        {
          "output_type": "execute_result",
          "data": {
            "text/plain": [
              "neighbourhood_group               0\n",
              "room_type                         0\n",
              "latitude                          0\n",
              "longitude                         0\n",
              "price                             0\n",
              "minimum_nights                    0\n",
              "number_of_reviews                 0\n",
              "reviews_per_month                 0\n",
              "calculated_host_listings_count    0\n",
              "availability_365                  0\n",
              "dtype: int64"
            ]
          },
          "metadata": {},
          "execution_count": 8
        }
      ]
    },
    {
      "cell_type": "markdown",
      "metadata": {
        "id": "CGQUVR87Zv4g"
      },
      "source": [
        "------------------------------------------------------------------------------\n",
        "ANS Q1:"
      ]
    },
    {
      "cell_type": "code",
      "metadata": {
        "colab": {
          "base_uri": "https://localhost:8080/"
        },
        "id": "trw0C8rgT0f6",
        "outputId": "e8c50659-cdcb-4697-fc99-167ecb2d96ef"
      },
      "source": [
        "HW_df.neighbourhood_group.mode()"
      ],
      "execution_count": 9,
      "outputs": [
        {
          "output_type": "execute_result",
          "data": {
            "text/plain": [
              "0    Manhattan\n",
              "dtype: object"
            ]
          },
          "metadata": {},
          "execution_count": 9
        }
      ]
    },
    {
      "cell_type": "markdown",
      "metadata": {
        "id": "qrCXjMqEdXbo"
      },
      "source": [
        "------------------------------------------------------------------------------\n",
        "Split Data (Sklearn Library)"
      ]
    },
    {
      "cell_type": "code",
      "metadata": {
        "id": "9jSx1kx7UNoo"
      },
      "source": [
        "#80% Full Train, 20% Test\n",
        "df_full_train, df_test = train_test_split(HW_df, test_size=0.2, random_state=42)"
      ],
      "execution_count": 125,
      "outputs": []
    },
    {
      "cell_type": "markdown",
      "metadata": {
        "id": "YFWMjwqbu1mO"
      },
      "source": [
        "------------------------------------------------------------------------------\n",
        "Make price binary"
      ]
    },
    {
      "cell_type": "code",
      "metadata": {
        "colab": {
          "base_uri": "https://localhost:8080/",
          "height": 667
        },
        "id": "fLjVs095z-rh",
        "outputId": "74df6304-91f7-474f-9647-5401b12cb309"
      },
      "source": [
        "df_full_train['above_average'] = (df_full_train.price >= 152).astype(int)\n",
        "df_full_train.head(10)"
      ],
      "execution_count": 126,
      "outputs": [
        {
          "output_type": "stream",
          "name": "stderr",
          "text": [
            "/usr/local/lib/python3.7/dist-packages/ipykernel_launcher.py:1: SettingWithCopyWarning: \n",
            "A value is trying to be set on a copy of a slice from a DataFrame.\n",
            "Try using .loc[row_indexer,col_indexer] = value instead\n",
            "\n",
            "See the caveats in the documentation: https://pandas.pydata.org/pandas-docs/stable/user_guide/indexing.html#returning-a-view-versus-a-copy\n",
            "  \"\"\"Entry point for launching an IPython kernel.\n"
          ]
        },
        {
          "output_type": "execute_result",
          "data": {
            "text/html": [
              "<div>\n",
              "<style scoped>\n",
              "    .dataframe tbody tr th:only-of-type {\n",
              "        vertical-align: middle;\n",
              "    }\n",
              "\n",
              "    .dataframe tbody tr th {\n",
              "        vertical-align: top;\n",
              "    }\n",
              "\n",
              "    .dataframe thead th {\n",
              "        text-align: right;\n",
              "    }\n",
              "</style>\n",
              "<table border=\"1\" class=\"dataframe\">\n",
              "  <thead>\n",
              "    <tr style=\"text-align: right;\">\n",
              "      <th></th>\n",
              "      <th>neighbourhood_group</th>\n",
              "      <th>room_type</th>\n",
              "      <th>latitude</th>\n",
              "      <th>longitude</th>\n",
              "      <th>price</th>\n",
              "      <th>minimum_nights</th>\n",
              "      <th>number_of_reviews</th>\n",
              "      <th>reviews_per_month</th>\n",
              "      <th>calculated_host_listings_count</th>\n",
              "      <th>availability_365</th>\n",
              "      <th>above_average</th>\n",
              "    </tr>\n",
              "  </thead>\n",
              "  <tbody>\n",
              "    <tr>\n",
              "      <th>32645</th>\n",
              "      <td>Brooklyn</td>\n",
              "      <td>Entire home/apt</td>\n",
              "      <td>40.71577</td>\n",
              "      <td>-73.95530</td>\n",
              "      <td>295</td>\n",
              "      <td>3</td>\n",
              "      <td>11</td>\n",
              "      <td>0.87</td>\n",
              "      <td>1</td>\n",
              "      <td>1</td>\n",
              "      <td>1</td>\n",
              "    </tr>\n",
              "    <tr>\n",
              "      <th>23615</th>\n",
              "      <td>Manhattan</td>\n",
              "      <td>Private room</td>\n",
              "      <td>40.84917</td>\n",
              "      <td>-73.94048</td>\n",
              "      <td>70</td>\n",
              "      <td>2</td>\n",
              "      <td>2</td>\n",
              "      <td>0.16</td>\n",
              "      <td>1</td>\n",
              "      <td>0</td>\n",
              "      <td>0</td>\n",
              "    </tr>\n",
              "    <tr>\n",
              "      <th>31183</th>\n",
              "      <td>Brooklyn</td>\n",
              "      <td>Private room</td>\n",
              "      <td>40.68993</td>\n",
              "      <td>-73.95947</td>\n",
              "      <td>58</td>\n",
              "      <td>2</td>\n",
              "      <td>0</td>\n",
              "      <td>0.00</td>\n",
              "      <td>2</td>\n",
              "      <td>0</td>\n",
              "      <td>0</td>\n",
              "    </tr>\n",
              "    <tr>\n",
              "      <th>29260</th>\n",
              "      <td>Brooklyn</td>\n",
              "      <td>Entire home/apt</td>\n",
              "      <td>40.68427</td>\n",
              "      <td>-73.93118</td>\n",
              "      <td>75</td>\n",
              "      <td>3</td>\n",
              "      <td>87</td>\n",
              "      <td>4.91</td>\n",
              "      <td>1</td>\n",
              "      <td>267</td>\n",
              "      <td>0</td>\n",
              "    </tr>\n",
              "    <tr>\n",
              "      <th>7275</th>\n",
              "      <td>Queens</td>\n",
              "      <td>Private room</td>\n",
              "      <td>40.74705</td>\n",
              "      <td>-73.89564</td>\n",
              "      <td>38</td>\n",
              "      <td>5</td>\n",
              "      <td>13</td>\n",
              "      <td>0.25</td>\n",
              "      <td>1</td>\n",
              "      <td>0</td>\n",
              "      <td>0</td>\n",
              "    </tr>\n",
              "    <tr>\n",
              "      <th>26011</th>\n",
              "      <td>Manhattan</td>\n",
              "      <td>Entire home/apt</td>\n",
              "      <td>40.76354</td>\n",
              "      <td>-73.99283</td>\n",
              "      <td>100</td>\n",
              "      <td>30</td>\n",
              "      <td>3</td>\n",
              "      <td>0.21</td>\n",
              "      <td>31</td>\n",
              "      <td>270</td>\n",
              "      <td>0</td>\n",
              "    </tr>\n",
              "    <tr>\n",
              "      <th>46572</th>\n",
              "      <td>Manhattan</td>\n",
              "      <td>Entire home/apt</td>\n",
              "      <td>40.76786</td>\n",
              "      <td>-73.95639</td>\n",
              "      <td>260</td>\n",
              "      <td>7</td>\n",
              "      <td>1</td>\n",
              "      <td>1.00</td>\n",
              "      <td>1</td>\n",
              "      <td>43</td>\n",
              "      <td>1</td>\n",
              "    </tr>\n",
              "    <tr>\n",
              "      <th>19902</th>\n",
              "      <td>Manhattan</td>\n",
              "      <td>Entire home/apt</td>\n",
              "      <td>40.73316</td>\n",
              "      <td>-74.00476</td>\n",
              "      <td>147</td>\n",
              "      <td>1</td>\n",
              "      <td>42</td>\n",
              "      <td>1.32</td>\n",
              "      <td>1</td>\n",
              "      <td>4</td>\n",
              "      <td>0</td>\n",
              "    </tr>\n",
              "    <tr>\n",
              "      <th>14159</th>\n",
              "      <td>Brooklyn</td>\n",
              "      <td>Private room</td>\n",
              "      <td>40.72527</td>\n",
              "      <td>-73.94803</td>\n",
              "      <td>34</td>\n",
              "      <td>1</td>\n",
              "      <td>0</td>\n",
              "      <td>0.00</td>\n",
              "      <td>1</td>\n",
              "      <td>0</td>\n",
              "      <td>0</td>\n",
              "    </tr>\n",
              "    <tr>\n",
              "      <th>28528</th>\n",
              "      <td>Brooklyn</td>\n",
              "      <td>Private room</td>\n",
              "      <td>40.67520</td>\n",
              "      <td>-73.94366</td>\n",
              "      <td>65</td>\n",
              "      <td>1</td>\n",
              "      <td>0</td>\n",
              "      <td>0.00</td>\n",
              "      <td>1</td>\n",
              "      <td>0</td>\n",
              "      <td>0</td>\n",
              "    </tr>\n",
              "  </tbody>\n",
              "</table>\n",
              "</div>"
            ],
            "text/plain": [
              "      neighbourhood_group        room_type  ...  availability_365  above_average\n",
              "32645            Brooklyn  Entire home/apt  ...                 1              1\n",
              "23615           Manhattan     Private room  ...                 0              0\n",
              "31183            Brooklyn     Private room  ...                 0              0\n",
              "29260            Brooklyn  Entire home/apt  ...               267              0\n",
              "7275               Queens     Private room  ...                 0              0\n",
              "26011           Manhattan  Entire home/apt  ...               270              0\n",
              "46572           Manhattan  Entire home/apt  ...                43              1\n",
              "19902           Manhattan  Entire home/apt  ...                 4              0\n",
              "14159            Brooklyn     Private room  ...                 0              0\n",
              "28528            Brooklyn     Private room  ...                 0              0\n",
              "\n",
              "[10 rows x 11 columns]"
            ]
          },
          "metadata": {},
          "execution_count": 126
        }
      ]
    },
    {
      "cell_type": "code",
      "metadata": {
        "id": "YPZr1x3DvsQ2"
      },
      "source": [
        "#60% Train, 20% Val (25% from Full Train -> 20%/80%)\n",
        "df_train, df_val = train_test_split(df_full_train, test_size=0.25, random_state=42)\n",
        "\n",
        "y_train = df_train.above_average.values\n",
        "y_val = df_val.above_average.values\n",
        "\n",
        "y_train_q6 = np.log1p(df_train.price.values)\n",
        "y_val_q6 = np.log1p(df_val.price.values)\n",
        "y_test = np.log1p(df_test.price.values)\n",
        "\n",
        "del df_train['price']\n",
        "del df_val['price']\n",
        "del df_test['price']"
      ],
      "execution_count": 127,
      "outputs": []
    },
    {
      "cell_type": "code",
      "metadata": {
        "colab": {
          "base_uri": "https://localhost:8080/"
        },
        "id": "e1y24pNxUu11",
        "outputId": "0a2cc0c8-b6ec-4abd-9f2f-2cde86b0aa55"
      },
      "source": [
        "print('Train Full:', len(df_full_train), \n",
        "      '(', (len(df_full_train)/len(HW_df))*100, '%)') \n",
        "print('Train:', len(df_train), \n",
        "      '(', (len(df_train)/len(HW_df))*100, '%)') \n",
        "print('Validation:', len(df_val), \n",
        "      '(', (len(df_val)/len(HW_df))*100, '%)') \n",
        "print('Test:', len(df_test), \n",
        "      '(', (len(df_test)/len(HW_df))*100, '%)') "
      ],
      "execution_count": 124,
      "outputs": [
        {
          "output_type": "stream",
          "name": "stdout",
          "text": [
            "Train Full: 39116 ( 80.0 %)\n",
            "Train: 29337 ( 60.0 %)\n",
            "Validation: 9779 ( 20.0 %)\n",
            "Test: 9779 ( 20.0 %)\n"
          ]
        }
      ]
    },
    {
      "cell_type": "markdown",
      "metadata": {
        "id": "-8YrlCUSZ-Dr"
      },
      "source": [
        "------------------------------------------------------------------------------\n",
        "ANS Q2:"
      ]
    },
    {
      "cell_type": "code",
      "metadata": {
        "colab": {
          "base_uri": "https://localhost:8080/",
          "height": 352
        },
        "id": "A9lgVa2UY0lx",
        "outputId": "e468925c-14d4-4651-dc62-51c8bf5fbb18"
      },
      "source": [
        "corr_train = df_full_train.corr()\n",
        "corr_train"
      ],
      "execution_count": 14,
      "outputs": [
        {
          "output_type": "execute_result",
          "data": {
            "text/html": [
              "<div>\n",
              "<style scoped>\n",
              "    .dataframe tbody tr th:only-of-type {\n",
              "        vertical-align: middle;\n",
              "    }\n",
              "\n",
              "    .dataframe tbody tr th {\n",
              "        vertical-align: top;\n",
              "    }\n",
              "\n",
              "    .dataframe thead th {\n",
              "        text-align: right;\n",
              "    }\n",
              "</style>\n",
              "<table border=\"1\" class=\"dataframe\">\n",
              "  <thead>\n",
              "    <tr style=\"text-align: right;\">\n",
              "      <th></th>\n",
              "      <th>latitude</th>\n",
              "      <th>longitude</th>\n",
              "      <th>price</th>\n",
              "      <th>minimum_nights</th>\n",
              "      <th>number_of_reviews</th>\n",
              "      <th>reviews_per_month</th>\n",
              "      <th>calculated_host_listings_count</th>\n",
              "      <th>availability_365</th>\n",
              "      <th>above_average</th>\n",
              "    </tr>\n",
              "  </thead>\n",
              "  <tbody>\n",
              "    <tr>\n",
              "      <th>latitude</th>\n",
              "      <td>1.000000</td>\n",
              "      <td>0.080704</td>\n",
              "      <td>0.035015</td>\n",
              "      <td>0.025497</td>\n",
              "      <td>-0.011836</td>\n",
              "      <td>-0.013809</td>\n",
              "      <td>0.020299</td>\n",
              "      <td>-0.008341</td>\n",
              "      <td>0.056281</td>\n",
              "    </tr>\n",
              "    <tr>\n",
              "      <th>longitude</th>\n",
              "      <td>0.080704</td>\n",
              "      <td>1.000000</td>\n",
              "      <td>-0.149080</td>\n",
              "      <td>-0.063498</td>\n",
              "      <td>0.057570</td>\n",
              "      <td>0.134401</td>\n",
              "      <td>-0.115289</td>\n",
              "      <td>0.082994</td>\n",
              "      <td>-0.267852</td>\n",
              "    </tr>\n",
              "    <tr>\n",
              "      <th>price</th>\n",
              "      <td>0.035015</td>\n",
              "      <td>-0.149080</td>\n",
              "      <td>1.000000</td>\n",
              "      <td>0.042740</td>\n",
              "      <td>-0.048926</td>\n",
              "      <td>-0.051978</td>\n",
              "      <td>0.055336</td>\n",
              "      <td>0.080562</td>\n",
              "      <td>0.411250</td>\n",
              "    </tr>\n",
              "    <tr>\n",
              "      <th>minimum_nights</th>\n",
              "      <td>0.025497</td>\n",
              "      <td>-0.063498</td>\n",
              "      <td>0.042740</td>\n",
              "      <td>1.000000</td>\n",
              "      <td>-0.077860</td>\n",
              "      <td>-0.121687</td>\n",
              "      <td>0.121748</td>\n",
              "      <td>0.140596</td>\n",
              "      <td>0.032320</td>\n",
              "    </tr>\n",
              "    <tr>\n",
              "      <th>number_of_reviews</th>\n",
              "      <td>-0.011836</td>\n",
              "      <td>0.057570</td>\n",
              "      <td>-0.048926</td>\n",
              "      <td>-0.077860</td>\n",
              "      <td>1.000000</td>\n",
              "      <td>0.584935</td>\n",
              "      <td>-0.072603</td>\n",
              "      <td>0.175428</td>\n",
              "      <td>-0.053921</td>\n",
              "    </tr>\n",
              "    <tr>\n",
              "      <th>reviews_per_month</th>\n",
              "      <td>-0.013809</td>\n",
              "      <td>0.134401</td>\n",
              "      <td>-0.051978</td>\n",
              "      <td>-0.121687</td>\n",
              "      <td>0.584935</td>\n",
              "      <td>1.000000</td>\n",
              "      <td>-0.047368</td>\n",
              "      <td>0.165565</td>\n",
              "      <td>-0.055888</td>\n",
              "    </tr>\n",
              "    <tr>\n",
              "      <th>calculated_host_listings_count</th>\n",
              "      <td>0.020299</td>\n",
              "      <td>-0.115289</td>\n",
              "      <td>0.055336</td>\n",
              "      <td>0.121748</td>\n",
              "      <td>-0.072603</td>\n",
              "      <td>-0.047368</td>\n",
              "      <td>1.000000</td>\n",
              "      <td>0.223328</td>\n",
              "      <td>0.171793</td>\n",
              "    </tr>\n",
              "    <tr>\n",
              "      <th>availability_365</th>\n",
              "      <td>-0.008341</td>\n",
              "      <td>0.082994</td>\n",
              "      <td>0.080562</td>\n",
              "      <td>0.140596</td>\n",
              "      <td>0.175428</td>\n",
              "      <td>0.165565</td>\n",
              "      <td>0.223328</td>\n",
              "      <td>1.000000</td>\n",
              "      <td>0.102623</td>\n",
              "    </tr>\n",
              "    <tr>\n",
              "      <th>above_average</th>\n",
              "      <td>0.056281</td>\n",
              "      <td>-0.267852</td>\n",
              "      <td>0.411250</td>\n",
              "      <td>0.032320</td>\n",
              "      <td>-0.053921</td>\n",
              "      <td>-0.055888</td>\n",
              "      <td>0.171793</td>\n",
              "      <td>0.102623</td>\n",
              "      <td>1.000000</td>\n",
              "    </tr>\n",
              "  </tbody>\n",
              "</table>\n",
              "</div>"
            ],
            "text/plain": [
              "                                latitude  ...  above_average\n",
              "latitude                        1.000000  ...       0.056281\n",
              "longitude                       0.080704  ...      -0.267852\n",
              "price                           0.035015  ...       0.411250\n",
              "minimum_nights                  0.025497  ...       0.032320\n",
              "number_of_reviews              -0.011836  ...      -0.053921\n",
              "reviews_per_month              -0.013809  ...      -0.055888\n",
              "calculated_host_listings_count  0.020299  ...       0.171793\n",
              "availability_365               -0.008341  ...       0.102623\n",
              "above_average                   0.056281  ...       1.000000\n",
              "\n",
              "[9 rows x 9 columns]"
            ]
          },
          "metadata": {},
          "execution_count": 14
        }
      ]
    },
    {
      "cell_type": "markdown",
      "metadata": {
        "id": "s4P60NVH1dIV"
      },
      "source": [
        "------------------------------------------------------------------------------\n",
        "ANS Q3:"
      ]
    },
    {
      "cell_type": "code",
      "metadata": {
        "id": "ndC77vu03Kz2"
      },
      "source": [
        "categorical = ['neighbourhood_group', 'room_type']"
      ],
      "execution_count": 15,
      "outputs": []
    },
    {
      "cell_type": "code",
      "metadata": {
        "colab": {
          "base_uri": "https://localhost:8080/"
        },
        "id": "VZR5oKqj3W5P",
        "outputId": "0a88b619-203b-4975-f847-a9fdf6ae3b04"
      },
      "source": [
        "df_train[categorical].nunique() "
      ],
      "execution_count": 16,
      "outputs": [
        {
          "output_type": "execute_result",
          "data": {
            "text/plain": [
              "neighbourhood_group    5\n",
              "room_type              3\n",
              "dtype: int64"
            ]
          },
          "metadata": {},
          "execution_count": 16
        }
      ]
    },
    {
      "cell_type": "code",
      "metadata": {
        "colab": {
          "base_uri": "https://localhost:8080/",
          "height": 424
        },
        "id": "uLD6Thnfb8gB",
        "outputId": "c8ae06f7-cdec-4029-90d2-1887943b6c04"
      },
      "source": [
        "df_train[categorical]"
      ],
      "execution_count": 17,
      "outputs": [
        {
          "output_type": "execute_result",
          "data": {
            "text/html": [
              "<div>\n",
              "<style scoped>\n",
              "    .dataframe tbody tr th:only-of-type {\n",
              "        vertical-align: middle;\n",
              "    }\n",
              "\n",
              "    .dataframe tbody tr th {\n",
              "        vertical-align: top;\n",
              "    }\n",
              "\n",
              "    .dataframe thead th {\n",
              "        text-align: right;\n",
              "    }\n",
              "</style>\n",
              "<table border=\"1\" class=\"dataframe\">\n",
              "  <thead>\n",
              "    <tr style=\"text-align: right;\">\n",
              "      <th></th>\n",
              "      <th>neighbourhood_group</th>\n",
              "      <th>room_type</th>\n",
              "    </tr>\n",
              "  </thead>\n",
              "  <tbody>\n",
              "    <tr>\n",
              "      <th>13575</th>\n",
              "      <td>Brooklyn</td>\n",
              "      <td>Entire home/apt</td>\n",
              "    </tr>\n",
              "    <tr>\n",
              "      <th>48476</th>\n",
              "      <td>Manhattan</td>\n",
              "      <td>Private room</td>\n",
              "    </tr>\n",
              "    <tr>\n",
              "      <th>44499</th>\n",
              "      <td>Bronx</td>\n",
              "      <td>Entire home/apt</td>\n",
              "    </tr>\n",
              "    <tr>\n",
              "      <th>17382</th>\n",
              "      <td>Brooklyn</td>\n",
              "      <td>Entire home/apt</td>\n",
              "    </tr>\n",
              "    <tr>\n",
              "      <th>14638</th>\n",
              "      <td>Manhattan</td>\n",
              "      <td>Private room</td>\n",
              "    </tr>\n",
              "    <tr>\n",
              "      <th>...</th>\n",
              "      <td>...</td>\n",
              "      <td>...</td>\n",
              "    </tr>\n",
              "    <tr>\n",
              "      <th>13198</th>\n",
              "      <td>Brooklyn</td>\n",
              "      <td>Private room</td>\n",
              "    </tr>\n",
              "    <tr>\n",
              "      <th>14583</th>\n",
              "      <td>Brooklyn</td>\n",
              "      <td>Private room</td>\n",
              "    </tr>\n",
              "    <tr>\n",
              "      <th>6168</th>\n",
              "      <td>Manhattan</td>\n",
              "      <td>Private room</td>\n",
              "    </tr>\n",
              "    <tr>\n",
              "      <th>12248</th>\n",
              "      <td>Brooklyn</td>\n",
              "      <td>Private room</td>\n",
              "    </tr>\n",
              "    <tr>\n",
              "      <th>20523</th>\n",
              "      <td>Brooklyn</td>\n",
              "      <td>Entire home/apt</td>\n",
              "    </tr>\n",
              "  </tbody>\n",
              "</table>\n",
              "<p>29337 rows × 2 columns</p>\n",
              "</div>"
            ],
            "text/plain": [
              "      neighbourhood_group        room_type\n",
              "13575            Brooklyn  Entire home/apt\n",
              "48476           Manhattan     Private room\n",
              "44499               Bronx  Entire home/apt\n",
              "17382            Brooklyn  Entire home/apt\n",
              "14638           Manhattan     Private room\n",
              "...                   ...              ...\n",
              "13198            Brooklyn     Private room\n",
              "14583            Brooklyn     Private room\n",
              "6168            Manhattan     Private room\n",
              "12248            Brooklyn     Private room\n",
              "20523            Brooklyn  Entire home/apt\n",
              "\n",
              "[29337 rows x 2 columns]"
            ]
          },
          "metadata": {},
          "execution_count": 17
        }
      ]
    },
    {
      "cell_type": "code",
      "metadata": {
        "id": "CcYTbhr11P50"
      },
      "source": [
        "def mutual_info_price_scores(series):\n",
        "  return mutual_info_score(series, df_full_train.above_average)"
      ],
      "execution_count": 18,
      "outputs": []
    },
    {
      "cell_type": "code",
      "metadata": {
        "colab": {
          "base_uri": "https://localhost:8080/"
        },
        "id": "oSm4Zqsi2DB-",
        "outputId": "dc3cc9a9-8f4b-4e78-eafa-1c93e0a03a5e"
      },
      "source": [
        "MI = df_full_train[categorical].apply(mutual_info_price_scores)\n",
        "round(MI.sort_values(ascending=False), 2)"
      ],
      "execution_count": 19,
      "outputs": [
        {
          "output_type": "execute_result",
          "data": {
            "text/plain": [
              "room_type              0.14\n",
              "neighbourhood_group    0.05\n",
              "dtype: float64"
            ]
          },
          "metadata": {},
          "execution_count": 19
        }
      ]
    },
    {
      "cell_type": "code",
      "metadata": {
        "id": "GfUhl4f-eUB2"
      },
      "source": [
        "numerical = ['latitude',\n",
        "             'longitude',\n",
        "             'minimum_nights',\n",
        "             'number_of_reviews',\n",
        "             'reviews_per_month',\n",
        "             'calculated_host_listings_count',\n",
        "             'availability_365']"
      ],
      "execution_count": 20,
      "outputs": []
    },
    {
      "cell_type": "code",
      "metadata": {
        "id": "dklMc8ujcFhn"
      },
      "source": [
        "dv = DictVectorizer(sparse=False)"
      ],
      "execution_count": 21,
      "outputs": []
    },
    {
      "cell_type": "markdown",
      "metadata": {
        "id": "qRgxI2yRi4JL"
      },
      "source": [
        "------------------------------------------------------------------------------\n",
        "OHE for Categorical Data, and Create X_train and X_val"
      ]
    },
    {
      "cell_type": "code",
      "metadata": {
        "id": "Km5rhjygf3Ji"
      },
      "source": [
        "def OHE_DV(df):\n",
        "  dicts = df[categorical+numerical].to_dict(orient='records')\n",
        "  X_data = dv.fit_transform(dicts)\n",
        "\n",
        "  return X_data"
      ],
      "execution_count": 81,
      "outputs": []
    },
    {
      "cell_type": "code",
      "metadata": {
        "colab": {
          "base_uri": "https://localhost:8080/"
        },
        "id": "ZBGESnFTgcvr",
        "outputId": "bb1025b5-999f-4c80-b072-34b21b69f6f7"
      },
      "source": [
        "X_train = OHE_DV(df_train)\n",
        "X_train[0]"
      ],
      "execution_count": 82,
      "outputs": [
        {
          "output_type": "execute_result",
          "data": {
            "text/plain": [
              "array([ 50.     ,  13.     ,  40.7276 , -73.94495,   3.     ,   0.     ,\n",
              "         1.     ,   0.     ,   0.     ,   0.     ,  29.     ,   0.7    ,\n",
              "         1.     ,   0.     ,   0.     ])"
            ]
          },
          "metadata": {},
          "execution_count": 82
        }
      ]
    },
    {
      "cell_type": "code",
      "metadata": {
        "colab": {
          "base_uri": "https://localhost:8080/"
        },
        "id": "HB4_IdAEgxSn",
        "outputId": "a4112360-9abc-45a7-8fc2-8de3e8b5c51c"
      },
      "source": [
        "X_val = OHE_DV(df_val)\n",
        "X_val.shape"
      ],
      "execution_count": 83,
      "outputs": [
        {
          "output_type": "execute_result",
          "data": {
            "text/plain": [
              "(9779, 15)"
            ]
          },
          "metadata": {},
          "execution_count": 83
        }
      ]
    },
    {
      "cell_type": "code",
      "metadata": {
        "colab": {
          "base_uri": "https://localhost:8080/"
        },
        "id": "UAUkX5d3dTUk",
        "outputId": "b4ea8496-d182-4355-f6a3-97d5f92c8ed0"
      },
      "source": [
        "dv.get_feature_names()"
      ],
      "execution_count": 84,
      "outputs": [
        {
          "output_type": "execute_result",
          "data": {
            "text/plain": [
              "['availability_365',\n",
              " 'calculated_host_listings_count',\n",
              " 'latitude',\n",
              " 'longitude',\n",
              " 'minimum_nights',\n",
              " 'neighbourhood_group=Bronx',\n",
              " 'neighbourhood_group=Brooklyn',\n",
              " 'neighbourhood_group=Manhattan',\n",
              " 'neighbourhood_group=Queens',\n",
              " 'neighbourhood_group=Staten Island',\n",
              " 'number_of_reviews',\n",
              " 'reviews_per_month',\n",
              " 'room_type=Entire home/apt',\n",
              " 'room_type=Private room',\n",
              " 'room_type=Shared room']"
            ]
          },
          "metadata": {},
          "execution_count": 84
        }
      ]
    },
    {
      "cell_type": "markdown",
      "metadata": {
        "id": "M-eH85_NjlYh"
      },
      "source": [
        "------------------------------------------------------------------------------\n",
        "ANS Q4:"
      ]
    },
    {
      "cell_type": "code",
      "metadata": {
        "colab": {
          "base_uri": "https://localhost:8080/"
        },
        "id": "DI9nlmc9joUY",
        "outputId": "3026d47a-28fe-48c1-b76a-68f5b39babca"
      },
      "source": [
        "model = LogisticRegression(solver='liblinear', C=1.0, random_state=42, max_iter=1000)\n",
        "model.fit(X_train, y_train)"
      ],
      "execution_count": 85,
      "outputs": [
        {
          "output_type": "execute_result",
          "data": {
            "text/plain": [
              "LogisticRegression(C=1.0, class_weight=None, dual=False, fit_intercept=True,\n",
              "                   intercept_scaling=1, l1_ratio=None, max_iter=1000,\n",
              "                   multi_class='auto', n_jobs=None, penalty='l2',\n",
              "                   random_state=42, solver='liblinear', tol=0.0001, verbose=0,\n",
              "                   warm_start=False)"
            ]
          },
          "metadata": {},
          "execution_count": 85
        }
      ]
    },
    {
      "cell_type": "code",
      "metadata": {
        "colab": {
          "base_uri": "https://localhost:8080/"
        },
        "id": "qVJifunAk889",
        "outputId": "c3c842eb-c513-4d05-8ec9-b89b725e2e30"
      },
      "source": [
        "y_pred_val = model.predict(X_val)\n",
        "y_pred_val"
      ],
      "execution_count": 86,
      "outputs": [
        {
          "output_type": "execute_result",
          "data": {
            "text/plain": [
              "array([0, 1, 0, ..., 0, 0, 1])"
            ]
          },
          "metadata": {},
          "execution_count": 86
        }
      ]
    },
    {
      "cell_type": "code",
      "metadata": {
        "colab": {
          "base_uri": "https://localhost:8080/"
        },
        "id": "7Qhv8sFwuSex",
        "outputId": "fb3b3d5d-7f4a-43a7-b3dd-1ed13f9fc812"
      },
      "source": [
        "from sklearn.metrics import accuracy_score\n",
        "\n",
        "acc = accuracy_score(y_pred_val, y_val)\n",
        "print('Model Accuracy : ', round(acc, 2))"
      ],
      "execution_count": 87,
      "outputs": [
        {
          "output_type": "stream",
          "name": "stdout",
          "text": [
            "Model Accuracy :  0.79\n"
          ]
        }
      ]
    },
    {
      "cell_type": "markdown",
      "metadata": {
        "id": "5pxYw8fKzID2"
      },
      "source": [
        "-------------------------------------------------------------------------------\n",
        "ANS Q5:"
      ]
    },
    {
      "cell_type": "code",
      "metadata": {
        "colab": {
          "base_uri": "https://localhost:8080/",
          "height": 118
        },
        "id": "ELXDOtY2pADi",
        "outputId": "de3d573a-820a-46a4-c83e-46cd10bc0dfd"
      },
      "source": [
        "df_train.head(1)"
      ],
      "execution_count": 101,
      "outputs": [
        {
          "output_type": "execute_result",
          "data": {
            "text/html": [
              "<div>\n",
              "<style scoped>\n",
              "    .dataframe tbody tr th:only-of-type {\n",
              "        vertical-align: middle;\n",
              "    }\n",
              "\n",
              "    .dataframe tbody tr th {\n",
              "        vertical-align: top;\n",
              "    }\n",
              "\n",
              "    .dataframe thead th {\n",
              "        text-align: right;\n",
              "    }\n",
              "</style>\n",
              "<table border=\"1\" class=\"dataframe\">\n",
              "  <thead>\n",
              "    <tr style=\"text-align: right;\">\n",
              "      <th></th>\n",
              "      <th>neighbourhood_group</th>\n",
              "      <th>room_type</th>\n",
              "      <th>latitude</th>\n",
              "      <th>longitude</th>\n",
              "      <th>minimum_nights</th>\n",
              "      <th>number_of_reviews</th>\n",
              "      <th>reviews_per_month</th>\n",
              "      <th>calculated_host_listings_count</th>\n",
              "      <th>availability_365</th>\n",
              "      <th>above_average</th>\n",
              "    </tr>\n",
              "  </thead>\n",
              "  <tbody>\n",
              "    <tr>\n",
              "      <th>13575</th>\n",
              "      <td>Brooklyn</td>\n",
              "      <td>Entire home/apt</td>\n",
              "      <td>40.7276</td>\n",
              "      <td>-73.94495</td>\n",
              "      <td>3</td>\n",
              "      <td>29</td>\n",
              "      <td>0.7</td>\n",
              "      <td>13</td>\n",
              "      <td>50</td>\n",
              "      <td>0</td>\n",
              "    </tr>\n",
              "  </tbody>\n",
              "</table>\n",
              "</div>"
            ],
            "text/plain": [
              "      neighbourhood_group        room_type  ...  availability_365  above_average\n",
              "13575            Brooklyn  Entire home/apt  ...                50              0\n",
              "\n",
              "[1 rows x 10 columns]"
            ]
          },
          "metadata": {},
          "execution_count": 101
        }
      ]
    },
    {
      "cell_type": "code",
      "metadata": {
        "id": "dYqhBC2QoblU"
      },
      "source": [
        "def OHE_DV_q5(df,elim):\n",
        "  dicts = df[categorical+numerical]\n",
        "  del dicts[elim]\n",
        "  \n",
        "  dicts = dicts.to_dict(orient='records')\n",
        "  \n",
        "  X_data = dv.fit_transform(dicts)\n",
        "\n",
        "  return X_data"
      ],
      "execution_count": 100,
      "outputs": []
    },
    {
      "cell_type": "code",
      "metadata": {
        "id": "Xz8j9JI72-Mh"
      },
      "source": [
        "elim = ['neighbourhood_group', 'room_type',\n",
        "        'number_of_reviews', 'reviews_per_month'\n",
        "        ]"
      ],
      "execution_count": 102,
      "outputs": []
    },
    {
      "cell_type": "code",
      "metadata": {
        "colab": {
          "base_uri": "https://localhost:8080/"
        },
        "id": "yKqdLQimktOx",
        "outputId": "0c478456-04bc-4154-a3a5-ee168a42b111"
      },
      "source": [
        "for e in elim:\n",
        "  print(e)"
      ],
      "execution_count": 103,
      "outputs": [
        {
          "output_type": "stream",
          "name": "stdout",
          "text": [
            "neighbourhood_group\n",
            "room_type\n",
            "number_of_reviews\n",
            "reviews_per_month\n"
          ]
        }
      ]
    },
    {
      "cell_type": "code",
      "metadata": {
        "id": "1mbnb6yzm4Xf"
      },
      "source": [
        "  df_train_q5 = df_train\n",
        "  df_val_q5 = df_val"
      ],
      "execution_count": 107,
      "outputs": []
    },
    {
      "cell_type": "code",
      "metadata": {
        "colab": {
          "base_uri": "https://localhost:8080/",
          "height": 118
        },
        "id": "qJt63npJm_o3",
        "outputId": "1b3c5797-5ad0-4822-a48f-28489c3b9277"
      },
      "source": [
        "df_train_q5.head(1)"
      ],
      "execution_count": 108,
      "outputs": [
        {
          "output_type": "execute_result",
          "data": {
            "text/html": [
              "<div>\n",
              "<style scoped>\n",
              "    .dataframe tbody tr th:only-of-type {\n",
              "        vertical-align: middle;\n",
              "    }\n",
              "\n",
              "    .dataframe tbody tr th {\n",
              "        vertical-align: top;\n",
              "    }\n",
              "\n",
              "    .dataframe thead th {\n",
              "        text-align: right;\n",
              "    }\n",
              "</style>\n",
              "<table border=\"1\" class=\"dataframe\">\n",
              "  <thead>\n",
              "    <tr style=\"text-align: right;\">\n",
              "      <th></th>\n",
              "      <th>neighbourhood_group</th>\n",
              "      <th>room_type</th>\n",
              "      <th>latitude</th>\n",
              "      <th>longitude</th>\n",
              "      <th>minimum_nights</th>\n",
              "      <th>number_of_reviews</th>\n",
              "      <th>reviews_per_month</th>\n",
              "      <th>calculated_host_listings_count</th>\n",
              "      <th>availability_365</th>\n",
              "      <th>above_average</th>\n",
              "    </tr>\n",
              "  </thead>\n",
              "  <tbody>\n",
              "    <tr>\n",
              "      <th>13575</th>\n",
              "      <td>Brooklyn</td>\n",
              "      <td>Entire home/apt</td>\n",
              "      <td>40.7276</td>\n",
              "      <td>-73.94495</td>\n",
              "      <td>3</td>\n",
              "      <td>29</td>\n",
              "      <td>0.7</td>\n",
              "      <td>13</td>\n",
              "      <td>50</td>\n",
              "      <td>0</td>\n",
              "    </tr>\n",
              "  </tbody>\n",
              "</table>\n",
              "</div>"
            ],
            "text/plain": [
              "      neighbourhood_group        room_type  ...  availability_365  above_average\n",
              "13575            Brooklyn  Entire home/apt  ...                50              0\n",
              "\n",
              "[1 rows x 10 columns]"
            ]
          },
          "metadata": {},
          "execution_count": 108
        }
      ]
    },
    {
      "cell_type": "code",
      "metadata": {
        "colab": {
          "base_uri": "https://localhost:8080/"
        },
        "id": "mfvMpusPzMyR",
        "outputId": "abfe4a1f-e40e-4da0-f20e-579c07d296e0"
      },
      "source": [
        "acc_list_q5 = []\n",
        "\n",
        "for e in elim:\n",
        "\n",
        "  df_train_q5 = df_train\n",
        "  df_val_q5 = df_val\n",
        "\n",
        "  X_train_q5 = OHE_DV_q5(df_train_q5, e)\n",
        "  X_val_q5 = OHE_DV_q5(df_val_q5, e)\n",
        "\n",
        "  model_q5 = LogisticRegression(solver='liblinear', C=1.0, random_state=42, max_iter=1000)\n",
        "  model_q5.fit(X_train_q5, y_train)\n",
        "\n",
        "  y_pred_val_q5 = model_q5.predict(X_val_q5)\n",
        "  \n",
        "  acc_q5 = accuracy_score(y_pred_val_q5, y_val)\n",
        "\n",
        "  print(e, X_train_q5.shape, X_val_q5.shape, round(acc_q5, 2))\n",
        "\n",
        "  acc_list_q5.append(round(acc_q5, 2))"
      ],
      "execution_count": 118,
      "outputs": [
        {
          "output_type": "stream",
          "name": "stdout",
          "text": [
            "neighbourhood_group (29337, 10) (9779, 10) 0.75\n",
            "room_type (29337, 12) (9779, 12) 0.73\n",
            "number_of_reviews (29337, 14) (9779, 14) 0.79\n",
            "reviews_per_month (29337, 14) (9779, 14) 0.79\n"
          ]
        }
      ]
    },
    {
      "cell_type": "code",
      "metadata": {
        "colab": {
          "base_uri": "https://localhost:8080/"
        },
        "id": "AaqnKAha59dD",
        "outputId": "ca8f078d-5d88-4590-f1c3-d7b2bbdf1db8"
      },
      "source": [
        "acc_list_q5"
      ],
      "execution_count": 110,
      "outputs": [
        {
          "output_type": "execute_result",
          "data": {
            "text/plain": [
              "[0.75, 0.73, 0.79, 0.79]"
            ]
          },
          "metadata": {},
          "execution_count": 110
        }
      ]
    },
    {
      "cell_type": "code",
      "metadata": {
        "colab": {
          "base_uri": "https://localhost:8080/"
        },
        "id": "-J3lwj5HqGwZ",
        "outputId": "ef90c4e7-658a-496b-d626-c608c420b99a"
      },
      "source": [
        "acc_diff = round(acc, 2) - acc_list_q5\n",
        "acc_diff = acc_diff.tolist()\n",
        "acc_diff"
      ],
      "execution_count": 117,
      "outputs": [
        {
          "output_type": "execute_result",
          "data": {
            "text/plain": [
              "[0.040000000000000036, 0.06000000000000005, 0.0, 0.0]"
            ]
          },
          "metadata": {},
          "execution_count": 117
        }
      ]
    },
    {
      "cell_type": "markdown",
      "metadata": {
        "id": "nYttwal6q8nu"
      },
      "source": [
        "------------------------------------------------------------------------------\n",
        "ANS Q6:"
      ]
    },
    {
      "cell_type": "code",
      "metadata": {
        "id": "JRpV88GCs_kP"
      },
      "source": [
        "def RMSE(y, y_pred):\n",
        "  e = y_pred - y\n",
        "  mse = (e ** 2).mean()\n",
        "  rmse_val = np.sqrt(mse)\n",
        "\n",
        "  return rmse_val"
      ],
      "execution_count": 129,
      "outputs": []
    },
    {
      "cell_type": "code",
      "metadata": {
        "colab": {
          "base_uri": "https://localhost:8080/"
        },
        "id": "1aC4qvcNq99b",
        "outputId": "8221ebfa-a405-4385-d054-be73bff7ca22"
      },
      "source": [
        "RMSE_list = []\n",
        "for alpha in [0, 0.01, 0.1, 1, 10]:\n",
        "  X_train_q6 = OHE_DV(df_train)\n",
        "  X_val_q6 = OHE_DV(df_val)\n",
        "\n",
        "  model_q6 = Ridge(alpha=alpha, solver='svd')\n",
        "  model_q6.fit(X_train_q6, y_train_q6)\n",
        "\n",
        "  y_pred_val_q6 = model_q6.predict(X_val_q6)\n",
        "\n",
        "  RMSE_score = round(RMSE(y_val_q6, y_pred_val_q6), 3)\n",
        "\n",
        "  RMSE_list.append(RMSE_score)\n",
        "\n",
        "  print('Alpha = %4s' %alpha, '-> RMSE value = ', RMSE_score)"
      ],
      "execution_count": 134,
      "outputs": [
        {
          "output_type": "stream",
          "name": "stdout",
          "text": [
            "Alpha =    0 -> RMSE value =  0.497\n",
            "Alpha = 0.01 -> RMSE value =  0.497\n",
            "Alpha =  0.1 -> RMSE value =  0.497\n",
            "Alpha =    1 -> RMSE value =  0.497\n",
            "Alpha =   10 -> RMSE value =  0.498\n"
          ]
        }
      ]
    }
  ]
}